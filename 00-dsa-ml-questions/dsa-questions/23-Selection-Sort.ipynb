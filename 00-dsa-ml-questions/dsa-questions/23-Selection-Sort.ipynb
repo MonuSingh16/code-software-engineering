{
 "cells": [
  {
   "attachments": {},
   "cell_type": "markdown",
   "metadata": {},
   "source": [
    "**Selection Sort**\n",
    "\n",
    "Use Selection Sort array to sort the array"
   ]
  },
  {
   "cell_type": "code",
   "execution_count": 1,
   "metadata": {},
   "outputs": [],
   "source": [
    "# O(n^2) - T and O(1) - space\n",
    "def selectionSort(array):\n",
    "    # Write your code here.\n",
    "    currentIdx = 0\n",
    "    while currentIdx < len(array) - 1:\n",
    "        smallestIdx = currentIdx\n",
    "        for i in range(currentIdx + 1, len(array)):\n",
    "            if array[smallestIdx] > array[i]:\n",
    "                smallestIdx = i\n",
    "        swap(currentIdx, smallestIdx, array)\n",
    "        currentIdx += 1\n",
    "    return array\n",
    "\n",
    "def swap(i, j, array):\n",
    "    array[i], array[j] = array[j], array[i]"
   ]
  },
  {
   "cell_type": "code",
   "execution_count": null,
   "metadata": {},
   "outputs": [],
   "source": []
  }
 ],
 "metadata": {
  "kernelspec": {
   "display_name": "venv-interviews-3.9",
   "language": "python",
   "name": "python3"
  },
  "language_info": {
   "codemirror_mode": {
    "name": "ipython",
    "version": 3
   },
   "file_extension": ".py",
   "mimetype": "text/x-python",
   "name": "python",
   "nbconvert_exporter": "python",
   "pygments_lexer": "ipython3",
   "version": "3.9.16"
  },
  "orig_nbformat": 4
 },
 "nbformat": 4,
 "nbformat_minor": 2
}
