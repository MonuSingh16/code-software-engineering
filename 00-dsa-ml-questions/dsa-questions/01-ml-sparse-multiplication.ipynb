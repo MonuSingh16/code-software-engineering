{
 "cells": [
  {
   "cell_type": "markdown",
   "metadata": {},
   "source": [
    "## Sparse Matrix Multiplication\n",
    "\n",
    "Write function that takes in two integer matrices and multiplies them together. \n",
    "\n",
    "Bothe matrices will be sparse, meaning that most of thier element will be zero. Take advantage of that to reduce the number of total computations that your funtions performs"
   ]
  },
  {
   "cell_type": "code",
   "execution_count": 17,
   "metadata": {},
   "outputs": [
    {
     "name": "stdout",
     "output_type": "stream",
     "text": [
      "(2, 3) (3, 3)\n",
      "3 3\n"
     ]
    },
    {
     "data": {
      "text/plain": [
       "array([[ 0,  0,  0],\n",
       "       [ 0,  0, 20]])"
      ]
     },
     "execution_count": 17,
     "metadata": {},
     "output_type": "execute_result"
    }
   ],
   "source": [
    "import numpy as np\n",
    "matrix_a = [\n",
    "    [0, 2, 0],\n",
    "    [0, -3, 5],\n",
    "]\n",
    "\n",
    "matrix_b = [\n",
    "    [0, 10, 0],\n",
    "    [0, 0, 0],\n",
    "    [0, 0, 4],\n",
    "]\n",
    "\n",
    "print(np.array(matrix_a).shape, np.array(matrix_b).shape)\n",
    "\n",
    "def sparse_matrix_multiplication(matrix_a, matrix_b):\n",
    "    # Write your code here.\n",
    "    # Considering the matrix of shape (m, n)\n",
    "    n_a = np.array(matrix_a).shape[1]\n",
    "    m_b = np.array(matrix_b).shape[0]\n",
    "    print(n_a, m_b)\n",
    "\n",
    "    if n_a == m_b:\n",
    "        matrix_mul = np.dot(matrix_a, matrix_b)\n",
    "    else:\n",
    "        matrix_mul = [[]]\n",
    "    return matrix_mul\n",
    "\n",
    "sparse_matrix_multiplication(matrix_a, matrix_b)"
   ]
  },
  {
   "cell_type": "code",
   "execution_count": null,
   "metadata": {},
   "outputs": [],
   "source": []
  }
 ],
 "metadata": {
  "kernelspec": {
   "display_name": "Python 3",
   "language": "python",
   "name": "python3"
  },
  "language_info": {
   "name": "python",
   "version": "3.11.6"
  }
 },
 "nbformat": 4,
 "nbformat_minor": 2
}
