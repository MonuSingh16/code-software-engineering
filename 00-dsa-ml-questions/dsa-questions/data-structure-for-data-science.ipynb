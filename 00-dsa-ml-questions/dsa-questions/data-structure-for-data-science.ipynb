{
 "cells": [
  {
   "cell_type": "markdown",
   "metadata": {},
   "source": [
    "### Arrays -\n",
    "An array is a data structure that stores a collection of elements, each identified by an index or a key. Elements in an array are typically of the same data type and are stored in *contiguous memory locations*. The index allows for direct access to any element in the array. Arrays can be one-dimensional (a list), two-dimensional (a matrix), or multi-dimensional.\n",
    "\n",
    "##### 1. Space Complexity\n",
    "The space complexity of an array is O(n), where n is the number of elements in the array. Each element occupies a constant amount of space, but the total space required is proportional to the number of elements.\n",
    "\n",
    "##### 2. Time Complexity: \n",
    "Accessing an element in an array by index has a time complexity of O(1), as it involves direct addressing. Insertion and deletion operations may have a time complexity of O(n) in the worst case, as they may require shifting elements to maintain contiguous storage."
   ]
  },
  {
   "cell_type": "code",
   "execution_count": 4,
   "metadata": {},
   "outputs": [
    {
     "data": {
      "text/plain": [
       "26"
      ]
     },
     "execution_count": 4,
     "metadata": {},
     "output_type": "execute_result"
    }
   ],
   "source": [
    "# Q1: Find the Maximum Subarray Sum\n",
    "import numpy as np\n",
    "def max_sub_array_sum(nums):\n",
    "    max_sum = current_sum = nums[0]\n",
    "\n",
    "    for num in nums[1:]:\n",
    "        current_sum = max(num, current_sum + num)\n",
    "        max_sum = max(max_sum, current_sum)\n",
    "    return max_sum\n",
    "\n",
    "nums = np.array([1, 4, 5, 7, 9])\n",
    "res = max_sub_array_sum(nums)\n",
    "res\n",
    "\n",
    "# The time complexity is O(n), where n is the length of the array."
   ]
  },
  {
   "cell_type": "code",
   "execution_count": 20,
   "metadata": {},
   "outputs": [
    {
     "data": {
      "text/plain": [
       "array([1, 4])"
      ]
     },
     "execution_count": 20,
     "metadata": {},
     "output_type": "execute_result"
    }
   ],
   "source": [
    "nums[:-3]"
   ]
  },
  {
   "cell_type": "code",
   "execution_count": 24,
   "metadata": {},
   "outputs": [],
   "source": [
    "# Q2: Rotate an Array\n",
    "def rotate_array(nums, k):\n",
    "    n = len(nums)\n",
    "    k = k % n\n",
    "    nums[:] = nums[-k:] + nums[:-k]\n",
    "    print(nums)\n",
    "\n",
    "# The time complexity O(n), where n is the length of the array.\n"
   ]
  },
  {
   "cell_type": "code",
   "execution_count": 25,
   "metadata": {},
   "outputs": [],
   "source": [
    "# Q3: Implement an Array from Scratch\n",
    "\n",
    "class MyArray:\n",
    "    def __init__(self) -> None:\n",
    "        self.length = 0\n",
    "        self.data = {}\n",
    "    \n",
    "    def get(self, index):\n",
    "        return self.data[index]\n",
    "    \n",
    "    def push(self, item):\n",
    "        self.data[self.length] = item\n",
    "        self.length += 1\n",
    "\n",
    "    def pop(self):\n",
    "        if self.length == 0:\n",
    "            return None\n",
    "        popped_item = self.data[self.length - 1]\n",
    "        del self.data[self.length - 1]\n",
    "        self.length -= 1\n",
    "        return popped_item\n",
    "    \n",
    "# The time complexity is O(1) for get, push, and pop operations.\n"
   ]
  },
  {
   "cell_type": "code",
   "execution_count": null,
   "metadata": {},
   "outputs": [],
   "source": [
    "# Q4: Find the Single Number in an Array\n",
    "def single_number(nums):\n",
    "    result = 0\n",
    "    for num in nums:\n",
    "        result ^= num\n",
    "    return result\n",
    "\n",
    "# The time complexity is O(n), where n is the length of the array."
   ]
  },
  {
   "cell_type": "markdown",
   "metadata": {},
   "source": [
    "### Linked Lists\n",
    "\n",
    "A linked list is a linear data structure consisting of a sequence of elements, where each element points to the next element in the sequence through a reference or a “link.” Unlike arrays, where elements are stored in contiguous memory locations, linked lists allow elements to be scattered in memory, connected by these links. \n",
    "\n",
    "Each element, known as a “node,” comprises two parts: the actual data or payload, and a reference (pointer) to the next node in the sequence. In a doubly linked list, each node also contains a reference to the previous node.\n",
    "\n",
    "This structure enables dynamic memory allocation, efficient insertions, and deletions at any position within the list, and facilitates the creation of various types of linked lists, including singly linked lists, doubly linked lists, and circular linked lists. \n",
    "\n",
    "The flexibility of linked lists comes with a trade-off in terms of random access, as accessing an element at a specific index requires traversing the list from the beginning or end, resulting in a time complexity of O(n) for access operations. \n",
    "\n",
    "However, the dynamic nature and ease of manipulation make linked lists valuable in scenarios where frequent insertions and deletions are common, and the size of the data set is not known in advance.\n",
    "\n",
    "#### Time Complexity\n",
    "\n",
    "- Access: O(n) — Traversal is necessary.\n",
    "\n",
    "- Insertion/Deletion (at an arbitrary position): O(1) — If the node is given; otherwise, O(n).\n",
    "\n",
    "- Insertion/Deletion (at the beginning): O(1) — Constant time as no shifting is required."
   ]
  },
  {
   "cell_type": "code",
   "execution_count": 26,
   "metadata": {},
   "outputs": [],
   "source": [
    "# Q1: Reverse a Linked List\n",
    "\n",
    "def reverse_linked_list(head):\n",
    "    prev, current = None, head\n",
    "    while current:\n",
    "        next_node = current.next\n",
    "        current.next = prev\n",
    "        prev = current\n",
    "        current = next_node\n",
    "    return prev\n",
    "\n",
    "# Time Complexity is O(n) since the algorithm traverses the linked list once, visiting each node exactly once.\n"
   ]
  },
  {
   "cell_type": "code",
   "execution_count": 28,
   "metadata": {},
   "outputs": [],
   "source": [
    "# Q2: Find the Middle of a Linked List\n",
    "\n",
    "def find_middle(head):\n",
    "    slow = fast = head\n",
    "    while fast and fast.next:\n",
    "        slow = slow.next\n",
    "        fast = fast.next.next\n",
    "    return slow.value\n",
    "\n",
    "# Time Complexity is O(n) as the algorithm uses two pointers, one advancing twice as fast as the other.\n",
    "#  The slower pointer reaches the middle in one pass.\n"
   ]
  },
  {
   "cell_type": "code",
   "execution_count": null,
   "metadata": {},
   "outputs": [],
   "source": [
    "# Q3: Merge Two Sorted Arrays\n",
    "\n",
    "def merge_sorted_arrays(arr1, arr2):\n",
    "    result = []\n",
    "    i = j = 0\n",
    "    while i < len(arr1) and j < len(arr2):\n",
    "        if arr1[i] < arr2[j]:\n",
    "            result.append(arr1[i])\n",
    "            i += 1\n",
    "        else:\n",
    "            result.append(arr2[j])\n",
    "            j += 1\n",
    "    result.extend(arr1[i:])\n",
    "    result.extend(arr2[j:])\n",
    "\n",
    "    return result\n",
    "\n",
    "# Time Complexity is O(m + n) where m and n are the lengths of the two input arrays. \n",
    "# The algorithm linearly merges the two arrays."
   ]
  },
  {
   "cell_type": "markdown",
   "metadata": {},
   "source": [
    "### Stacks\n",
    "\n",
    "A stack is a linear data structure that follows the Last In, First Out (LIFO) principle. It means that the last element added to the stack is the first one to be removed. A stack can be visualized as a collection of elements with two main operations: push, which adds an element to the top of the stack, and pop, which removes the top element.\n",
    "\n",
    "#### Space Complexity\n",
    "Space Complexity: The space complexity of a stack is O(n), where n is the number of elements in the stack. In the worst case, the stack may need to store all elements.\n",
    "\n",
    "#### Time Complexity:\n",
    "Both push and pop operations have a time complexity of O(1), assuming a well-implemented stack."
   ]
  },
  {
   "cell_type": "code",
   "execution_count": 1,
   "metadata": {},
   "outputs": [],
   "source": [
    "# Q1: Implement a Stack Using an Array\n",
    "\n",
    "class Stack:\n",
    "    def __init__(self):\n",
    "        self.items = []\n",
    "\n",
    "    def push(self, item):\n",
    "        self.items.append(item)\n",
    "\n",
    "    def pop(self):\n",
    "        if not self.is_empty():\n",
    "            return self.items.pop()\n",
    "        else:\n",
    "            return None\n",
    "\n",
    "    def is_empty(self):\n",
    "        return len(self.items) == 0\n",
    "\n",
    "# Example usage:\n",
    "# stack = Stack()\n",
    "# stack.push(1)\n",
    "# stack.push(2)\n",
    "# popped_item = stack.pop()\n",
    "# Output: 2"
   ]
  },
  {
   "cell_type": "code",
   "execution_count": null,
   "metadata": {},
   "outputs": [],
   "source": [
    "# Q3: Check for Balanced Parentheses\n",
    "\n",
    "def is_balanced_parentheses(s):\n",
    "    stack = []\n",
    "    brackets = {'(': ')', '[': ']', '{': '}'}\n",
    "\n",
    "    for char in s:\n",
    "        if char in brackets.keys():\n",
    "            stack.append(char)\n",
    "        elif char in brackets.values():\n",
    "            if not stack or brackets[stack.pop()] != char:\n",
    "                return False\n",
    "\n",
    "    return len(stack) == 0\n",
    "\n",
    "# Example usage:\n",
    "# is_balanced = is_balanced_parentheses(\"{[()]}\")\n",
    "# Output: True\n",
    "\n",
    "# Time Complexity: O(n) where n is the length of the input string.\n"
   ]
  },
  {
   "cell_type": "markdown",
   "metadata": {},
   "source": [
    "### Queues\n",
    "\n",
    "A queue is a linear data structure that follows the First In, First Out (FIFO) principle. It means that the first element added to the queue is the first one to be removed. A queue can be visualized as a collection of elements with two main operations: enqueue, which adds an element to the rear of the queue, and dequeue, which removes the front element.\n",
    "\n",
    "#### Space Complexity:\n",
    "The space complexity of a queue is O(n), where n is the number of elements in the queue. In the worst case, the queue may need to store all elements.\n",
    "\n",
    "Time Complexity: Both enqueue and dequeue operations have a time complexity of O(1), assuming a well-implemented queue."
   ]
  },
  {
   "cell_type": "code",
   "execution_count": null,
   "metadata": {},
   "outputs": [],
   "source": [
    "# Q1: Implement a Queue Using an Array\n",
    "\n",
    "\n",
    "class Queue:\n",
    "    def __init__(self):\n",
    "        self.items = []\n",
    "\n",
    "    def enqueue(self, item):\n",
    "        self.items.append(item)\n",
    "\n",
    "    def dequeue(self):\n",
    "        if not self.is_empty():\n",
    "            return self.items.pop(0)\n",
    "        else:\n",
    "            return None\n",
    "\n",
    "    def is_empty(self):\n",
    "        return len(self.items) == 0\n",
    "\n",
    "# Example usage:\n",
    "# queue = Queue()\n",
    "# queue.enqueue(1)\n",
    "# queue.enqueue(2)\n",
    "# dequeued_item = queue.dequeue()\n",
    "# Output: 1"
   ]
  }
 ],
 "metadata": {
  "kernelspec": {
   "display_name": "venv-dl-1.0",
   "language": "python",
   "name": "python3"
  },
  "language_info": {
   "codemirror_mode": {
    "name": "ipython",
    "version": 3
   },
   "file_extension": ".py",
   "mimetype": "text/x-python",
   "name": "python",
   "nbconvert_exporter": "python",
   "pygments_lexer": "ipython3",
   "version": "3.9.18"
  }
 },
 "nbformat": 4,
 "nbformat_minor": 2
}
