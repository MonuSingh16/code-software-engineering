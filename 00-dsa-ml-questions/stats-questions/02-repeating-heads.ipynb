{
 "cells": [
  {
   "cell_type": "markdown",
   "metadata": {},
   "source": [
    "### Repeating Heads\n",
    "\n",
    "You are considering a $100 bet with your friend. If `n` consectuive flip of fair coin results in all heads, then you win else your friend wins. Your friend agree to let you attempt the bet as many times you want.\n",
    "\n",
    "Assuming you attempt the bet `x` times, What is the probability that you win atleast once ? As well, What should be your winning payout ($100, $200) be to ensure that you at least break even given unlimited attempts to the bet?\n",
    "\n",
    "Write a function that takes in consecutive coin flips(n) and the number of bet attempts(x) and return a list containing:\n",
    "1. The probability that you win the bet at least once \n",
    "2. Secondly, your required winning payout."
   ]
  },
  {
   "cell_type": "code",
   "execution_count": 13,
   "metadata": {},
   "outputs": [
    {
     "data": {
      "text/plain": [
       "(131.11395646606914, 0.25, 0.75, 0.2373046875, 0.7626953125)"
      ]
     },
     "execution_count": 13,
     "metadata": {},
     "output_type": "execute_result"
    }
   ],
   "source": [
    "n = 2\n",
    "x = 5\n",
    "bet_size = 100\n",
    "heads_chance = 1/2\n",
    "trial_win_chance = heads_chance ** n\n",
    "trial_lose_chance = 1 - trial_win_chance\n",
    "repeated_trial_lose_chance = trial_lose_chance ** x\n",
    "repeated_trial_win_chance = 1 - repeated_trial_lose_chance\n",
    "break_even_point = bet_size/repeated_trial_win_chance\n",
    "break_even_point, trial_win_chance, trial_lose_chance, repeated_trial_lose_chance, repeated_trial_win_chance"
   ]
  },
  {
   "cell_type": "code",
   "execution_count": null,
   "metadata": {},
   "outputs": [],
   "source": [
    "def repeating_heads(n, x):\n",
    "    bet_size = 100\n",
    "    heads_chance = 1/2\n",
    "    trial_win_chance = heads_chance ** n\n",
    "    trial_lose_chance = 1 - trial_win_chance\n",
    "    repeated_trial_lose_chance = trial_lose_chance ** x\n",
    "    repeated_trial_win_chance = 1 - repeated_trial_lose_chance\n",
    "    break_even_point = bet_size/repeated_trial_win_chance\n",
    "    return [repeated_trial_win_chance*100, break_even_point]"
   ]
  }
 ],
 "metadata": {
  "kernelspec": {
   "display_name": "Python 3",
   "language": "python",
   "name": "python3"
  },
  "language_info": {
   "codemirror_mode": {
    "name": "ipython",
    "version": 3
   },
   "file_extension": ".py",
   "mimetype": "text/x-python",
   "name": "python",
   "nbconvert_exporter": "python",
   "pygments_lexer": "ipython3",
   "version": "3.11.6"
  }
 },
 "nbformat": 4,
 "nbformat_minor": 2
}
