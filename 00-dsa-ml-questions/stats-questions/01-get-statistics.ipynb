{
 "cells": [
  {
   "cell_type": "markdown",
   "metadata": {},
   "source": [
    "### Get Statistics\n",
    "\n",
    "Write a function that takes in list of numbers and returns dictionary containing the following statistics about the numbers : mean, median, mode, sample variance, sample standard deviation and 95% confidence interval for the mean"
   ]
  },
  {
   "cell_type": "code",
   "execution_count": 7,
   "metadata": {},
   "outputs": [],
   "source": [
    "input_list = [2, 1, 3, 4, 4, 5, 6, 7]\n",
    "\n",
    "sorted_input = sorted(input_list)\n",
    "input_length = len(sorted_input)\n",
    "\n",
    "\n",
    "mean = sum(sorted_input) / input_length\n",
    "middle_idx = (len(sorted_input) - 1) // 2\n",
    "\n",
    "if input_length % 2 == 0:\n",
    "    middle_number_1 = sorted_input[middle_idx]\n",
    "    middle_number_2 = sorted_input[middle_idx + 1]\n",
    "    median = (middle_number_1 + middle_number_2) / 2\n",
    "\n",
    "number_counts = {x:sorted_input.count(x) for x in set(sorted_input)}\n",
    "mode = max(number_counts.keys(), key=lambda unique_number: number_counts[unique_number])\n",
    "\n",
    "sample_variance = sum([(number - mean) ** 2 / (input_length - 1) for number in sorted_input])\n",
    "\n",
    "sample_standard_deviation = sample_variance ** 0.5\n",
    "\n",
    "mean_standard_error = sample_standard_deviation / input_length ** 0.5\n",
    "z_score_standard_score = 1.96 * mean_standard_error\n",
    "mean_confidence_interval = [mean - z_score_standard_score, mean + z_score_standard_score]"
   ]
  },
  {
   "cell_type": "code",
   "execution_count": 11,
   "metadata": {},
   "outputs": [],
   "source": [
    "def get_statistics(input_list):\n",
    "    sorted_input = sorted(input_list)\n",
    "    input_length = len(sorted_input)\n",
    "\n",
    "    mean = sum(sorted_input) / input_length\n",
    "    \n",
    "    middle_idx = (len(sorted_input) - 1) // 2\n",
    "    median = sorted_input[middle_idx]\n",
    "\n",
    "    if input_length % 2 == 0:\n",
    "        middle_number_1 = sorted_input[middle_idx]\n",
    "        middle_number_2 = sorted_input[middle_idx + 1]\n",
    "        median = (middle_number_1 + middle_number_2) / 2\n",
    "\n",
    "    number_counts = {x: sorted_input.count(x) for x in set(sorted_input)}\n",
    "    mode = max(number_counts.keys(), key=lambda unique_number: number_counts[unique_number])\n",
    "\n",
    "    sample_variance = sum([(number - mean) ** 2 / (input_length - 1) for number in sorted_input])\n",
    "\n",
    "    sample_standard_deviation = sample_variance ** 0.5\n",
    "\n",
    "    mean_standard_error = sample_standard_deviation / input_length ** 0.5\n",
    "    z_score_standard_score = 1.96 * mean_standard_error\n",
    "    mean_confidence_interval = [mean - z_score_standard_score, mean + z_score_standard_score]\n",
    "\n",
    "    return {\n",
    "        \"mean\": mean,\n",
    "        \"median\": median,\n",
    "        \"mode\": mode,\n",
    "        \"sample_variance\": sample_variance,\n",
    "        \"sample_standard_deviation\": sample_standard_deviation,\n",
    "        \"mean_confidence_interval\": mean_confidence_interval,\n",
    "    }"
   ]
  },
  {
   "cell_type": "code",
   "execution_count": 12,
   "metadata": {},
   "outputs": [
    {
     "data": {
      "text/plain": [
       "{'mean': 4.0,\n",
       " 'median': 4.0,\n",
       " 'mode': 4,\n",
       " 'sample_variance': 4.0,\n",
       " 'sample_standard_deviation': 2.0,\n",
       " 'mean_confidence_interval': [2.614070708874367, 5.385929291125633]}"
      ]
     },
     "execution_count": 12,
     "metadata": {},
     "output_type": "execute_result"
    }
   ],
   "source": [
    "get_statistics(input_list)"
   ]
  },
  {
   "cell_type": "code",
   "execution_count": null,
   "metadata": {},
   "outputs": [],
   "source": []
  }
 ],
 "metadata": {
  "kernelspec": {
   "display_name": "Python 3",
   "language": "python",
   "name": "python3"
  },
  "language_info": {
   "codemirror_mode": {
    "name": "ipython",
    "version": 3
   },
   "file_extension": ".py",
   "mimetype": "text/x-python",
   "name": "python",
   "nbconvert_exporter": "python",
   "pygments_lexer": "ipython3",
   "version": "3.9.18"
  }
 },
 "nbformat": 4,
 "nbformat_minor": 2
}
