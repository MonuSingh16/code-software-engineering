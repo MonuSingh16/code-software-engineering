{
 "cells": [
  {
   "cell_type": "markdown",
   "metadata": {},
   "source": [
    "### Probability of Disease\n",
    "\n",
    "A test indicating the presence of disease in cats is 95% accurate in terms of both sensitivity and specificity. The prevalence of the disease is 3% which means only 3% of the known cats have the disease. If your cat tests positive for the disease , What's the probability that your cat has actually the disease ?\n",
    "\n",
    "Write a program that takes in the accuracy of a test as well as the percent of a population which has the disease  and returns a list containg:\n",
    "\n",
    "1. The individual has the disease given the test results in positive\n",
    "2. The individual does not have the disease given a negative test result\n"
   ]
  },
  {
   "cell_type": "code",
   "execution_count": 1,
   "metadata": {},
   "outputs": [
    {
     "data": {
      "text/plain": [
       "(0.3701298701298699, 0.9983748645720476)"
      ]
     },
     "execution_count": 1,
     "metadata": {},
     "output_type": "execute_result"
    }
   ],
   "source": [
    "accuracy = 0.95\n",
    "prevalence = 0.03\n",
    "\n",
    "disease_test_inaccuracy = 1 - accuracy\n",
    "prob_healthy = 1 - prevalence\n",
    "prob_sick = prevalence\n",
    "\n",
    "prob_positive = (prob_sick * accuracy) + (prob_healthy * disease_test_inaccuracy)\n",
    "prob_negative = (prob_healthy * accuracy) + (prob_sick * disease_test_inaccuracy)\n",
    "\n",
    "prob_sick_given_positive = (prob_sick * accuracy) / prob_positive\n",
    "prob_healthy_given_negative = (prob_healthy * accuracy) / prob_negative \n",
    "\n",
    "prob_sick_given_positive, prob_healthy_given_negative"
   ]
  },
  {
   "cell_type": "code",
   "execution_count": null,
   "metadata": {},
   "outputs": [],
   "source": [
    "def probability_of_disease(accuracy, prevalence):\n",
    "\n",
    "    disease_test_inaccuracy = 1 - accuracy\n",
    "    prob_healthy = 1 - prevalence\n",
    "    prob_sick = prevalence\n",
    "    \n",
    "    prob_positive = (prob_sick * accuracy) + (prob_healthy * disease_test_inaccuracy)\n",
    "    prob_negative = (prob_healthy * accuracy) + (prob_sick * disease_test_inaccuracy)\n",
    "    \n",
    "    prob_sick_given_positive = (prob_sick * accuracy) / prob_positive\n",
    "    prob_healthy_given_negative = (prob_healthy * accuracy) / prob_negative\n",
    "    return [prob_sick_given_positive*100, prob_healthy_given_negative*100]"
   ]
  }
 ],
 "metadata": {
  "kernelspec": {
   "display_name": "Python 3",
   "language": "python",
   "name": "python3"
  },
  "language_info": {
   "codemirror_mode": {
    "name": "ipython",
    "version": 3
   },
   "file_extension": ".py",
   "mimetype": "text/x-python",
   "name": "python",
   "nbconvert_exporter": "python",
   "pygments_lexer": "ipython3",
   "version": "3.11.6"
  }
 },
 "nbformat": 4,
 "nbformat_minor": 2
}
