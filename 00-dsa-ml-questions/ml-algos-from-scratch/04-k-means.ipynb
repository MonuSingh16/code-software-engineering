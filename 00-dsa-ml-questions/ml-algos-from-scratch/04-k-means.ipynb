{
 "cells": [
  {
   "cell_type": "markdown",
   "metadata": {},
   "source": [
    "### K-Means\n",
    "\n",
    "Use the k-means algorithm to return `k` means (or centroid) of the input features.\n",
    "\n",
    "These features are result of dimensionality reduction technique by PCA on user app data interaction. You will have access to `USER_FEATURE_MAP` dictionary, mapping each user `user_id` to a respective list of 4 features associated with the user in question.\n",
    "\n",
    "Below is an example portion of the `USER_FEATURE_MAP`\n",
    "\n",
    "Note that:\n",
    "\n",
    "1. The initial centroid locations are selected by you to ensure consistency when verifying solutions.\n",
    "2. You should execute at least 10 iterations of the k-means algorithm , not including the initialization of the centroids\n",
    "3. You should use manhattan distance as the distance metric"
   ]
  },
  {
   "cell_type": "code",
   "execution_count": 1,
   "metadata": {},
   "outputs": [
    {
     "data": {
      "text/plain": [
       "'\\n1. init centroids\\n2. for n in num_iterations\\n    2.1 for user in user_data\\n        2.1.1 for c in centroids\\n            2.1.1.1 distance = calculate_manhattan_distance(user, c)\\n            2.1.1.2 Assign user to centroid with minimum_distance\\n        2.1.2 for c in centroids:\\n            2.1.2.1 update centroids using average\\nreturn centroids\\n\\n'"
      ]
     },
     "execution_count": 1,
     "metadata": {},
     "output_type": "execute_result"
    }
   ],
   "source": [
    "# Pseudo Code\n",
    "'''\n",
    "1. init centroids\n",
    "2. for n in num_iterations\n",
    "    2.1 for user in user_data\n",
    "        2.1.1 for c in centroids\n",
    "            2.1.1.1 distance = calculate_manhattan_distance(user, c)\n",
    "            2.1.1.2 Assign user to centroid with minimum_distance\n",
    "        2.1.2 for c in centroids:\n",
    "            2.1.2.1 update centroids using average\n",
    "return centroids\n",
    "\n",
    "'''"
   ]
  },
  {
   "cell_type": "code",
   "execution_count": null,
   "metadata": {},
   "outputs": [],
   "source": [
    "import random\n",
    "import math\n",
    "class Centroid:\n",
    "    def __init__(self, location):\n",
    "        self.location = location\n",
    "        self.closest_users = set()\n",
    "\n",
    "NUM_FEATURES_PER_USER = 4\n",
    "\n",
    "def get_k_means(user_feature_map, num_features_per_user, k):\n",
    "    # Don't change the following two lines of code.\n",
    "    random.seed(42)\n",
    "    # Gets the inital users, to be used as centroids.\n",
    "    inital_centroid_users = random.sample(sorted(list(user_feature_map.keys())), k)\n",
    "\n",
    "    centroids = [Centroid(user_feature_map[inital_centroid_users]) for inital_centroid_users in inital_centroid_users]\n",
    "    for _ in range(10):\n",
    "        for uid, features in user_feature_map.items():\n",
    "            closest_centroid_distance = float(\"inf\")\n",
    "            closest_centroid = None\n",
    "            for centroid in centroids:\n",
    "                features_to_centroid_distance = get_manhattan_distance(features, centroid.location)\n",
    "                if features_to_centroid_distance < closest_centroid_distance:\n",
    "                    closest_centroid_distance = features_to_centroid_distance\n",
    "                    closest_centroid = centroid\n",
    "            closest_centroid.closest_users.add(uid)\n",
    "\n",
    "        for centroid in centroids:\n",
    "            centroid.location = get_centroid_average(centroid, user_feature_map)\n",
    "            centroid.closest_users.clear()\n",
    "    return [centroid.location for centroid in centroids]\n",
    "\n",
    "def get_centroid_average(centroid, user_feature_map):\n",
    "    centroid_average = [0] * NUM_FEATURES_PER_USER\n",
    "    for i in range(NUM_FEATURES_PER_USER):\n",
    "        for user in centroid.closest_users:\n",
    "            centroid_average[i] = centroid_average[i] + user_feature_map[user][i]\n",
    "    return [centroid_dimension / float(len(centroid.closest_users)) for centroid_dimension in centroid_average]\n",
    "            \n",
    "def get_manhattan_distance(features, other_features):\n",
    "    absolute_differences = []\n",
    "    for i in range(len(features)):\n",
    "        absolute_differences.append(abs(features[i] - other_features[i]))\n",
    "    return sum(absolute_differences)"
   ]
  }
 ],
 "metadata": {
  "kernelspec": {
   "display_name": "Python 3",
   "language": "python",
   "name": "python3"
  },
  "language_info": {
   "codemirror_mode": {
    "name": "ipython",
    "version": 3
   },
   "file_extension": ".py",
   "mimetype": "text/x-python",
   "name": "python",
   "nbconvert_exporter": "python",
   "pygments_lexer": "ipython3",
   "version": "3.11.6"
  }
 },
 "nbformat": 4,
 "nbformat_minor": 2
}
