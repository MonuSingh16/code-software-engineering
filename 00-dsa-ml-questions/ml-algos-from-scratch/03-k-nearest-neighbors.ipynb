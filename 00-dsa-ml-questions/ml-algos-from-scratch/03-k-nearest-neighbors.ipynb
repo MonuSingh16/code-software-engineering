{
 "cells": [
  {
   "cell_type": "markdown",
   "metadata": {},
   "source": [
    "### K Nearest Neigbors\n",
    "\n",
    "Use the KNN to return k neigbors of the provided features.\n",
    "\n",
    "These features are result of dimensionality reduction PCA on some operating-system data related to process and their intrusivity in some network. You will have access to an EXAMPLES dictionary, mapping each process identifier `\"p_id\"` to a respective dictionary containing its associated features as well as label representing whether the relevant process was intrusive to the network. A label `0` means that it was not intrusive , while a label `1` means that it was intrusive"
   ]
  },
  {
   "cell_type": "code",
   "execution_count": 1,
   "metadata": {},
   "outputs": [],
   "source": [
    "# Sample Input\n",
    "features = [4.30936122, 4.28739283, 4.29680938, 4.33571647, 4.28774593]\n",
    "# As Features are reduced to 5 dimensions from the PCA.\n",
    "k = 1\n",
    "'''\n",
    "# Pseudo Code -\n",
    "1. For any new point\n",
    "    1.1 Calculate Euclidean distance to all other points\n",
    "    1.2 Sort the distance in ascending order\n",
    "    1.3 Select K elements based on minimum distance\n",
    "2. Return Most label in K elements\n",
    "\n",
    "# Algo -\n",
    "Input - Given Feature\n",
    "1. for each pid:\n",
    "    2. compute_distance(features, pid[`feature`])\n",
    "3. Sort Distances\n",
    "4. return most_frequent_label(distance())\n",
    "'''"
   ]
  },
  {
   "cell_type": "code",
   "execution_count": 3,
   "metadata": {},
   "outputs": [],
   "source": [
    "import math\n",
    "\n",
    "def predict_label(features, examples, k, label_key=\"is_intrusive\"):\n",
    "    k_nearest_neighbor = find_k_nearest_neigbors(examples, features)\n",
    "    k_nearest_neighbor_labels = [examples[pid][label_key] for pid in k_nearest_neighbor]\n",
    "    return round(sum(k_nearest_neighbor_labels) / k)\n",
    "\n",
    "def find_k_nearest_neigbors(examples, features):\n",
    "    distances = {}\n",
    "    for pid , features_label_map in examples.items():\n",
    "        distance = get_euclidean_distance(features, features_label_map['features'])\n",
    "        distances = distance\n",
    "    return sorted(distances, key=distances.get)[:k]\n",
    "\n",
    "def get_euclidean_distance(features, other_features):\n",
    "    squared_distance = []\n",
    "    for i in range(len(other_features)):\n",
    "        squared_distance.append((other_features[i] - features[i]) ** 2)\n",
    "    return math.sqrt(sum(squared_distance))\n"
   ]
  },
  {
   "cell_type": "code",
   "execution_count": null,
   "metadata": {},
   "outputs": [],
   "source": []
  }
 ],
 "metadata": {
  "kernelspec": {
   "display_name": "Python 3",
   "language": "python",
   "name": "python3"
  },
  "language_info": {
   "codemirror_mode": {
    "name": "ipython",
    "version": 3
   },
   "file_extension": ".py",
   "mimetype": "text/x-python",
   "name": "python",
   "nbconvert_exporter": "python",
   "pygments_lexer": "ipython3",
   "version": "3.11.6"
  }
 },
 "nbformat": 4,
 "nbformat_minor": 2
}
