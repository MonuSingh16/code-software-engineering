{
 "cells": [
  {
   "cell_type": "markdown",
   "metadata": {},
   "source": [
    "## Sparse Matrix Multiplication\n",
    "\n",
    "Write a function that takes in two integer matrices and multiply them together.\n",
    "\n",
    "Both matrices will be sparse, meaning most elements will be zero. Take advantage of that to reduce the number of computations that your function performs.\n",
    "\n",
    "if the matrices can't be multiplied together, your function should return [[]]"
   ]
  },
  {
   "cell_type": "code",
   "execution_count": 45,
   "metadata": {},
   "outputs": [
    {
     "name": "stdout",
     "output_type": "stream",
     "text": [
      "3 3\n"
     ]
    },
    {
     "data": {
      "text/plain": [
       "(3, 2)"
      ]
     },
     "execution_count": 45,
     "metadata": {},
     "output_type": "execute_result"
    },
    {
     "data": {
      "text/plain": [
       "(3, 2)"
      ]
     },
     "execution_count": 45,
     "metadata": {},
     "output_type": "execute_result"
    }
   ],
   "source": [
    "matrix_a = [\n",
    "            [0, 2, 0],\n",
    "            [0, -3, 5],\n",
    "        ]\n",
    "matrix_b = [\n",
    "            [0, 10, 0],\n",
    "            [0, 0, 0],\n",
    "            [0, 0, 4],\n",
    "        ]\n",
    "print(len(matrix_a[0]), len(matrix_b))\n",
    "len(matrix_b[0]), len(matrix_a)\n",
    "len(matrix_b), len(matrix_a)"
   ]
  },
  {
   "cell_type": "code",
   "execution_count": null,
   "metadata": {},
   "outputs": [],
   "source": [
    "result_matrix = [ 0 * len(matrix_b[0]) for _ in range(len(matrix_a))]\n",
    "result_matrix"
   ]
  },
  {
   "cell_type": "code",
   "execution_count": 36,
   "metadata": {},
   "outputs": [
    {
     "name": "stdout",
     "output_type": "stream",
     "text": [
      "[[ 0  2  0]\n",
      " [ 0 -3  5]] \n",
      "\n",
      " [[ 0 10  0]\n",
      " [ 0  0  0]\n",
      " [ 0  0  4]] \n",
      "\n",
      "(2, 3) (3, 3) \n",
      "\n",
      "Yes, can be multiplied\n",
      "0\n"
     ]
    },
    {
     "ename": "IndexError",
     "evalue": "index 0 is out of bounds for axis 0 with size 0",
     "output_type": "error",
     "traceback": [
      "\u001b[0;31m---------------------------------------------------------------------------\u001b[0m",
      "\u001b[0;31mIndexError\u001b[0m                                Traceback (most recent call last)",
      "Cell \u001b[0;32mIn[36], line 24\u001b[0m\n\u001b[1;32m     21\u001b[0m         \u001b[38;5;28;01mfor\u001b[39;00m k \u001b[38;5;129;01min\u001b[39;00m \u001b[38;5;28mrange\u001b[39m(matrix_b\u001b[38;5;241m.\u001b[39mshape[\u001b[38;5;241m0\u001b[39m]):\n\u001b[1;32m     22\u001b[0m             \u001b[38;5;66;03m# result_matrix[i][j] += matrix_a[i][k] * matrix_b[k][j]\u001b[39;00m\n\u001b[1;32m     23\u001b[0m             \u001b[38;5;28mprint\u001b[39m(matrix_a[i][k] \u001b[38;5;241m*\u001b[39m matrix_b[k][j])\n\u001b[0;32m---> 24\u001b[0m             \u001b[43mresult_matrix\u001b[49m\u001b[43m[\u001b[49m\u001b[43mi\u001b[49m\u001b[43m]\u001b[49m\u001b[43m[\u001b[49m\u001b[43mj\u001b[49m\u001b[43m]\u001b[49m \u001b[38;5;241m+\u001b[39m\u001b[38;5;241m=\u001b[39m matrix_a[i][k] \u001b[38;5;241m*\u001b[39m matrix_b[k][j]\n\u001b[1;32m     26\u001b[0m             \u001b[38;5;66;03m# result_matrix[i][k] = matrix_a[i][j] * matrix_b[k][j]\u001b[39;00m\n\u001b[1;32m     27\u001b[0m \u001b[38;5;66;03m#print(result_matrix)\u001b[39;00m\n",
      "\u001b[0;31mIndexError\u001b[0m: index 0 is out of bounds for axis 0 with size 0"
     ]
    }
   ],
   "source": [
    "from IPython.core.interactiveshell import InteractiveShell\n",
    "InteractiveShell.ast_node_interactivity = \"all\"\n",
    "\n",
    "print(matrix_a.shape, matrix_b.shape, '\\n')\n",
    "# Output - (2, 3), (3, 3).\n",
    "\n",
    "# Check condition if they can be multiplied\n",
    "if matrix_a.shape[1] == matrix_b.shape[0]:\n",
    "    print(\"Yes, can be multiplied\")\n",
    "\n",
    "    result_matrix = [ 0 * len(matrix_b[0]) for _ in range(len(matrix_a))]\n",
    "    for i in range(matrix_a.shape[0]):\n",
    "        for j in range(matrix_b.shape[1]):\n",
    "            for k in range(matrix_b.shape[0]):\n",
    "                # result_matrix[i][j] += matrix_a[i][k] * matrix_b[k][j]\n",
    "                print(matrix_a[i][k] * matrix_b[k][j])\n",
    "                result_matrix[i][j] += matrix_a[i][k] * matrix_b[k][j]\n",
    "\n",
    "                # result_matrix[i][k] = matrix_a[i][j] * matrix_b[k][j]\n",
    "    #print(result_matrix)"
   ]
  },
  {
   "cell_type": "code",
   "execution_count": null,
   "metadata": {},
   "outputs": [],
   "source": [
    "def sparse_matrix_multiplication(matrix_a, matrix_b):\n",
    "    return [[]]"
   ]
  }
 ],
 "metadata": {
  "kernelspec": {
   "display_name": "Python 3",
   "language": "python",
   "name": "python3"
  },
  "language_info": {
   "codemirror_mode": {
    "name": "ipython",
    "version": 3
   },
   "file_extension": ".py",
   "mimetype": "text/x-python",
   "name": "python",
   "nbconvert_exporter": "python",
   "pygments_lexer": "ipython3",
   "version": "3.11.6"
  }
 },
 "nbformat": 4,
 "nbformat_minor": 2
}
