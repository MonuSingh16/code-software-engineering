{
 "cells": [
  {
   "cell_type": "markdown",
   "metadata": {},
   "source": [
    "## Sparse Matrix Multiplication\n",
    "\n",
    "Write a function that takes in two integer matrices and multiply them together.\n",
    "\n",
    "Both matrices will be sparse, meaning most elements will be zero. Take advantage of that to reduce the number of computations that your function performs.\n",
    "\n",
    "if the matrices can't be multiplied together, your function should return [[]]"
   ]
  },
  {
   "cell_type": "markdown",
   "metadata": {},
   "source": [
    "### OPTION 1\n",
    "```\n",
    "1. Check if the columns of A is equal to rows of B\n",
    "    1.1 iterate through rows of matrix A\n",
    "        1.1.1 iterate through column  of matrix B\n",
    "            1.1.1.1 iterate through either column of A or Rows of B\n",
    "            c[i, j] += A[i, k] * B[k, j]\n",
    "```"
   ]
  },
  {
   "cell_type": "code",
   "execution_count": 26,
   "metadata": {},
   "outputs": [
    {
     "data": {
      "text/plain": [
       "'  \\nOPTION 1\\n1. Check if the columns of A is equal to rows of B\\n    1.1 iterate through rows of matrix A\\n        1.1.1 iterate through column  of matrix B\\n            1.1.1.1 iterate through either column of A or Rows of B\\n            c[i, j] += A[i, k] * B[k, j]\\n\\n'"
      ]
     },
     "execution_count": 26,
     "metadata": {},
     "output_type": "execute_result"
    },
    {
     "name": "stdout",
     "output_type": "stream",
     "text": [
      "[[0, 0, 0], [0, 0, 20]]\n"
     ]
    }
   ],
   "source": [
    "\"\"\"  \n",
    "OPTION 1\n",
    "1. Check if the columns of A is equal to rows of B\n",
    "    1.1 iterate through rows of matrix A\n",
    "        1.1.1 iterate through column  of matrix B\n",
    "            1.1.1.1 iterate through either column of A or Rows of B\n",
    "            c[i, j] += A[i, k] * B[k, j]\n",
    "\n",
    "\"\"\"\n",
    "matrix_a = [\n",
    "            [0, 2, 0],\n",
    "            [0, -3, 5],\n",
    "        ]\n",
    "matrix_b = [\n",
    "            [0, 10, 0],\n",
    "            [0, 0, 0],\n",
    "            [0, 0, 4],\n",
    "        ]\n",
    "if len(matrix_a[0]) != len(matrix_b):\n",
    "    print(\"Yes, can not be multiplied\")\n",
    "\n",
    "result_matrix = [ [0] * len(matrix_b[0]) for _ in range(len(matrix_a))]\n",
    "for i in range(len(matrix_a)):\n",
    "    for j in range(len(matrix_b[0])):\n",
    "        for k in range(len(matrix_b)):\n",
    "            result_matrix[i][j] += matrix_a[i][k] * matrix_b[k][j]\n",
    "\n",
    "print(result_matrix)"
   ]
  },
  {
   "cell_type": "markdown",
   "metadata": {},
   "source": [
    "### Option 2\n",
    "OPTION 2 - To avoid multiplying the zero elements, Hence to check it before. This saves us by 80 %\n",
    "\n",
    "```\n",
    "1. Check if the columns of A is equal to rows of B\n",
    "    1.1 iterate i through rows of matrix A\n",
    "        1.1.1. iterate k through either column of A or Rows of B\n",
    "            1.1.1. if Matrix A[i, k] != 0 then : \n",
    "                1.1.1.1 iterate j through column  of matrix B\n",
    "                    c[i, j] += A[i, k] * B[k, j]\n",
    "```"
   ]
  },
  {
   "cell_type": "code",
   "execution_count": 28,
   "metadata": {},
   "outputs": [
    {
     "data": {
      "text/plain": [
       "'  \\nOPTION 2 - To avoid multiplying the zero elements, Hence to check it before. This saves us by 80 %\\n1. Check if the columns of A is equal to rows of B\\n    1.1 iterate i through rows of matrix A\\n        1.1.1. iterate k through either column of A or Rows of B\\n            1.1.1. if Matrix A[i, k] != 0 then : \\n                1.1.1.1 iterate j through column  of matrix B\\n                    c[i, j] += A[i, k] * B[k, j]\\n\\n'"
      ]
     },
     "execution_count": 28,
     "metadata": {},
     "output_type": "execute_result"
    },
    {
     "name": "stdout",
     "output_type": "stream",
     "text": [
      "[[0, 0, 0], [0, 0, 20]]\n"
     ]
    }
   ],
   "source": [
    "\"\"\"  \n",
    "OPTION 2 - To avoid multiplying the zero elements, Hence to check it before. This saves us by 80 %\n",
    "1. Check if the columns of A is equal to rows of B\n",
    "    1.1 iterate i through rows of matrix A\n",
    "        1.1.1. iterate k through either column of A or Rows of B\n",
    "            1.1.1. if Matrix A[i, k] != 0 then : \n",
    "                1.1.1.1 iterate j through column  of matrix B\n",
    "                    c[i, j] += A[i, k] * B[k, j]\n",
    "\n",
    "\"\"\"\n",
    "matrix_a = [\n",
    "            [0, 2, 0],\n",
    "            [0, -3, 5],\n",
    "        ]\n",
    "matrix_b = [\n",
    "            [0, 10, 0],\n",
    "            [0, 0, 0],\n",
    "            [0, 0, 4],\n",
    "        ]\n",
    "if len(matrix_a[0]) != len(matrix_b):\n",
    "    print(\"Yes, can not be multiplied\")\n",
    "\n",
    "result_matrix = [ [0] * len(matrix_b[0]) for _ in range(len(matrix_a))]\n",
    "for i in range(len(matrix_a)):\n",
    "    for k in range(len(matrix_a[0])):\n",
    "        if matrix_a[i][k] != 0:\n",
    "            for j in range(len(matrix_b[0])):\n",
    "                result_matrix[i][j] += matrix_a[i][k] * matrix_b[k][j]\n",
    "\n",
    "print(result_matrix)"
   ]
  },
  {
   "cell_type": "markdown",
   "metadata": {},
   "source": [
    "### Option 3\n",
    "OPTION 3 - Dictionary of Keys\n",
    "\n",
    "```\n",
    "1. Create a dictionary of non-zero cells of a Matrix\n",
    "    1. iterate through i rows of Matrx\n",
    "        1. iterate through j column of Matrix\n",
    "            1. if Matrix[i, j] != 0\n",
    "                1. dictionary[(i, j)]\n",
    "2. iterate i, k in sparse matrix A Keys\n",
    "    1. iterate j through columns of B\n",
    "        1. if k, j in sparse matrix B Keys\n",
    "            1. c[i, j] += Sparse A[i, k] * Sparse B[k, j]\n",
    "```"
   ]
  },
  {
   "cell_type": "code",
   "execution_count": 29,
   "metadata": {},
   "outputs": [
    {
     "data": {
      "text/plain": [
       "' \\nOPTION 3 - Dictionary of Keys\\n1. Create a dictionary of non-zero cells of a Matrix\\n    1. iterate through i rows of Matrx\\n        1. iterate through j column of Matrix\\n            1. if Matrix[i, j] != 0\\n                1. dictionary[(i, j)]\\n2. iterate i, k in sparse matrix A Keys\\n    1. iterate j through columns of B\\n        1. if k, j in sparse matrix B Keys\\n            1. c[i, j] += Sparse A[i, k] * Sparse B[k, j]\\n\\n\\n'"
      ]
     },
     "execution_count": 29,
     "metadata": {},
     "output_type": "execute_result"
    },
    {
     "data": {
      "text/plain": [
       "[[0, 0, 0], [0, 0, 20]]"
      ]
     },
     "execution_count": 29,
     "metadata": {},
     "output_type": "execute_result"
    }
   ],
   "source": [
    "\"\"\" \n",
    "OPTION 3 - Dictionary of Keys\n",
    "1. Create a dictionary of non-zero cells of a Matrix\n",
    "    1. iterate through i rows of Matrx\n",
    "        1. iterate through j column of Matrix\n",
    "            1. if Matrix[i, j] != 0\n",
    "                1. dictionary[(i, j)]\n",
    "2. iterate i, k in sparse matrix A Keys\n",
    "    1. iterate j through columns of B\n",
    "        1. if k, j in sparse matrix B Keys\n",
    "            1. c[i, j] += Sparse A[i, k] * Sparse B[k, j]\n",
    "\n",
    "\n",
    "\"\"\"\n",
    "def sparse_matrix_multiplication(matrix_a, matrix_b):\n",
    "    # Write your code here.\n",
    "    if len(matrix_a[0]) != len(matrix_b):\n",
    "        return [[]]\n",
    "\n",
    "    sparse_a = get_dict_of_nonzero_cells(matrix_a)\n",
    "    sparse_b = get_dict_of_nonzero_cells(matrix_b)\n",
    "\n",
    "    matrix_c = [[0] * len(matrix_b[0]) for _ in range(len(matrix_a))]\n",
    "\n",
    "    for i, k in sparse_a.keys():\n",
    "        for j in range(len(matrix_b[0])):\n",
    "            if (k, j) in sparse_b.keys():\n",
    "                matrix_c[i][j] += sparse_a[(i, k)] * sparse_b[(k, j)]\n",
    "    return matrix_c\n",
    "\n",
    "def get_dict_of_nonzero_cells(matrix):\n",
    "    dict_of_nonzero_cells = {}\n",
    "    for i in range(len(matrix)):\n",
    "        for j in range(len(matrix[0])):\n",
    "            if matrix[i][j] != 0:\n",
    "                dict_of_nonzero_cells[(i, j)] = matrix[i][j]\n",
    "    return dict_of_nonzero_cells\n",
    "\n",
    "sparse_matrix_multiplication(matrix_a, matrix_b)"
   ]
  }
 ],
 "metadata": {
  "kernelspec": {
   "display_name": "Python 3",
   "language": "python",
   "name": "python3"
  },
  "language_info": {
   "codemirror_mode": {
    "name": "ipython",
    "version": 3
   },
   "file_extension": ".py",
   "mimetype": "text/x-python",
   "name": "python",
   "nbconvert_exporter": "python",
   "pygments_lexer": "ipython3",
   "version": "3.11.6"
  }
 },
 "nbformat": 4,
 "nbformat_minor": 2
}
