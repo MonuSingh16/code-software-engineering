{
 "cells": [
  {
   "cell_type": "markdown",
   "metadata": {},
   "source": [
    "### Distance Similarities\n",
    "\n",
    "Write a series of function that takes in two lists `X` and `Y` and returns a list containing -\n",
    "\n",
    "- Eculidean Distance between X and Y\n",
    "- Manhattan Distance between X and Y\n",
    "- Cosine Similarity between X and Y\n",
    "- Jaccard Similarity between X and Y\n"
   ]
  },
  {
   "cell_type": "code",
   "execution_count": 2,
   "metadata": {},
   "outputs": [],
   "source": [
    "from math import pow, sqrt\n",
    "\n",
    "X = [1, 3, 4, 5]\n",
    "Y = [7, 6, 3, 1]"
   ]
  },
  {
   "cell_type": "code",
   "execution_count": 11,
   "metadata": {},
   "outputs": [
    {
     "data": {
      "text/plain": [
       "[7.874007874011811, 14, 0.6033959622888618, 0.3333333333333333]"
      ]
     },
     "execution_count": 11,
     "metadata": {},
     "output_type": "execute_result"
    }
   ],
   "source": [
    "# Euclidean Distance -\n",
    "euc_dist = sqrt(sum((pow(x - y, 2) for x, y in zip(X, Y))))\n",
    "\n",
    "# Manhattan Distance -\n",
    "man_dist = sum(abs(x - y) for x, y in zip(X, Y))\n",
    "\n",
    "# Cosine Distance - \n",
    "numerator = sum((x * y) for x, y in zip(X, Y))\n",
    "denominator = sqrt(sum([x * x for x in X])) * sqrt(sum([y * y for y in Y])) \n",
    "cos_dist = numerator / float(denominator)\n",
    "\n",
    "# Jaccard Distance -\n",
    "numerator_cardinality = len(set.intersection(*[set(X), set(Y)]))\n",
    "denominator_cardinality = len(set.union(*[set(X), set(Y)]))\n",
    "jac_dist = numerator_cardinality / float(denominator_cardinality)\n",
    "\n",
    "list([euc_dist, man_dist, cos_dist, jac_dist])"
   ]
  },
  {
   "cell_type": "code",
   "execution_count": null,
   "metadata": {},
   "outputs": [],
   "source": [
    "from math import pow, sqrt\n",
    "class Metrics():\n",
    "   def euclidean_distance(self, X, Y):\n",
    "       return sqrt(sum((pow(x - y, 2) for x, y in zip(X, Y))))\n",
    "\n",
    "   def manhattan_distance(self, X, Y):\n",
    "       return sum(abs(x - y) for x, y in zip(X, Y))\n",
    "\n",
    "   def cosine_similarity(self, X, Y):\n",
    "       numerator = sum((x * y) for x, y in zip(X, Y))\n",
    "       denominator = sqrt(sum([x * x for x in X])) * sqrt(sum([y * y for y in Y])) \n",
    "       return numerator / float(denominator)\n",
    "\n",
    "   def jaccard_similarity(self, X, Y):\n",
    "       numerator_cardinality = len(set.intersection(*[set(X), set(Y)]))\n",
    "       denominator_cardinality = len(set.union(*[set(X), set(Y)]))\n",
    "\n",
    "       return numerator_cardinality / float(denominator_cardinality)\n",
    "       \n",
    "\n",
    "\n",
    "def distances_and_similarities(X, Y):\n",
    "   metrics = Metrics()\n",
    "   return [metrics.euclidean_distance(X, Y),\n",
    "           metrics.manhattan_distance(X, Y),\n",
    "           metrics.cosine_similarity(X, Y),\n",
    "           metrics.jaccard_similarity(X, Y)]\n"
   ]
  }
 ],
 "metadata": {
  "kernelspec": {
   "display_name": "Python 3",
   "language": "python",
   "name": "python3"
  },
  "language_info": {
   "codemirror_mode": {
    "name": "ipython",
    "version": 3
   },
   "file_extension": ".py",
   "mimetype": "text/x-python",
   "name": "python",
   "nbconvert_exporter": "python",
   "pygments_lexer": "ipython3",
   "version": "3.11.6"
  }
 },
 "nbformat": 4,
 "nbformat_minor": 2
}
