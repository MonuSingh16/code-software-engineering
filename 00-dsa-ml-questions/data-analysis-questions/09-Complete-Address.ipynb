{
 "cells": [
  {
   "cell_type": "markdown",
   "metadata": {},
   "source": [
    "#### You’re given two dataframes. One contains information about addresses and the other contains relationships between various cities and states:\n",
    "\n",
    "1. Write a function complete_address to create a single dataframe with complete addresses in the format of street, city, state, zip code.\n",
    "2. Need a hint first?\n",
    "3. We need to find a way to merge our two dataframes, but one of them is a long, messy string.\n",
    "\n",
    "How can we modify this string to make merging our dataframes easier?"
   ]
  },
  {
   "cell_type": "code",
   "execution_count": 1,
   "metadata": {},
   "outputs": [],
   "source": [
    "import pandas as pd\n",
    "\n",
    "addresses = {\"address\": [\"4860 Sunset Boulevard, San Francisco, 94105\",\n",
    "                          \"3055 Paradise Lane, Salt Lake City, 84103\",\n",
    "                            \"682 Main Street, Detroit, 48204\", \n",
    "                            \"9001 Cascade Road, Kansas City, 64102\", \n",
    "                            \"5853 Leon Street, Tampa, 33605\"]}\n",
    "\n",
    "cities = {\"city\": [\"Salt Lake City\", \"Kansas City\", \"Detroit\", \"Tampa\", \"San Francisco\"], \n",
    "            \"state\": [\"Utah\", \"Missouri\", \"Michigan\", \"Florida\", \"California\"]}\n",
    "\n",
    "df_addresses = pd.DataFrame(addresses)\n",
    "df_cities = pd.DataFrame(cities)"
   ]
  },
  {
   "cell_type": "code",
   "execution_count": 6,
   "metadata": {},
   "outputs": [
    {
     "data": {
      "text/plain": [
       "0    4860 Sunset Boulevard, San Francisco, Californ...\n",
       "1      3055 Paradise Lane, Salt Lake City, Utah, 84103\n",
       "2            682 Main Street, Detroit, Michigan, 48204\n",
       "3      9001 Cascade Road, Kansas City, Missouri, 64102\n",
       "4              5853 Leon Street, Tampa, Florida, 33605\n",
       "dtype: object"
      ]
     },
     "execution_count": 6,
     "metadata": {},
     "output_type": "execute_result"
    }
   ],
   "source": [
    "def complete_address(df_addresses: pd.DataFrame, df_cities: pd.DataFrame):\n",
    "\n",
    "    df_addresses[['street', 'city', 'zipcode']] = df_addresses['address'].str.split(', ', expand=True)\n",
    "    df_addresses = df_addresses.drop(columns=['address'], axis=1)\n",
    "    df_addresses = df_addresses.merge(df_cities, on='city')\n",
    "    df_addresses = df_addresses[['street', 'city', 'state', 'zipcode']].apply(lambda x: ', '.join(x), axis=1)\n",
    "    df_addresses = df_addresses.drop(columns=['street', 'city', 'state', 'zipcode'], axis=1)\n",
    "\n",
    "    return df_addresses\n",
    "\n",
    "df_addresses_final = complete_address(df_addresses, df_cities)\n",
    "df_addresses_final"
   ]
  },
  {
   "cell_type": "code",
   "execution_count": null,
   "metadata": {},
   "outputs": [],
   "source": []
  }
 ],
 "metadata": {
  "kernelspec": {
   "display_name": "venv-interviews-3.9",
   "language": "python",
   "name": "python3"
  },
  "language_info": {
   "codemirror_mode": {
    "name": "ipython",
    "version": 3
   },
   "file_extension": ".py",
   "mimetype": "text/x-python",
   "name": "python",
   "nbconvert_exporter": "python",
   "pygments_lexer": "ipython3",
   "version": "3.9.16"
  },
  "orig_nbformat": 4
 },
 "nbformat": 4,
 "nbformat_minor": 2
}
