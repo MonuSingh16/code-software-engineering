{
 "cells": [
  {
   "cell_type": "markdown",
   "metadata": {},
   "source": [
    "#### Given two lists of release dates, return the list with more dates past a certain input variable date D."
   ]
  },
  {
   "cell_type": "code",
   "execution_count": 1,
   "metadata": {},
   "outputs": [],
   "source": [
    "D = \"2020-03-01\"\n",
    "L1 = [\n",
    "    \"2020-01-21\", \n",
    "    \"2020-01-09\",\n",
    "    \"2020-01-10\",\n",
    "    \"2020-02-14\",\n",
    "    \"2020-03-01\"\n",
    "]\n",
    "L2 = [\n",
    "    \"2020-01-20\", \n",
    "    \"2020-04-02\",\n",
    "    \"2020-02-08\",\n",
    "    \"2020-03-01\"\n",
    "]"
   ]
  },
  {
   "cell_type": "code",
   "execution_count": 2,
   "metadata": {},
   "outputs": [],
   "source": [
    "def greater_release_dates(L1, L2, D):\n",
    "    \n",
    "    L1_greater = len([d for d in L1 if d > D])\n",
    "    L2_greater = len([d for d in L2 if d > D])\n",
    "\n",
    "    return L1 if L1_greater > L2_greater else L2"
   ]
  },
  {
   "cell_type": "code",
   "execution_count": null,
   "metadata": {},
   "outputs": [],
   "source": []
  }
 ],
 "metadata": {
  "kernelspec": {
   "display_name": "venv-interviews-3.9",
   "language": "python",
   "name": "python3"
  },
  "language_info": {
   "codemirror_mode": {
    "name": "ipython",
    "version": 3
   },
   "file_extension": ".py",
   "mimetype": "text/x-python",
   "name": "python",
   "nbconvert_exporter": "python",
   "pygments_lexer": "ipython3",
   "version": "3.9.16"
  },
  "orig_nbformat": 4
 },
 "nbformat": 4,
 "nbformat_minor": 2
}
