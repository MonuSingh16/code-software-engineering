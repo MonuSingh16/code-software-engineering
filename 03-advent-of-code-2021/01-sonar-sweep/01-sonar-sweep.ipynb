{
 "cells": [
  {
   "cell_type": "markdown",
   "metadata": {},
   "source": [
    "## Part 1 problem statement\n",
    "\n",
    "(Adapted from [Advent of Code 2021, day 1](https://adventofcode.com/2021/day/1))\n",
    "\n",
    "You are given a report of depth measurements, like\n",
    "\n",
    "```txt\n",
    "199\n",
    "200\n",
    "208\n",
    "210\n",
    "200\n",
    "207\n",
    "240\n",
    "269\n",
    "260\n",
    "263\n",
    "```\n",
    "\n",
    "The first order of business is to figure out how quickly the depth increases.\n",
    "\n",
    "To do this, count **the number of times a depth measurement increases** from the previous measurement. (There is no measurement before the first measurement.)\n",
    "\n",
    "In the example above, the changes are as follows:\n",
    "\n",
    "```txt\n",
    "199 (N/A - no previous measurement)\n",
    "200 (increased)\n",
    "208 (increased)\n",
    "210 (increased)\n",
    "200 (decreased)\n",
    "207 (increased)\n",
    "240 (increased)\n",
    "269 (increased)\n",
    "260 (decreased)\n",
    "263 (increased)\n",
    "```\n",
    "\n",
    "In this example, there are 7 measurements that are larger than the previous measurement.\n",
    "\n",
    "How many measurements are larger than the previous measurement in the input file `input.txt`?\n",
    "\n",
    "_Using my input file, the result should be 1292._"
   ]
  },
  {
   "cell_type": "code",
   "execution_count": 2,
   "metadata": {},
   "outputs": [],
   "source": [
    "# IMPORTANT: Set this to correct path for you !\n",
    "INPUT_FILE = \"input.txt\"\n",
    "\n",
    "import pathlib\n",
    "assert pathlib.Path(INPUT_FILE).exists()"
   ]
  },
  {
   "cell_type": "markdown",
   "metadata": {},
   "source": [
    "### Baseline solution\n",
    "The problem statement asks us to traverse the depth reports and to compare the current measurement with the previous one.\n",
    "\n",
    "The underlying idea is that, when talking about a sequence (for example, a list of measurements), a relationship\n",
    "of “previous” translates into subtracting 1 to the index at hands. Similarly, a relationship of “next” translates into adding 1 to the index.\n",
    "\n",
    "The only thing we need to be careful about is ensuring we stay within the boundaries of the sequence, so that doing +1 or -1 in an index still gives a valid index.\n",
    "\n",
    "This translates directly into this solution:"
   ]
  },
  {
   "cell_type": "code",
   "execution_count": 3,
   "metadata": {},
   "outputs": [
    {
     "name": "stdout",
     "output_type": "stream",
     "text": [
      "1292\n"
     ]
    }
   ],
   "source": [
    "with open(INPUT_FILE, \"r\") as f:\n",
    "    depths = f.readlines()\n",
    "\n",
    "count = 0\n",
    "for i in range(1, len(depths)):\n",
    "    if int(depths[i-1]) < int(depths[i]): # Compare the previous one with current\n",
    "        count += 1\n",
    "\n",
    "print(count)"
   ]
  },
  {
   "cell_type": "markdown",
   "metadata": {},
   "source": [
    "If we stick to the “compare with the previous” interpretation, then the indices that matter are `i - 1` (the previous item) and `i` (the current item); and, therefore, `i` must start at `1`.\n",
    "This means we use `range(1, len(depths))`.\n",
    "\n",
    "If we go with the “compare with the next” interpretation, then the indices that matter are `i` (the current item) and `i + 1` (the next item).\n",
    "For that, our range needs to end earlier than `len(depths)`:"
   ]
  },
  {
   "cell_type": "code",
   "execution_count": 4,
   "metadata": {},
   "outputs": [
    {
     "name": "stdout",
     "output_type": "stream",
     "text": [
      "1292\n"
     ]
    }
   ],
   "source": [
    "with open(INPUT_FILE, \"r\") as f:\n",
    "    depths = f.readlines()\n",
    "\n",
    "count = 0\n",
    "for i in range(len(depths) - 1):\n",
    "    if int(depths[i]) < int(depths[i+1]): # Compare the current with \"the next\"\n",
    "        count += 1\n",
    "\n",
    "print(count)"
   ]
  },
  {
   "cell_type": "markdown",
   "metadata": {},
   "source": [
    "### Free resources ASAP\n",
    "\n",
    "When using a `with` statement to access a file, you know that your file is automatically closed when you leave the `with` statement.\n",
    "You also know that the `with` statement is nice because it will still close the file if, for example, your code throws an error.\n",
    "That's very convenient, and a lovely reason to use the `with` statement.\n",
    "\n",
    "However, while you are inside the `with` statement, the file remains open and in use by the operating system.\n",
    "That is to say that you want to follow the Python practice of avoiding nesting whenever possible, because in this case it means that you will free up the file as soon as possible.\n",
    "In other words, put as little code inside the `with` statement as possible.\n",
    "\n",
    "In our case, because we use `.readlines` to read the whole file, we can leave the `with` statement immediately:"
   ]
  },
  {
   "cell_type": "code",
   "execution_count": null,
   "metadata": {},
   "outputs": [],
   "source": []
  },
  {
   "cell_type": "markdown",
   "metadata": {},
   "source": [
    "## The range of the length\n",
    "\n",
    "Another frequent anti-pattern in Python is the excerpt `for i in range(len(...))`.\n",
    "_Most of the times_, that `for` loop isn't what you really wanted to use.\n",
    "Python has very powerful `for` loops, and the `for i in range(len(...))` is a pattern that we inherited from languages like C.\n",
    "In Python, we tend to use built-ins like [`enumerate`](https://mathspp.com/blog/pydonts/enumerate-me) and [`zip`](https://mathspp.com/blog/pydonts/zip-up).\n",
    "\n",
    "Another hint at the fact that the loop we care about is not the `range(len(...))`, is that we don't really care about the indices.\n",
    "Notice how `range(len(something))` gives you all the legal indices associated with `something`, but what we really care about are the elements.\n",
    "\n",
    "A slight improvement would be to recognise the `enumerate` pattern:\n",
    "`enumerate` is a good built-in to use if, in a `for` loop, you care about the current element _and_ about the current index you are using.\n",
    "In our case, we care about the current index so that we can compute the index of the neighbouring element.\n",
    "So, we could try writing something like this:"
   ]
  },
  {
   "cell_type": "code",
   "execution_count": 5,
   "metadata": {},
   "outputs": [
    {
     "name": "stdout",
     "output_type": "stream",
     "text": [
      "1292\n"
     ]
    }
   ],
   "source": [
    "with open(INPUT_FILE) as f:\n",
    "    depths = f.readlines()\n",
    "\n",
    "count = 0\n",
    "for i, num in enumerate(depths[:-1]):\n",
    "    if int(num) < int(depths[i+1]):\n",
    "        count += 1\n",
    "\n",
    "print(count)"
   ]
  },
  {
   "cell_type": "markdown",
   "metadata": {},
   "source": [
    "In order to make this work, we are using a slice to ignore the last element from `depths`.\n",
    "After all, the slice `[:-n]` means [“drop the last `n` elements”](https://mathspp.com/blog/pydonts/idiomatic-sequence-slicing#s-n-3).\n",
    "\n",
    "Another interesting thought would be to try and simplify the `i + 1` part.\n",
    "The built-in `enumerate` accepts a `start` argument that specifies where the argument starts counting:"
   ]
  },
  {
   "cell_type": "code",
   "execution_count": 6,
   "metadata": {},
   "outputs": [
    {
     "data": {
      "text/plain": [
       "[(0, 'c'), (1, 'o'), (2, 'd'), (3, 'e')]"
      ]
     },
     "execution_count": 6,
     "metadata": {},
     "output_type": "execute_result"
    }
   ],
   "source": [
    "list(enumerate('code'))"
   ]
  },
  {
   "cell_type": "code",
   "execution_count": 9,
   "metadata": {},
   "outputs": [
    {
     "name": "stdout",
     "output_type": "stream",
     "text": [
      "1 c\n",
      "2 o\n",
      "3 d\n",
      "4 e\n"
     ]
    }
   ],
   "source": [
    "for next_idx, num in enumerate('code', start=1):\n",
    "    print(next_idx, num)"
   ]
  },
  {
   "cell_type": "markdown",
   "metadata": {},
   "source": [
    "Therefore, one might think that we could set `start=1` to avoid having to perform the sum.\n",
    "If we do so, then we must be very explicit about what index we are using:"
   ]
  },
  {
   "cell_type": "code",
   "execution_count": 12,
   "metadata": {},
   "outputs": [
    {
     "name": "stdout",
     "output_type": "stream",
     "text": [
      "1292\n"
     ]
    }
   ],
   "source": [
    "with open(INPUT_FILE, \"r\") as f:\n",
    "    depths = f.readlines()\n",
    "\n",
    "count = 0\n",
    "for next_idx, num in enumerate(depths[:-1], start=1):\n",
    "    if int(num) < int(depths[next_idx]):\n",
    "        count += 1\n",
    "\n",
    "print(count)"
   ]
  },
  {
   "cell_type": "markdown",
   "metadata": {},
   "source": [
    "However, I personally don't like this.\n",
    "There is something here that makes me look for a better solution, although some might say I'm just being paranoid.\n",
    "But, the truth is, our `if` statement is very asymmetrical right now.\n",
    "\n",
    "The solution lies elsewhere!\n",
    "The built-in `zip` is more correct here, because `zip` is used to pair sequences up.\n",
    "But what sequences do we want to pair up..?\n",
    "After all, we have a single sequence at hands!\n",
    "\n",
    "As it turns out, the both patterns of “this item & the next one” and “this item & the previous one” are easily written with `zip`.\n",
    "We just have to remember that, if `seq` is a sequence, then `seq[1:]` means “drop the first element” and `seq[:-1]` means “drop the last element”:\n",
    "\n",
    "![](zip_pairwise.png)"
   ]
  },
  {
   "cell_type": "code",
   "execution_count": 21,
   "metadata": {},
   "outputs": [
    {
     "name": "stdout",
     "output_type": "stream",
     "text": [
      "code\n",
      "oder\n",
      "[('c', 'o'), ('o', 'd'), ('d', 'e'), ('e', 'r')]\n"
     ]
    }
   ],
   "source": [
    "s = 'coder'\n",
    "print(s[:-1])\n",
    "print(s[1:])\n",
    "print(list(zip(s[:-1], s[1:])))"
   ]
  },
  {
   "cell_type": "code",
   "execution_count": 23,
   "metadata": {},
   "outputs": [
    {
     "name": "stdout",
     "output_type": "stream",
     "text": [
      "1292\n"
     ]
    }
   ],
   "source": [
    "with open(INPUT_FILE, \"r\") as f:\n",
    "    depths = f.readlines()\n",
    "\n",
    "count = 0\n",
    "for prev_, next_ in zip(depths[:-1], depths[1:]):\n",
    "    if int(prev_) < int(next_):\n",
    "        count +=1\n",
    "\n",
    "print(count)"
   ]
  },
  {
   "cell_type": "markdown",
   "metadata": {},
   "source": [
    "In the above, I wrote the name `next_` because `next` is a built-in function.\n",
    "Then, I decided to use `prev_` instead of `prev` just for symmetry.\n",
    "You can pick any other two names you prefer, or use `for prev, next_ in ...`.\n",
    "\n",
    "To simplify things a bit, especially when doing a similar thing with three or more iterables, we can actually omit the slices that are cutting from the end, because `zip` stops as soon as one iterable stops.\n",
    "In other words, we don't need to specify `depths[:-1]`:\n",
    "\n",
    "![](zip_stops_shortest.png)\n",
    "\n",
    "With that in mind, we can remove the extra slice:"
   ]
  },
  {
   "cell_type": "code",
   "execution_count": 24,
   "metadata": {},
   "outputs": [
    {
     "name": "stdout",
     "output_type": "stream",
     "text": [
      "1292\n"
     ]
    }
   ],
   "source": [
    "with open(INPUT_FILE, \"r\") as f:\n",
    "    depths = f.readlines()\n",
    "\n",
    "count = 0\n",
    "for prev_, next_ in zip(depths, depths[1:]):\n",
    "    if int(prev_) < int(next_):\n",
    "        count += 1\n",
    "\n",
    "print(count)"
   ]
  },
  {
   "cell_type": "markdown",
   "metadata": {},
   "source": [
    "### Repeated `int` conversions\n",
    "\n",
    "If you look closely at the `for` loop we are writing, you will notice that most of the values in `depth` are going to be passed in to the built-in `int` twice.\n",
    "While that's not a terrible thing, it's _double_ the work we need.\n",
    "All we need is for each number to be converted once, right?\n",
    "\n",
    "Therefore, we can do the `int` conversion a bit earlier in the process:"
   ]
  },
  {
   "cell_type": "code",
   "execution_count": 25,
   "metadata": {},
   "outputs": [
    {
     "name": "stdout",
     "output_type": "stream",
     "text": [
      "1292\n"
     ]
    }
   ],
   "source": [
    "with open(INPUT_FILE, \"r\") as f:\n",
    "    depths = f.readlines()\n",
    "\n",
    "depths = [int(d) for d in depths]\n",
    "count = 0\n",
    "for prev_, next_ in zip(depths, depths[1:]):\n",
    "    if prev_ < next_:\n",
    "        count+=1\n",
    "\n",
    "print(count)"
   ]
  },
  {
   "cell_type": "markdown",
   "metadata": {},
   "source": [
    "Of course, now we have another issue of repeated work: first, we go over the whole file to read the lines with `.readlines`, and then we go over the file contents to convert everything into an integer.\n",
    "We can do everything at once, if we convert the lines to integers _while_ we read them:"
   ]
  },
  {
   "cell_type": "code",
   "execution_count": 28,
   "metadata": {},
   "outputs": [
    {
     "name": "stdout",
     "output_type": "stream",
     "text": [
      "1292\n"
     ]
    }
   ],
   "source": [
    "with open(INPUT_FILE, \"r\") as f:\n",
    "    depths = [int(line) for line in f]\n",
    "\n",
    "count = 0\n",
    "for prev_, next_ in zip(depths, depths[1:]):\n",
    "    if prev_ < next_:\n",
    "        count += 1\n",
    "    \n",
    "print(count)"
   ]
  },
  {
   "cell_type": "markdown",
   "metadata": {},
   "source": [
    "In case you didn't know, [you can iterate over a file](https://mathspp.com/blog/til/006), which allows you to iterate over the lines.\n",
    "That's what allowed us to convert into integers all the lines.\n",
    "\n",
    "On top of that, you might be interested in knowing that [`int` is forgiving](https://twitter.com/mathsppblog/status/1466190674030698499), in that it allows the integers to be surrounded by whitespace:"
   ]
  },
  {
   "cell_type": "code",
   "execution_count": null,
   "metadata": {},
   "outputs": [],
   "source": []
  }
 ],
 "metadata": {
  "kernelspec": {
   "display_name": "venv-dl-1.0",
   "language": "python",
   "name": "python3"
  },
  "language_info": {
   "codemirror_mode": {
    "name": "ipython",
    "version": 3
   },
   "file_extension": ".py",
   "mimetype": "text/x-python",
   "name": "python",
   "nbconvert_exporter": "python",
   "pygments_lexer": "ipython3",
   "version": "3.9.18"
  }
 },
 "nbformat": 4,
 "nbformat_minor": 2
}
