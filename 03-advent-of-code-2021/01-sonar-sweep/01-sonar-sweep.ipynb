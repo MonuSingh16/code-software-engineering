{
 "cells": [
  {
   "cell_type": "markdown",
   "metadata": {},
   "source": [
    "## Part 1 problem statement\n",
    "\n",
    "(Adapted from [Advent of Code 2021, day 1](https://adventofcode.com/2021/day/1))\n",
    "\n",
    "You are given a report of depth measurements, like\n",
    "\n",
    "```txt\n",
    "199\n",
    "200\n",
    "208\n",
    "210\n",
    "200\n",
    "207\n",
    "240\n",
    "269\n",
    "260\n",
    "263\n",
    "```\n",
    "\n",
    "The first order of business is to figure out how quickly the depth increases.\n",
    "\n",
    "To do this, count **the number of times a depth measurement increases** from the previous measurement. (There is no measurement before the first measurement.)\n",
    "\n",
    "In the example above, the changes are as follows:\n",
    "\n",
    "```txt\n",
    "199 (N/A - no previous measurement)\n",
    "200 (increased)\n",
    "208 (increased)\n",
    "210 (increased)\n",
    "200 (decreased)\n",
    "207 (increased)\n",
    "240 (increased)\n",
    "269 (increased)\n",
    "260 (decreased)\n",
    "263 (increased)\n",
    "```\n",
    "\n",
    "In this example, there are 7 measurements that are larger than the previous measurement.\n",
    "\n",
    "How many measurements are larger than the previous measurement in the input file `input.txt`?\n",
    "\n",
    "_Using my input file, the result should be 1292._"
   ]
  },
  {
   "cell_type": "code",
   "execution_count": 1,
   "metadata": {},
   "outputs": [],
   "source": [
    "# IMPORTANT: Set this to correct path for you !\n",
    "INPUT_FILE = \"input.txt\"\n",
    "\n",
    "import pathlib\n",
    "assert pathlib.Path(INPUT_FILE).exists()"
   ]
  },
  {
   "cell_type": "markdown",
   "metadata": {},
   "source": [
    "### Baseline solution\n",
    "The problem statement asks us to traverse the depth reports and to compare the current measurement with the previous one.\n",
    "\n",
    "The underlying idea is that, when talking about a sequence (for example, a list of measurements), a relationship\n",
    "of “previous” translates into subtracting 1 to the index at hands. Similarly, a relationship of “next” translates into adding 1 to the index.\n",
    "\n",
    "The only thing we need to be careful about is ensuring we stay within the boundaries of the sequence, so that doing +1 or -1 in an index still gives a valid index.\n",
    "\n",
    "This translates directly into this solution:"
   ]
  },
  {
   "cell_type": "code",
   "execution_count": 3,
   "metadata": {},
   "outputs": [
    {
     "name": "stdout",
     "output_type": "stream",
     "text": [
      "1292\n"
     ]
    }
   ],
   "source": [
    "with open(INPUT_FILE, \"r\") as f:\n",
    "    depths = f.readlines()\n",
    "\n",
    "count = 0\n",
    "for i in range(1, len(depths)):\n",
    "    if int(depths[i-1]) < int(depths[i]): # Compare the previous one with current\n",
    "        count += 1\n",
    "\n",
    "print(count)"
   ]
  },
  {
   "cell_type": "markdown",
   "metadata": {},
   "source": [
    "If we stick to the “compare with the previous” interpretation, then the indices that matter are `i - 1` (the previous item) and `i` (the current item); and, therefore, `i` must start at `1`.\n",
    "This means we use `range(1, len(depths))`.\n",
    "\n",
    "If we go with the “compare with the next” interpretation, then the indices that matter are `i` (the current item) and `i + 1` (the next item).\n",
    "For that, our range needs to end earlier than `len(depths)`:"
   ]
  },
  {
   "cell_type": "code",
   "execution_count": 9,
   "metadata": {},
   "outputs": [
    {
     "name": "stdout",
     "output_type": "stream",
     "text": [
      "1292\n"
     ]
    }
   ],
   "source": [
    "with open(INPUT_FILE, \"r\") as f:\n",
    "    depths = f.readlines()\n",
    "\n",
    "count = 0\n",
    "for i in range(len(depths) - 1):\n",
    "    if int(depths[i]) < int(depths[i+1]): # Compare the current with \"the next\"\n",
    "        count += 1\n",
    "\n",
    "print(count)"
   ]
  },
  {
   "cell_type": "markdown",
   "metadata": {},
   "source": [
    "### Free resources ASAP\n",
    "\n",
    "When using a `with` statement to access a file, you know that your file is automatically closed when you leave the `with` statement.\n",
    "You also know that the `with` statement is nice because it will still close the file if, for example, your code throws an error.\n",
    "That's very convenient, and a lovely reason to use the `with` statement.\n",
    "\n",
    "However, while you are inside the `with` statement, the file remains open and in use by the operating system.\n",
    "That is to say that you want to follow the Python practice of avoiding nesting whenever possible, because in this case it means that you will free up the file as soon as possible.\n",
    "In other words, put as little code inside the `with` statement as possible.\n",
    "\n",
    "In our case, because we use `.readlines` to read the whole file, we can leave the `with` statement immediately:"
   ]
  },
  {
   "cell_type": "code",
   "execution_count": null,
   "metadata": {},
   "outputs": [],
   "source": []
  },
  {
   "cell_type": "markdown",
   "metadata": {},
   "source": [
    "## The range of the length\n",
    "\n",
    "Another frequent anti-pattern in Python is the excerpt `for i in range(len(...))`.\n",
    "_Most of the times_, that `for` loop isn't what you really wanted to use.\n",
    "Python has very powerful `for` loops, and the `for i in range(len(...))` is a pattern that we inherited from languages like C.\n",
    "In Python, we tend to use built-ins like [`enumerate`](https://mathspp.com/blog/pydonts/enumerate-me) and [`zip`](https://mathspp.com/blog/pydonts/zip-up).\n",
    "\n",
    "Another hint at the fact that the loop we care about is not the `range(len(...))`, is that we don't really care about the indices.\n",
    "Notice how `range(len(something))` gives you all the legal indices associated with `something`, but what we really care about are the elements.\n",
    "\n",
    "A slight improvement would be to recognise the `enumerate` pattern:\n",
    "`enumerate` is a good built-in to use if, in a `for` loop, you care about the current element _and_ about the current index you are using.\n",
    "In our case, we care about the current index so that we can compute the index of the neighbouring element.\n",
    "So, we could try writing something like this:"
   ]
  },
  {
   "cell_type": "code",
   "execution_count": null,
   "metadata": {},
   "outputs": [],
   "source": [
    "with open(INPUT_FILE) as f:\n",
    "    depths = f.readlines()\n",
    "\n",
    "count = 0\n",
    "for i, num in enumerate(d)"
   ]
  }
 ],
 "metadata": {
  "kernelspec": {
   "display_name": "venv-dl-1.0",
   "language": "python",
   "name": "python3"
  },
  "language_info": {
   "codemirror_mode": {
    "name": "ipython",
    "version": 3
   },
   "file_extension": ".py",
   "mimetype": "text/x-python",
   "name": "python",
   "nbconvert_exporter": "python",
   "pygments_lexer": "ipython3",
   "version": "3.9.18"
  }
 },
 "nbformat": 4,
 "nbformat_minor": 2
}
