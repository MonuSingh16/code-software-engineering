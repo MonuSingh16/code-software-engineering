{
 "cells": [
  {
   "cell_type": "markdown",
   "metadata": {},
   "source": [
    "## Part 1 problem statement\n",
    "\n",
    "(Adapted from [Advent of Code 2021, day 1](https://adventofcode.com/2021/day/1))\n",
    "\n",
    "You are given a report of depth measurements, like\n",
    "\n",
    "```txt\n",
    "199\n",
    "200\n",
    "208\n",
    "210\n",
    "200\n",
    "207\n",
    "240\n",
    "269\n",
    "260\n",
    "263\n",
    "```\n",
    "\n",
    "The first order of business is to figure out how quickly the depth increases.\n",
    "\n",
    "To do this, count **the number of times a depth measurement increases** from the previous measurement. (There is no measurement before the first measurement.)\n",
    "\n",
    "In the example above, the changes are as follows:\n",
    "\n",
    "```txt\n",
    "199 (N/A - no previous measurement)\n",
    "200 (increased)\n",
    "208 (increased)\n",
    "210 (increased)\n",
    "200 (decreased)\n",
    "207 (increased)\n",
    "240 (increased)\n",
    "269 (increased)\n",
    "260 (decreased)\n",
    "263 (increased)\n",
    "```\n",
    "\n",
    "In this example, there are 7 measurements that are larger than the previous measurement.\n",
    "\n",
    "How many measurements are larger than the previous measurement in the input file `input.txt`?\n",
    "\n",
    "_Using my input file, the result should be 1292._"
   ]
  },
  {
   "cell_type": "code",
   "execution_count": 2,
   "metadata": {},
   "outputs": [],
   "source": [
    "# IMPORTANT: Set this to correct path for you !\n",
    "INPUT_FILE = \"input.txt\"\n",
    "\n",
    "import pathlib\n",
    "assert pathlib.Path(INPUT_FILE).exists()"
   ]
  },
  {
   "cell_type": "markdown",
   "metadata": {},
   "source": [
    "### Baseline solution\n",
    "The problem statement asks us to traverse the depth reports and to compare the current measurement with the previous one.\n",
    "\n",
    "The underlying idea is that, when talking about a sequence (for example, a list of measurements), a relationship\n",
    "of “previous” translates into subtracting 1 to the index at hands. Similarly, a relationship of “next” translates into adding 1 to the index.\n",
    "\n",
    "The only thing we need to be careful about is ensuring we stay within the boundaries of the sequence, so that doing +1 or -1 in an index still gives a valid index.\n",
    "\n",
    "This translates directly into this solution:"
   ]
  },
  {
   "cell_type": "code",
   "execution_count": 3,
   "metadata": {},
   "outputs": [
    {
     "name": "stdout",
     "output_type": "stream",
     "text": [
      "1292\n"
     ]
    }
   ],
   "source": [
    "with open(INPUT_FILE, \"r\") as f:\n",
    "    depths = f.readlines()\n",
    "\n",
    "count = 0\n",
    "for i in range(1, len(depths)):\n",
    "    if int(depths[i-1]) < int(depths[i]): # Compare the previous one with current\n",
    "        count += 1\n",
    "\n",
    "print(count)"
   ]
  },
  {
   "cell_type": "markdown",
   "metadata": {},
   "source": [
    "If we stick to the “compare with the previous” interpretation, then the indices that matter are `i - 1` (the previous item) and `i` (the current item); and, therefore, `i` must start at `1`.\n",
    "This means we use `range(1, len(depths))`.\n",
    "\n",
    "If we go with the “compare with the next” interpretation, then the indices that matter are `i` (the current item) and `i + 1` (the next item).\n",
    "For that, our range needs to end earlier than `len(depths)`:"
   ]
  },
  {
   "cell_type": "code",
   "execution_count": 4,
   "metadata": {},
   "outputs": [
    {
     "name": "stdout",
     "output_type": "stream",
     "text": [
      "1292\n"
     ]
    }
   ],
   "source": [
    "with open(INPUT_FILE, \"r\") as f:\n",
    "    depths = f.readlines()\n",
    "\n",
    "count = 0\n",
    "for i in range(len(depths) - 1):\n",
    "    if int(depths[i]) < int(depths[i+1]): # Compare the current with \"the next\"\n",
    "        count += 1\n",
    "\n",
    "print(count)"
   ]
  },
  {
   "cell_type": "markdown",
   "metadata": {},
   "source": [
    "### Free resources ASAP\n",
    "\n",
    "When using a `with` statement to access a file, you know that your file is automatically closed when you leave the `with` statement.\n",
    "You also know that the `with` statement is nice because it will still close the file if, for example, your code throws an error.\n",
    "That's very convenient, and a lovely reason to use the `with` statement.\n",
    "\n",
    "However, while you are inside the `with` statement, the file remains open and in use by the operating system.\n",
    "That is to say that you want to follow the Python practice of avoiding nesting whenever possible, because in this case it means that you will free up the file as soon as possible.\n",
    "In other words, put as little code inside the `with` statement as possible.\n",
    "\n",
    "In our case, because we use `.readlines` to read the whole file, we can leave the `with` statement immediately:"
   ]
  },
  {
   "cell_type": "code",
   "execution_count": null,
   "metadata": {},
   "outputs": [],
   "source": []
  },
  {
   "cell_type": "markdown",
   "metadata": {},
   "source": [
    "## The range of the length\n",
    "\n",
    "Another frequent anti-pattern in Python is the excerpt `for i in range(len(...))`.\n",
    "_Most of the times_, that `for` loop isn't what you really wanted to use.\n",
    "Python has very powerful `for` loops, and the `for i in range(len(...))` is a pattern that we inherited from languages like C.\n",
    "In Python, we tend to use built-ins like [`enumerate`](https://mathspp.com/blog/pydonts/enumerate-me) and [`zip`](https://mathspp.com/blog/pydonts/zip-up).\n",
    "\n",
    "Another hint at the fact that the loop we care about is not the `range(len(...))`, is that we don't really care about the indices.\n",
    "Notice how `range(len(something))` gives you all the legal indices associated with `something`, but what we really care about are the elements.\n",
    "\n",
    "A slight improvement would be to recognise the `enumerate` pattern:\n",
    "`enumerate` is a good built-in to use if, in a `for` loop, you care about the current element _and_ about the current index you are using.\n",
    "In our case, we care about the current index so that we can compute the index of the neighbouring element.\n",
    "So, we could try writing something like this:"
   ]
  },
  {
   "cell_type": "code",
   "execution_count": 5,
   "metadata": {},
   "outputs": [
    {
     "name": "stdout",
     "output_type": "stream",
     "text": [
      "1292\n"
     ]
    }
   ],
   "source": [
    "with open(INPUT_FILE) as f:\n",
    "    depths = f.readlines()\n",
    "\n",
    "count = 0\n",
    "for i, num in enumerate(depths[:-1]):\n",
    "    if int(num) < int(depths[i+1]):\n",
    "        count += 1\n",
    "\n",
    "print(count)"
   ]
  },
  {
   "cell_type": "markdown",
   "metadata": {},
   "source": [
    "In order to make this work, we are using a slice to ignore the last element from `depths`.\n",
    "After all, the slice `[:-n]` means [“drop the last `n` elements”](https://mathspp.com/blog/pydonts/idiomatic-sequence-slicing#s-n-3).\n",
    "\n",
    "Another interesting thought would be to try and simplify the `i + 1` part.\n",
    "The built-in `enumerate` accepts a `start` argument that specifies where the argument starts counting:"
   ]
  },
  {
   "cell_type": "code",
   "execution_count": 6,
   "metadata": {},
   "outputs": [
    {
     "data": {
      "text/plain": [
       "[(0, 'c'), (1, 'o'), (2, 'd'), (3, 'e')]"
      ]
     },
     "execution_count": 6,
     "metadata": {},
     "output_type": "execute_result"
    }
   ],
   "source": [
    "list(enumerate('code'))"
   ]
  },
  {
   "cell_type": "code",
   "execution_count": 7,
   "metadata": {},
   "outputs": [
    {
     "name": "stdout",
     "output_type": "stream",
     "text": [
      "1 c\n",
      "2 o\n",
      "3 d\n",
      "4 e\n"
     ]
    }
   ],
   "source": [
    "for next_idx, num in enumerate('code', start=1):\n",
    "    print(next_idx, num)"
   ]
  },
  {
   "cell_type": "markdown",
   "metadata": {},
   "source": [
    "Therefore, one might think that we could set `start=1` to avoid having to perform the sum.\n",
    "If we do so, then we must be very explicit about what index we are using:"
   ]
  },
  {
   "cell_type": "code",
   "execution_count": 8,
   "metadata": {},
   "outputs": [
    {
     "name": "stdout",
     "output_type": "stream",
     "text": [
      "1292\n"
     ]
    }
   ],
   "source": [
    "with open(INPUT_FILE, \"r\") as f:\n",
    "    depths = f.readlines()\n",
    "\n",
    "count = 0\n",
    "for next_idx, num in enumerate(depths[:-1], start=1):\n",
    "    if int(num) < int(depths[next_idx]):\n",
    "        count += 1\n",
    "\n",
    "print(count)"
   ]
  },
  {
   "cell_type": "markdown",
   "metadata": {},
   "source": [
    "However, I personally don't like this.\n",
    "There is something here that makes me look for a better solution, although some might say I'm just being paranoid.\n",
    "But, the truth is, our `if` statement is very asymmetrical right now.\n",
    "\n",
    "The solution lies elsewhere!\n",
    "The built-in `zip` is more correct here, because `zip` is used to pair sequences up.\n",
    "But what sequences do we want to pair up..?\n",
    "After all, we have a single sequence at hands!\n",
    "\n",
    "As it turns out, the both patterns of “this item & the next one” and “this item & the previous one” are easily written with `zip`.\n",
    "We just have to remember that, if `seq` is a sequence, then `seq[1:]` means “drop the first element” and `seq[:-1]` means “drop the last element”:\n",
    "\n",
    "![](zip_pairwise.png)"
   ]
  },
  {
   "cell_type": "code",
   "execution_count": 9,
   "metadata": {},
   "outputs": [
    {
     "name": "stdout",
     "output_type": "stream",
     "text": [
      "code\n",
      "oder\n",
      "[('c', 'o'), ('o', 'd'), ('d', 'e'), ('e', 'r')]\n"
     ]
    }
   ],
   "source": [
    "s = 'coder'\n",
    "print(s[:-1])\n",
    "print(s[1:])\n",
    "print(list(zip(s[:-1], s[1:])))"
   ]
  },
  {
   "cell_type": "code",
   "execution_count": 10,
   "metadata": {},
   "outputs": [
    {
     "name": "stdout",
     "output_type": "stream",
     "text": [
      "1292\n"
     ]
    }
   ],
   "source": [
    "with open(INPUT_FILE, \"r\") as f:\n",
    "    depths = f.readlines()\n",
    "\n",
    "count = 0\n",
    "for prev_, next_ in zip(depths[:-1], depths[1:]):\n",
    "    if int(prev_) < int(next_):\n",
    "        count +=1\n",
    "\n",
    "print(count)"
   ]
  },
  {
   "cell_type": "markdown",
   "metadata": {},
   "source": [
    "In the above, I wrote the name `next_` because `next` is a built-in function.\n",
    "Then, I decided to use `prev_` instead of `prev` just for symmetry.\n",
    "You can pick any other two names you prefer, or use `for prev, next_ in ...`.\n",
    "\n",
    "To simplify things a bit, especially when doing a similar thing with three or more iterables, we can actually omit the slices that are cutting from the end, because `zip` stops as soon as one iterable stops.\n",
    "In other words, we don't need to specify `depths[:-1]`:\n",
    "\n",
    "![](zip_stops_shortest.png)\n",
    "\n",
    "With that in mind, we can remove the extra slice:"
   ]
  },
  {
   "cell_type": "code",
   "execution_count": 11,
   "metadata": {},
   "outputs": [
    {
     "name": "stdout",
     "output_type": "stream",
     "text": [
      "1292\n"
     ]
    }
   ],
   "source": [
    "with open(INPUT_FILE, \"r\") as f:\n",
    "    depths = f.readlines()\n",
    "\n",
    "count = 0\n",
    "for prev_, next_ in zip(depths, depths[1:]):\n",
    "    if int(prev_) < int(next_):\n",
    "        count += 1\n",
    "\n",
    "print(count)"
   ]
  },
  {
   "cell_type": "markdown",
   "metadata": {},
   "source": [
    "### Repeated `int` conversions\n",
    "\n",
    "If you look closely at the `for` loop we are writing, you will notice that most of the values in `depth` are going to be passed in to the built-in `int` twice.\n",
    "While that's not a terrible thing, it's _double_ the work we need.\n",
    "All we need is for each number to be converted once, right?\n",
    "\n",
    "Therefore, we can do the `int` conversion a bit earlier in the process:"
   ]
  },
  {
   "cell_type": "code",
   "execution_count": 12,
   "metadata": {},
   "outputs": [
    {
     "name": "stdout",
     "output_type": "stream",
     "text": [
      "1292\n"
     ]
    }
   ],
   "source": [
    "with open(INPUT_FILE, \"r\") as f:\n",
    "    depths = f.readlines()\n",
    "\n",
    "depths = [int(d) for d in depths]\n",
    "count = 0\n",
    "for prev_, next_ in zip(depths, depths[1:]):\n",
    "    if prev_ < next_:\n",
    "        count+=1\n",
    "\n",
    "print(count)"
   ]
  },
  {
   "cell_type": "markdown",
   "metadata": {},
   "source": [
    "Of course, now we have another issue of repeated work: first, we go over the whole file to read the lines with `.readlines`, and then we go over the file contents to convert everything into an integer.\n",
    "We can do everything at once, if we convert the lines to integers _while_ we read them:"
   ]
  },
  {
   "cell_type": "code",
   "execution_count": 13,
   "metadata": {},
   "outputs": [
    {
     "name": "stdout",
     "output_type": "stream",
     "text": [
      "1292\n"
     ]
    }
   ],
   "source": [
    "with open(INPUT_FILE, \"r\") as f:\n",
    "    depths = [int(line) for line in f]\n",
    "\n",
    "count = 0\n",
    "for prev_, next_ in zip(depths, depths[1:]):\n",
    "    if prev_ < next_:\n",
    "        count += 1\n",
    "    \n",
    "print(count)"
   ]
  },
  {
   "cell_type": "markdown",
   "metadata": {},
   "source": [
    "In case you didn't know, [you can iterate over a file](https://mathspp.com/blog/til/006), which allows you to iterate over the lines.\n",
    "That's what allowed us to convert into integers all the lines.\n",
    "\n",
    "On top of that, you might be interested in knowing that [`int` is forgiving](https://twitter.com/mathsppblog/status/1466190674030698499), in that it allows the integers to be surrounded by whitespace:"
   ]
  },
  {
   "cell_type": "markdown",
   "metadata": {},
   "source": [
    "### A really long input file\n",
    "\n",
    "Like I mentioned earlier, we need to consider if our input file fits into memory or not.\n",
    "Up to now, we have been reading the whole file at once, but we don't need to!\n",
    "We just saw we can iterate over `f` lazily, so we can leverage that for our own solution.\n",
    "\n",
    "When we do that, notice that throughout our comparison loop we will need to be reading new values from the file.\n",
    "Thus, if the file is large and we can't read all of it at once, we need to keep it open.\n",
    "In other words, we have to indent our code again.\n",
    "\n",
    "On top of that, because we are assuming the file is _very_ big, we can no longer create the list of `depths`!\n",
    "Thus, we have two options:\n",
    "\n",
    " - we can write a _generator expression_ for `depths`; or\n",
    " - we can use a `map` with `map(int, f)`.\n",
    "\n",
    "Using a generator expression entails converting the `[ ... ]` in the list comprehension to `( ... )`:"
   ]
  },
  {
   "cell_type": "code",
   "execution_count": 14,
   "metadata": {},
   "outputs": [
    {
     "ename": "TypeError",
     "evalue": "'generator' object is not subscriptable",
     "output_type": "error",
     "traceback": [
      "\u001b[0;31m---------------------------------------------------------------------------\u001b[0m",
      "\u001b[0;31mTypeError\u001b[0m                                 Traceback (most recent call last)",
      "Cell \u001b[0;32mIn[14], line 5\u001b[0m\n\u001b[1;32m      2\u001b[0m depths \u001b[38;5;241m=\u001b[39m (\u001b[38;5;28mint\u001b[39m(line) \u001b[38;5;28;01mfor\u001b[39;00m line \u001b[38;5;129;01min\u001b[39;00m f)\n\u001b[1;32m      4\u001b[0m count \u001b[38;5;241m=\u001b[39m \u001b[38;5;241m0\u001b[39m\n\u001b[0;32m----> 5\u001b[0m \u001b[38;5;28;01mfor\u001b[39;00m prev_, next_ \u001b[38;5;129;01min\u001b[39;00m \u001b[38;5;28mzip\u001b[39m(depths, \u001b[43mdepths\u001b[49m\u001b[43m[\u001b[49m\u001b[38;5;241;43m1\u001b[39;49m\u001b[43m:\u001b[49m\u001b[43m]\u001b[49m):\n\u001b[1;32m      6\u001b[0m     \u001b[38;5;28;01mif\u001b[39;00m prev_ \u001b[38;5;241m<\u001b[39m next_:\n\u001b[1;32m      7\u001b[0m         count \u001b[38;5;241m+\u001b[39m\u001b[38;5;241m=\u001b[39m \u001b[38;5;241m1\u001b[39m\n",
      "\u001b[0;31mTypeError\u001b[0m: 'generator' object is not subscriptable"
     ]
    }
   ],
   "source": [
    "with open(INPUT_FILE, \"r\") as f:\n",
    "    depths = (int(line) for line in f)\n",
    "\n",
    "    count = 0\n",
    "    for prev_, next_ in zip(depths, depths[1:]):\n",
    "        if prev_ < next_:\n",
    "            count += 1\n",
    "\n",
    "    print(count)"
   ]
  },
  {
   "cell_type": "markdown",
   "metadata": {},
   "source": [
    "However, as we do so, the `depths[1:]` stops working because generators are not indexable/sliceable.\n",
    "This shows a weakness in our solution!\n",
    "\n",
    "Thankfully, there are two good solutions!\n",
    "Starting with Python 3.10, there is a function called `itertools.pairwise` that implements the exact `zip` pattern we wanted:\n",
    "\n",
    "If you don't have Python 3.10 (or older), you can define your own `pairwise` using `itertools.tee`.\n",
    "\n",
    "This isn't beginner-level Python, so feel free to skip this bit:"
   ]
  },
  {
   "cell_type": "code",
   "execution_count": 26,
   "metadata": {},
   "outputs": [],
   "source": [
    "from itertools import tee\n",
    "\n",
    "def pairwise(it):\n",
    "    \"\"\"Mock `itertools.pairwise` for Python versions below 3.10.\"\"\"\n",
    "    prev_, next_ = tee(it, 2)     # Split `it` into two iterables.\n",
    "    next(next_)                   # Advance once.\n",
    "    yield from zip(prev_, next_)  # Yield the pairs."
   ]
  },
  {
   "cell_type": "code",
   "execution_count": null,
   "metadata": {},
   "outputs": [
    {
     "name": "stdout",
     "output_type": "stream",
     "text": [
      "1292\n"
     ]
    }
   ],
   "source": [
    "with open(INPUT_FILE, \"r\") as f:\n",
    "    depths = (int(line) for line in f)\n",
    "    \n",
    "    count = 0\n",
    "    for prev_, next_ in pairwise(depths):\n",
    "        if prev_ < next_:\n",
    "            count += 1\n",
    "    print(count)"
   ]
  },
  {
   "cell_type": "markdown",
   "metadata": {},
   "source": [
    "One thing I want you to understand, and that may go unnoticed because of the structure of the analysis above, is that using `itertools.pairwise` is a good idea regardless of whether we have this “really big file” or not.\n",
    "In fact, `pairwise` is the tool to go for when you want to implement the pattern `zip(seq, seq[1:])`."
   ]
  },
  {
   "cell_type": "markdown",
   "metadata": {},
   "source": [
    "### Counting by incrementing\n",
    "\n",
    "In all of the solutions above we have been counting by incrementing the `count` variable only when the depth test passes.\n",
    "However, there is a different approach to this, inspired by the languages where Boolean values are just 0s and 1s.\n",
    "Instead of checking with an `if`, we can just add the value of the condition to `count`:"
   ]
  },
  {
   "cell_type": "code",
   "execution_count": null,
   "metadata": {},
   "outputs": [
    {
     "name": "stdout",
     "output_type": "stream",
     "text": [
      "1292\n"
     ]
    }
   ],
   "source": [
    "with open(INPUT_FILE, \"r\") as f:\n",
    "    depths = (int(line) for line in f)\n",
    "\n",
    "    count = 0\n",
    "    for prev_, next_ in pairwise(depths):\n",
    "        count += prev_ < next_\n",
    "    \n",
    "    print(count)"
   ]
  },
  {
   "cell_type": "markdown",
   "metadata": {},
   "source": [
    "When `prev_ < next_` is `True` (and the `if` statement would pass the test, incrementing `count` by one), the statement `count += True` increments `count` by one.\n",
    "When `prev_ < next_` is `False` (and the `if` statement would not increment `count`), the statement `count += False` increments `count` by zero.\n",
    "\n",
    "After all, Boolean values can be treated as integers:"
   ]
  },
  {
   "cell_type": "code",
   "execution_count": null,
   "metadata": {},
   "outputs": [
    {
     "data": {
      "text/plain": [
       "2"
      ]
     },
     "execution_count": 33,
     "metadata": {},
     "output_type": "execute_result"
    }
   ],
   "source": [
    "1 + True"
   ]
  },
  {
   "cell_type": "code",
   "execution_count": null,
   "metadata": {},
   "outputs": [
    {
     "data": {
      "text/plain": [
       "1"
      ]
     },
     "execution_count": 34,
     "metadata": {},
     "output_type": "execute_result"
    }
   ],
   "source": [
    "1 + False"
   ]
  },
  {
   "cell_type": "markdown",
   "metadata": {},
   "source": [
    "This has to be used with caution, though, and is not _always_ advisable.\n",
    "\n",
    "Here's a short aside:\n",
    "a context in which this is good is in the context of data science, when you're using Pandas to analyse Boolean columns.\n",
    "If you have a dataframe `df` and a Boolean column `df[\"bc\"]`, then `df[\"bc\"].sum()` uses this same principle to count how many rows are `True`."
   ]
  },
  {
   "cell_type": "markdown",
   "metadata": {},
   "source": [
    "### Summing the conditions\n",
    "\n",
    "However, moving the condition to the value that is being incremented gives rise to another implementation.\n",
    "\n",
    "After all, the pattern\n",
    "\n",
    "```py\n",
    "accumulator = 0\n",
    "for element in iterable:\n",
    "    accumulator += foo(element)\n",
    "```\n",
    "\n",
    "is equivalent to\n",
    "\n",
    "```py\n",
    "sum(foo(element) for element in iterable)\n",
    "```\n",
    "\n",
    "Therefore, we can rewrite our solution to be a sum:"
   ]
  },
  {
   "cell_type": "code",
   "execution_count": null,
   "metadata": {},
   "outputs": [
    {
     "name": "stdout",
     "output_type": "stream",
     "text": [
      "1292\n"
     ]
    }
   ],
   "source": [
    "with open(INPUT_FILE, \"r\") as f:\n",
    "    depths = (int(line) for line in f)\n",
    "\n",
    "    count = sum(prev_ < next_ for prev_, next_ in pairwise(depths))\n",
    "    print(count)"
   ]
  },
  {
   "cell_type": "markdown",
   "metadata": {},
   "source": [
    "## Part 2 problem statement\n",
    "\n",
    "(Adapted from [Advent of Code 2021, day 1](https://adventofcode.com/2021/day/1))\n",
    "\n",
    "Instead of comparing consecutive values, consider sums of a three-measurement sliding window. Again considering the example below:\n",
    "\n",
    "```txt\n",
    "199  A      \n",
    "200  A B    \n",
    "208  A B C  \n",
    "210    B C D\n",
    "200      C D E\n",
    "207        D E F\n",
    "240          E F G\n",
    "269            F G H\n",
    "260              G H\n",
    "263                H\n",
    "```\n",
    "\n",
    "Start by comparing the first and second three-measurement windows. The measurements in the first window are marked A (199, 200, 208); their sum is 199 + 200 + 208 = 607. The second window is marked B (200, 208, 210); its sum is 618. The sum of measurements in the second window is larger than the sum of the first, so this first comparison **increased**.\n",
    "\n",
    "Your goal now is to count **the number of times the sum of measurements in this sliding window increases** from the previous sum. So, compare A with B, then compare B with C, then C with D, and so on. Stop when there aren't enough measurements left to create a new three-measurement sum.\n",
    "\n",
    "In the above example, the sum of each three-measurement window is as follows:\n",
    "\n",
    "```\n",
    "A: 607 (N/A - no previous sum)\n",
    "B: 618 (increased)\n",
    "C: 618 (no change)\n",
    "D: 617 (decreased)\n",
    "E: 647 (increased)\n",
    "F: 716 (increased)\n",
    "G: 769 (increased)\n",
    "H: 792 (increased)\n",
    "```\n",
    "\n",
    "In this example, there are 5 sums that are larger than the previous sum.\n",
    "\n",
    "Consider sums of a three-measurement sliding window. How many sums are larger than the previous sum in the input file `input.txt`?\n",
    "\n",
    "_You should arrive at the answer 1262._"
   ]
  },
  {
   "cell_type": "markdown",
   "metadata": {},
   "source": [
    "### Similar baseline solution\n",
    "\n",
    "If we follow a train of thought similar to that employed for the first baseline solution, we might write something like this:"
   ]
  },
  {
   "cell_type": "code",
   "execution_count": 17,
   "metadata": {},
   "outputs": [
    {
     "name": "stdout",
     "output_type": "stream",
     "text": [
      "1262\n"
     ]
    }
   ],
   "source": [
    "with open(INPUT_FILE, 'r') as f:\n",
    "    depths = [int(line) for line in f.readlines()]\n",
    "\n",
    "count = 0\n",
    "for i in range(2, len(depths)):\n",
    "    left = depths[i - 3] + depths[i - 2] + depths[i - 1]\n",
    "    right = depths[i - 2] + depths[i - 1] + depths[i]\n",
    "\n",
    "    if left < right:\n",
    "        count += 1\n",
    "print(count)"
   ]
  },
  {
   "cell_type": "markdown",
   "metadata": {},
   "source": [
    "This solution works, but it is too much trouble to the programmer: we had to do six indexing operations!\n",
    "Do you know what are the odds that you'll make a typo and get one index wrong?\n",
    "For me, that's like 103%!\n",
    "\n",
    "This is a test you can make to check if your code is “good”: look for numeric parameters in the problem set, and imagine they were much larger.\n",
    "Would you still want to write your solution in the same way?\n",
    "\n",
    "For example, the window size of 3 is a parameter of the problem statement.\n",
    "What if it were a window of size 20?\n",
    "Would you still write the sum of the indexing by hand?\n",
    "Probably not!\n",
    "\n",
    "Hence, you might want to change your code to something using slices:"
   ]
  },
  {
   "cell_type": "code",
   "execution_count": 21,
   "metadata": {},
   "outputs": [
    {
     "name": "stdout",
     "output_type": "stream",
     "text": [
      "1262\n"
     ]
    }
   ],
   "source": [
    "with open(INPUT_FILE, 'r') as f:\n",
    "    depths = [int(line) for line in f.readlines()]\n",
    "\n",
    "count = 0\n",
    "for i in range(len(depths) - 3):\n",
    "    left, right = sum(depths[i:i+3]), sum(depths[i+1:i+4])\n",
    "    if left < right:\n",
    "        count += 1\n",
    "\n",
    "print(count)\n"
   ]
  },
  {
   "cell_type": "markdown",
   "metadata": {},
   "source": [
    "This is one very reasonable train of thought.\n",
    "Again, because it is using explicit slices, this wouldn't work if the input file were too large.\n",
    "\n",
    "Thus, you might want to stay loyal to the `pairwise` solution we found earlier.\n",
    "Maybe there is an `itertools` function for windows of an arbitrary size?"
   ]
  },
  {
   "cell_type": "markdown",
   "metadata": {},
   "source": [
    "### Sum over a “triplewise”\n",
    "\n",
    "Sadly, `itertools` does not have such a function.\n",
    "You can take a look at the custom `pairwise` defined above, and try your hand at implementing a `triplewise` function, that returns three consecutive elements from an iterable.\n",
    "\n",
    "Skip the definition, if you want:"
   ]
  },
  {
   "cell_type": "code",
   "execution_count": 22,
   "metadata": {},
   "outputs": [],
   "source": [
    "from itertools import tee\n",
    "\n",
    "def triplewise(it):\n",
    "    it1, it2, it3 = tee(it, 3)\n",
    "    next(it2); next(it3); next(it3)\n",
    "    yield from zip(it1, it2, it3)"
   ]
  },
  {
   "cell_type": "code",
   "execution_count": 23,
   "metadata": {},
   "outputs": [
    {
     "data": {
      "text/plain": [
       "[('c', 'o', 'd'), ('o', 'd', 'e'), ('d', 'e', 'r')]"
      ]
     },
     "execution_count": 23,
     "metadata": {},
     "output_type": "execute_result"
    }
   ],
   "source": [
    "list(triplewise(\"coder\"))"
   ]
  },
  {
   "cell_type": "markdown",
   "metadata": {},
   "source": [
    "With the function `triplewise` (which doesn't exist in `itertools`, but exists in [`more_itertools`](https://more-itertools.readthedocs.io/en/stable/), along with many other useful functions!), we could write a rudimentary function that keeps computing the value of the sum of the current window, and compares it to the previous sum:"
   ]
  },
  {
   "cell_type": "code",
   "execution_count": 24,
   "metadata": {},
   "outputs": [
    {
     "name": "stdout",
     "output_type": "stream",
     "text": [
      "1262\n"
     ]
    }
   ],
   "source": [
    "with open(INPUT_FILE, 'r') as f:\n",
    "    depths = [int(line) for line in f.readlines()]\n",
    "\n",
    "count = 0\n",
    "sum_prev = float('inf')\n",
    "for triple in triplewise(depths):\n",
    "    sum_ = sum(triple)\n",
    "    if sum_prev < sum_:\n",
    "        count += 1\n",
    "    sum_prev = sum_\n",
    "\n",
    "print(count)\n",
    "    "
   ]
  },
  {
   "cell_type": "markdown",
   "metadata": {},
   "source": [
    "This works, but now we have “regressed” in a way.\n",
    "\n",
    "Part 1 and part 2 are very similar in structure.\n",
    "However, for part 1 we didn't need to have an auxiliary variable that we kept updating, and now we do..."
   ]
  },
  {
   "cell_type": "markdown",
   "metadata": {},
   "source": [
    "### Pairwise the triplewise\n",
    "\n",
    "Part 1 and part 2 are exactly the same, except that part 1 had a window size of 1, and part 2 has a window size of 3.\n",
    "So, part 2 should be solvable with code similar to that of part 1!\n",
    "In part 1, we used a pairwise to compare the windows, so that's what we should be doing here:"
   ]
  },
  {
   "cell_type": "code",
   "execution_count": 28,
   "metadata": {},
   "outputs": [
    {
     "name": "stdout",
     "output_type": "stream",
     "text": [
      "1262\n"
     ]
    }
   ],
   "source": [
    "with open(INPUT_FILE, 'r') as f:\n",
    "    depths = [int(line) for line in f.readlines()]\n",
    "\n",
    "count = 0\n",
    "for triple_prev, triple_next in pairwise(triplewise(depths)):\n",
    "    count += sum(triple_prev) < sum(triple_next)\n",
    "        \n",
    "print(count)\n"
   ]
  },
  {
   "cell_type": "markdown",
   "metadata": {},
   "source": [
    "Wait, is this getting too complicated?!\n",
    "\n",
    "Good!\n",
    "That's because we are overlooking something.\n",
    "\n",
    "I suffer from this, but when we read a problem statement, we should spend a couple of minutes thinking about it...\n",
    "\n",
    "Let's go back to the original problem statement and the example they showed:\n",
    "\n",
    "```txt\n",
    "199  A      \n",
    "200  A B    \n",
    "208  A B C  \n",
    "210    B C D\n",
    "200      C D E\n",
    "207        D E F\n",
    "240          E F G\n",
    "269            F G H\n",
    "260              G H\n",
    "263                H\n",
    "```\n",
    "\n",
    "How do we compare the sliding window `A` with the sliding window `B`?\n",
    "Notice how the windows `A` and `B` have a huge overlap!\n",
    "They overlap in the numbers `200` and `208`; it's only the beginning of `A` and the end of `B` that change!\n",
    "\n",
    "This is actually easy to spot in the baseline solution with indices.\n",
    "Let me include it here again, but let me realign the assignments to `left` and `right`:"
   ]
  },
  {
   "cell_type": "code",
   "execution_count": 29,
   "metadata": {},
   "outputs": [
    {
     "name": "stdout",
     "output_type": "stream",
     "text": [
      "1262\n"
     ]
    }
   ],
   "source": [
    "with open(INPUT_FILE, 'r') as f:\n",
    "    depths = [int(line) for line in f.readlines()]\n",
    "\n",
    "count = 0\n",
    "for i in range(3, len(depths)):\n",
    "    left = depths[i - 3] + depths[i - 2] + depths[i - 1]\n",
    "    right =                 depths[i - 2] + depths[i - 1] + depths[i]\n",
    "    if left < right:\n",
    "        count += 1\n",
    "        \n",
    "print(count)"
   ]
  },
  {
   "cell_type": "markdown",
   "metadata": {},
   "source": [
    "Or, better yet, let me copy & paste the additions directly into the `if` statement, removing the assignments altogether:"
   ]
  },
  {
   "cell_type": "code",
   "execution_count": 30,
   "metadata": {},
   "outputs": [
    {
     "name": "stdout",
     "output_type": "stream",
     "text": [
      "1262\n"
     ]
    }
   ],
   "source": [
    "with open(INPUT_FILE, \"r\") as f:\n",
    "    depths = [int(line) for line in f]\n",
    "\n",
    "count = 0\n",
    "for i in range(3, len(depths)):\n",
    "    if depths[i - 3] + depths[i - 2] + depths[i - 1] < depths[i - 2] + depths[i - 1] + depths[i]:\n",
    "        count += 1\n",
    "\n",
    "print(count)"
   ]
  },
  {
   "cell_type": "markdown",
   "metadata": {},
   "source": [
    "Why did I do this?\n",
    "\n",
    "Because, now, I want to think about the condition of the `if` statement like a mathematical inequality.\n",
    "(Do you see where this is going?)\n",
    "Let me just abbreviate `depths` as `d` because I'm lazy:\n",
    "\n",
    "$$\n",
    "\\begin{aligned}\n",
    "d[i - 3] + {d[i - 2]} + {d[i - 1]} &< {d[i - 2]} + {d[i - 1]} + d[i] \\iff \\\\\n",
    "d[i - 3] &< d[i]\n",
    "\\end{aligned}\n",
    "$$\n",
    "\n",
    "So, in essence, we can omit most of the terms from the comparison because they don't matter!\n",
    "They are being added to both sides of the scale (you can think of a `<` as a scale checking if the left side is lighter), and therefore they do not make a difference in the balance of the scale:"
   ]
  },
  {
   "cell_type": "code",
   "execution_count": 31,
   "metadata": {},
   "outputs": [
    {
     "name": "stdout",
     "output_type": "stream",
     "text": [
      "1262\n"
     ]
    }
   ],
   "source": [
    "with open(INPUT_FILE, 'r') as f:\n",
    "    depths = [int(line) for line in f.readlines()]\n",
    "\n",
    "count = 0\n",
    "for i in range(3, len(depths)):\n",
    "    if depths[i - 3] < depths[i]:\n",
    "        count += 1\n",
    "\n",
    "print(count)\n"
   ]
  },
  {
   "cell_type": "markdown",
   "metadata": {},
   "source": [
    "### Parametrising the window size\n",
    "\n",
    "One (tiny) thing that is very worth the mention is that with this version, it becomes trivial to parametrise the window size:"
   ]
  },
  {
   "cell_type": "code",
   "execution_count": 32,
   "metadata": {},
   "outputs": [
    {
     "name": "stdout",
     "output_type": "stream",
     "text": [
      "1262\n"
     ]
    }
   ],
   "source": [
    "WS = 3 # Window Size\n",
    "with open(INPUT_FILE, 'r') as f:\n",
    "    depths = [int(line) for line in f.readlines()]\n",
    "\n",
    "count = 0\n",
    "for i in range(WS, len(depths)):\n",
    "    if depths[i - WS] < depths[i]:\n",
    "        count += 1\n",
    "\n",
    "print(count)\n"
   ]
  },
  {
   "cell_type": "markdown",
   "metadata": {},
   "source": [
    "With the addition of the `WS` variable, the problem statement can change the window size to anything they'd like, that we can adjust our solution with the same ease.\n",
    "\n",
    "In particular, if we change `WS` to 1, we get back the problem from part 1:"
   ]
  },
  {
   "cell_type": "code",
   "execution_count": 33,
   "metadata": {},
   "outputs": [
    {
     "name": "stdout",
     "output_type": "stream",
     "text": [
      "1292\n"
     ]
    }
   ],
   "source": [
    "WS = 1\n",
    "\n",
    "with open(INPUT_FILE, \"r\") as f:\n",
    "    depths = [int(line) for line in f]\n",
    "\n",
    "count = 0\n",
    "for i in range(WS, len(depths)):\n",
    "    if depths[i - WS] < depths[i]:\n",
    "        count += 1\n",
    "print(count)  # The value from part 1.\n"
   ]
  },
  {
   "cell_type": "markdown",
   "metadata": {},
   "source": [
    "### Handling big files lazily\n",
    "\n",
    "The only thing left to mention is what we do if the file `f` can't be loaded to memory as a whole, because it's too big.\n",
    "In that case, `depths` can't be defined as a list comprehension, and thus `depth` won't be indexable like in the `if` statement.\n",
    "\n",
    "To circumvent this, we'll use a `deque` (from the module `collections`), to keep track of the elements we are going over, but without keeping track of every single measurement ever.\n",
    "In a way, we'll be keeping track of the two overlapping windows we need to analyse, but the `deque` will make it much easier to discard the elements we no longer care about."
   ]
  },
  {
   "cell_type": "code",
   "execution_count": 34,
   "metadata": {},
   "outputs": [
    {
     "name": "stdout",
     "output_type": "stream",
     "text": [
      "1262\n"
     ]
    }
   ],
   "source": [
    "from collections import deque\n",
    "\n",
    "WS = 3\n",
    "window = deque(maxlen = WS + 1)\n",
    "\n",
    "with open(INPUT_FILE, 'r') as f:\n",
    "    depths = (int(line) for line in f.readlines())\n",
    "\n",
    "    # Start by putting `WS` elements inside `window`.\n",
    "    for _ in range(WS):\n",
    "        window.append(next(depths))\n",
    "    \n",
    "    count = 0\n",
    "    # When we get here, `depths` is already missing some elements from the beginning,\n",
    "    # so we can already start comparing depth values.\n",
    "    for elem in depths:\n",
    "        window.append(elem)\n",
    "        if window[0] < window[-1]:\n",
    "            count += 1\n",
    "        # We can't see it, but the `.append` is forcing the older elements\n",
    "        # out of the window, so it's always safe to compare the first and\n",
    "        # last elements of `window`.\n",
    "\n",
    "    print(count)\n"
   ]
  },
  {
   "cell_type": "markdown",
   "metadata": {},
   "source": [
    "This is a pretty decent solution.\n",
    "The most confusing thing may be the way `window` is initialised, with the built-in `next`.\n",
    "`next` is a function that accepts an iterator and just spits its next value.\n",
    "\n",
    "Here is an example:"
   ]
  },
  {
   "cell_type": "code",
   "execution_count": 35,
   "metadata": {},
   "outputs": [],
   "source": [
    "gen_ints_to_10 = iter(range(10))"
   ]
  },
  {
   "cell_type": "code",
   "execution_count": 36,
   "metadata": {},
   "outputs": [
    {
     "data": {
      "text/plain": [
       "0"
      ]
     },
     "execution_count": 36,
     "metadata": {},
     "output_type": "execute_result"
    }
   ],
   "source": [
    "next(gen_ints_to_10)"
   ]
  },
  {
   "cell_type": "code",
   "execution_count": 37,
   "metadata": {},
   "outputs": [
    {
     "data": {
      "text/plain": [
       "1"
      ]
     },
     "execution_count": 37,
     "metadata": {},
     "output_type": "execute_result"
    }
   ],
   "source": [
    "next(gen_ints_to_10)\n"
   ]
  },
  {
   "cell_type": "markdown",
   "metadata": {},
   "source": [
    "What's interesting about iterators is that, once you start going through them, you've “lost” the items you already saw.\n",
    "For example, if you iterate over `gen_ints_to_10` with a `for` loop now, the `0` and the `1` will already be gone:"
   ]
  },
  {
   "cell_type": "code",
   "execution_count": 39,
   "metadata": {},
   "outputs": [
    {
     "name": "stdout",
     "output_type": "stream",
     "text": [
      "2 3 4 5 6 7 8 9 "
     ]
    }
   ],
   "source": [
    "for num in gen_ints_to_10:\n",
    "    print(num, end=\" \")"
   ]
  },
  {
   "cell_type": "code",
   "execution_count": null,
   "metadata": {},
   "outputs": [],
   "source": []
  }
 ],
 "metadata": {
  "kernelspec": {
   "display_name": "venv-dl-1.0",
   "language": "python",
   "name": "python3"
  },
  "language_info": {
   "codemirror_mode": {
    "name": "ipython",
    "version": 3
   },
   "file_extension": ".py",
   "mimetype": "text/x-python",
   "name": "python",
   "nbconvert_exporter": "python",
   "pygments_lexer": "ipython3",
   "version": "3.9.18"
  }
 },
 "nbformat": 4,
 "nbformat_minor": 2
}
