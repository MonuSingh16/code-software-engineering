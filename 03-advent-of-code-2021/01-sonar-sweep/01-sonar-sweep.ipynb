{
 "cells": [
  {
   "cell_type": "markdown",
   "metadata": {},
   "source": [
    "## Part 1 problem statement\n",
    "\n",
    "(Adapted from [Advent of Code 2021, day 1](https://adventofcode.com/2021/day/1))\n",
    "\n",
    "You are given a report of depth measurements, like\n",
    "\n",
    "```txt\n",
    "199\n",
    "200\n",
    "208\n",
    "210\n",
    "200\n",
    "207\n",
    "240\n",
    "269\n",
    "260\n",
    "263\n",
    "```\n",
    "\n",
    "The first order of business is to figure out how quickly the depth increases.\n",
    "\n",
    "To do this, count **the number of times a depth measurement increases** from the previous measurement. (There is no measurement before the first measurement.)\n",
    "\n",
    "In the example above, the changes are as follows:\n",
    "\n",
    "```txt\n",
    "199 (N/A - no previous measurement)\n",
    "200 (increased)\n",
    "208 (increased)\n",
    "210 (increased)\n",
    "200 (decreased)\n",
    "207 (increased)\n",
    "240 (increased)\n",
    "269 (increased)\n",
    "260 (decreased)\n",
    "263 (increased)\n",
    "```\n",
    "\n",
    "In this example, there are 7 measurements that are larger than the previous measurement.\n",
    "\n",
    "How many measurements are larger than the previous measurement in the input file `input.txt`?\n",
    "\n",
    "_Using my input file, the result should be 1292._"
   ]
  },
  {
   "cell_type": "code",
   "execution_count": 2,
   "metadata": {},
   "outputs": [],
   "source": [
    "# IMPORTANT: Set this to correct path for you !\n",
    "INPUT_FILE = \"input.txt\"\n",
    "\n",
    "import pathlib\n",
    "assert pathlib.Path(INPUT_FILE).exists()"
   ]
  },
  {
   "cell_type": "markdown",
   "metadata": {},
   "source": [
    "### Baseline solution\n",
    "The problem statement asks us to traverse the depth reports and to compare the current measurement with the previous one.\n",
    "\n",
    "The underlying idea is that, when talking about a sequence (for example, a list of measurements), a relationship\n",
    "of “previous” translates into subtracting 1 to the index at hands. Similarly, a relationship of “next” translates into adding 1 to the index.\n",
    "\n",
    "The only thing we need to be careful about is ensuring we stay within the boundaries of the sequence, so that doing +1 or -1 in an index still gives a valid index.\n",
    "\n",
    "This translates directly into this solution:"
   ]
  },
  {
   "cell_type": "code",
   "execution_count": 3,
   "metadata": {},
   "outputs": [
    {
     "name": "stdout",
     "output_type": "stream",
     "text": [
      "1292\n"
     ]
    }
   ],
   "source": [
    "with open(INPUT_FILE, \"r\") as f:\n",
    "    depths = f.readlines()\n",
    "\n",
    "count = 0\n",
    "for i in range(1, len(depths)):\n",
    "    if int(depths[i-1]) < int(depths[i]): # Compare the previous one with current\n",
    "        count += 1\n",
    "\n",
    "print(count)"
   ]
  },
  {
   "cell_type": "markdown",
   "metadata": {},
   "source": [
    "If we stick to the “compare with the previous” interpretation, then the indices that matter are `i - 1` (the previous item) and `i` (the current item); and, therefore, `i` must start at `1`.\n",
    "This means we use `range(1, len(depths))`.\n",
    "\n",
    "If we go with the “compare with the next” interpretation, then the indices that matter are `i` (the current item) and `i + 1` (the next item).\n",
    "For that, our range needs to end earlier than `len(depths)`:"
   ]
  },
  {
   "cell_type": "code",
   "execution_count": 4,
   "metadata": {},
   "outputs": [
    {
     "name": "stdout",
     "output_type": "stream",
     "text": [
      "1292\n"
     ]
    }
   ],
   "source": [
    "with open(INPUT_FILE, \"r\") as f:\n",
    "    depths = f.readlines()\n",
    "\n",
    "count = 0\n",
    "for i in range(len(depths) - 1):\n",
    "    if int(depths[i]) < int(depths[i+1]): # Compare the current with \"the next\"\n",
    "        count += 1\n",
    "\n",
    "print(count)"
   ]
  },
  {
   "cell_type": "markdown",
   "metadata": {},
   "source": [
    "### Free resources ASAP\n",
    "\n",
    "When using a `with` statement to access a file, you know that your file is automatically closed when you leave the `with` statement.\n",
    "You also know that the `with` statement is nice because it will still close the file if, for example, your code throws an error.\n",
    "That's very convenient, and a lovely reason to use the `with` statement.\n",
    "\n",
    "However, while you are inside the `with` statement, the file remains open and in use by the operating system.\n",
    "That is to say that you want to follow the Python practice of avoiding nesting whenever possible, because in this case it means that you will free up the file as soon as possible.\n",
    "In other words, put as little code inside the `with` statement as possible.\n",
    "\n",
    "In our case, because we use `.readlines` to read the whole file, we can leave the `with` statement immediately:"
   ]
  },
  {
   "cell_type": "code",
   "execution_count": null,
   "metadata": {},
   "outputs": [],
   "source": []
  },
  {
   "cell_type": "markdown",
   "metadata": {},
   "source": [
    "## The range of the length\n",
    "\n",
    "Another frequent anti-pattern in Python is the excerpt `for i in range(len(...))`.\n",
    "_Most of the times_, that `for` loop isn't what you really wanted to use.\n",
    "Python has very powerful `for` loops, and the `for i in range(len(...))` is a pattern that we inherited from languages like C.\n",
    "In Python, we tend to use built-ins like [`enumerate`](https://mathspp.com/blog/pydonts/enumerate-me) and [`zip`](https://mathspp.com/blog/pydonts/zip-up).\n",
    "\n",
    "Another hint at the fact that the loop we care about is not the `range(len(...))`, is that we don't really care about the indices.\n",
    "Notice how `range(len(something))` gives you all the legal indices associated with `something`, but what we really care about are the elements.\n",
    "\n",
    "A slight improvement would be to recognise the `enumerate` pattern:\n",
    "`enumerate` is a good built-in to use if, in a `for` loop, you care about the current element _and_ about the current index you are using.\n",
    "In our case, we care about the current index so that we can compute the index of the neighbouring element.\n",
    "So, we could try writing something like this:"
   ]
  },
  {
   "cell_type": "code",
   "execution_count": 5,
   "metadata": {},
   "outputs": [
    {
     "name": "stdout",
     "output_type": "stream",
     "text": [
      "1292\n"
     ]
    }
   ],
   "source": [
    "with open(INPUT_FILE) as f:\n",
    "    depths = f.readlines()\n",
    "\n",
    "count = 0\n",
    "for i, num in enumerate(depths[:-1]):\n",
    "    if int(num) < int(depths[i+1]):\n",
    "        count += 1\n",
    "\n",
    "print(count)"
   ]
  },
  {
   "cell_type": "markdown",
   "metadata": {},
   "source": [
    "In order to make this work, we are using a slice to ignore the last element from `depths`.\n",
    "After all, the slice `[:-n]` means [“drop the last `n` elements”](https://mathspp.com/blog/pydonts/idiomatic-sequence-slicing#s-n-3).\n",
    "\n",
    "Another interesting thought would be to try and simplify the `i + 1` part.\n",
    "The built-in `enumerate` accepts a `start` argument that specifies where the argument starts counting:"
   ]
  },
  {
   "cell_type": "code",
   "execution_count": 6,
   "metadata": {},
   "outputs": [
    {
     "data": {
      "text/plain": [
       "[(0, 'c'), (1, 'o'), (2, 'd'), (3, 'e')]"
      ]
     },
     "execution_count": 6,
     "metadata": {},
     "output_type": "execute_result"
    }
   ],
   "source": [
    "list(enumerate('code'))"
   ]
  },
  {
   "cell_type": "code",
   "execution_count": 9,
   "metadata": {},
   "outputs": [
    {
     "name": "stdout",
     "output_type": "stream",
     "text": [
      "1 c\n",
      "2 o\n",
      "3 d\n",
      "4 e\n"
     ]
    }
   ],
   "source": [
    "for next_idx, num in enumerate('code', start=1):\n",
    "    print(next_idx, num)"
   ]
  },
  {
   "cell_type": "markdown",
   "metadata": {},
   "source": [
    "Therefore, one might think that we could set `start=1` to avoid having to perform the sum.\n",
    "If we do so, then we must be very explicit about what index we are using:"
   ]
  },
  {
   "cell_type": "code",
   "execution_count": 12,
   "metadata": {},
   "outputs": [
    {
     "name": "stdout",
     "output_type": "stream",
     "text": [
      "1292\n"
     ]
    }
   ],
   "source": [
    "with open(INPUT_FILE, \"r\") as f:\n",
    "    depths = f.readlines()\n",
    "\n",
    "count = 0\n",
    "for next_idx, num in enumerate(depths[:-1], start=1):\n",
    "    if int(num) < int(depths[next_idx]):\n",
    "        count += 1\n",
    "\n",
    "print(count)"
   ]
  },
  {
   "cell_type": "markdown",
   "metadata": {},
   "source": [
    "However, I personally don't like this.\n",
    "There is something here that makes me look for a better solution, although some might say I'm just being paranoid.\n",
    "But, the truth is, our `if` statement is very asymmetrical right now.\n",
    "\n",
    "The solution lies elsewhere!\n",
    "The built-in `zip` is more correct here, because `zip` is used to pair sequences up.\n",
    "But what sequences do we want to pair up..?\n",
    "After all, we have a single sequence at hands!\n",
    "\n",
    "As it turns out, the both patterns of “this item & the next one” and “this item & the previous one” are easily written with `zip`.\n",
    "We just have to remember that, if `seq` is a sequence, then `seq[1:]` means “drop the first element” and `seq[:-1]` means “drop the last element”:\n",
    "\n",
    "![](zip_pairwise.png)"
   ]
  },
  {
   "cell_type": "code",
   "execution_count": 21,
   "metadata": {},
   "outputs": [
    {
     "name": "stdout",
     "output_type": "stream",
     "text": [
      "code\n",
      "oder\n",
      "[('c', 'o'), ('o', 'd'), ('d', 'e'), ('e', 'r')]\n"
     ]
    }
   ],
   "source": [
    "s = 'coder'\n",
    "print(s[:-1])\n",
    "print(s[1:])\n",
    "print(list(zip(s[:-1], s[1:])))"
   ]
  },
  {
   "cell_type": "code",
   "execution_count": 23,
   "metadata": {},
   "outputs": [
    {
     "name": "stdout",
     "output_type": "stream",
     "text": [
      "1292\n"
     ]
    }
   ],
   "source": [
    "with open(INPUT_FILE, \"r\") as f:\n",
    "    depths = f.readlines()\n",
    "\n",
    "count = 0\n",
    "for prev_, next_ in zip(depths[:-1], depths[1:]):\n",
    "    if int(prev_) < int(next_):\n",
    "        count +=1\n",
    "\n",
    "print(count)"
   ]
  },
  {
   "cell_type": "markdown",
   "metadata": {},
   "source": [
    "In the above, I wrote the name `next_` because `next` is a built-in function.\n",
    "Then, I decided to use `prev_` instead of `prev` just for symmetry.\n",
    "You can pick any other two names you prefer, or use `for prev, next_ in ...`.\n",
    "\n",
    "To simplify things a bit, especially when doing a similar thing with three or more iterables, we can actually omit the slices that are cutting from the end, because `zip` stops as soon as one iterable stops.\n",
    "In other words, we don't need to specify `depths[:-1]`:\n",
    "\n",
    "![](zip_stops_shortest.png)\n",
    "\n",
    "With that in mind, we can remove the extra slice:"
   ]
  },
  {
   "cell_type": "code",
   "execution_count": 24,
   "metadata": {},
   "outputs": [
    {
     "name": "stdout",
     "output_type": "stream",
     "text": [
      "1292\n"
     ]
    }
   ],
   "source": [
    "with open(INPUT_FILE, \"r\") as f:\n",
    "    depths = f.readlines()\n",
    "\n",
    "count = 0\n",
    "for prev_, next_ in zip(depths, depths[1:]):\n",
    "    if int(prev_) < int(next_):\n",
    "        count += 1\n",
    "\n",
    "print(count)"
   ]
  },
  {
   "cell_type": "markdown",
   "metadata": {},
   "source": [
    "### Repeated `int` conversions\n",
    "\n",
    "If you look closely at the `for` loop we are writing, you will notice that most of the values in `depth` are going to be passed in to the built-in `int` twice.\n",
    "While that's not a terrible thing, it's _double_ the work we need.\n",
    "All we need is for each number to be converted once, right?\n",
    "\n",
    "Therefore, we can do the `int` conversion a bit earlier in the process:"
   ]
  },
  {
   "cell_type": "code",
   "execution_count": 25,
   "metadata": {},
   "outputs": [
    {
     "name": "stdout",
     "output_type": "stream",
     "text": [
      "1292\n"
     ]
    }
   ],
   "source": [
    "with open(INPUT_FILE, \"r\") as f:\n",
    "    depths = f.readlines()\n",
    "\n",
    "depths = [int(d) for d in depths]\n",
    "count = 0\n",
    "for prev_, next_ in zip(depths, depths[1:]):\n",
    "    if prev_ < next_:\n",
    "        count+=1\n",
    "\n",
    "print(count)"
   ]
  },
  {
   "cell_type": "markdown",
   "metadata": {},
   "source": [
    "Of course, now we have another issue of repeated work: first, we go over the whole file to read the lines with `.readlines`, and then we go over the file contents to convert everything into an integer.\n",
    "We can do everything at once, if we convert the lines to integers _while_ we read them:"
   ]
  },
  {
   "cell_type": "code",
   "execution_count": 28,
   "metadata": {},
   "outputs": [
    {
     "name": "stdout",
     "output_type": "stream",
     "text": [
      "1292\n"
     ]
    }
   ],
   "source": [
    "with open(INPUT_FILE, \"r\") as f:\n",
    "    depths = [int(line) for line in f]\n",
    "\n",
    "count = 0\n",
    "for prev_, next_ in zip(depths, depths[1:]):\n",
    "    if prev_ < next_:\n",
    "        count += 1\n",
    "    \n",
    "print(count)"
   ]
  },
  {
   "cell_type": "markdown",
   "metadata": {},
   "source": [
    "In case you didn't know, [you can iterate over a file](https://mathspp.com/blog/til/006), which allows you to iterate over the lines.\n",
    "That's what allowed us to convert into integers all the lines.\n",
    "\n",
    "On top of that, you might be interested in knowing that [`int` is forgiving](https://twitter.com/mathsppblog/status/1466190674030698499), in that it allows the integers to be surrounded by whitespace:"
   ]
  },
  {
   "cell_type": "markdown",
   "metadata": {},
   "source": [
    "### A really long input file\n",
    "\n",
    "Like I mentioned earlier, we need to consider if our input file fits into memory or not.\n",
    "Up to now, we have been reading the whole file at once, but we don't need to!\n",
    "We just saw we can iterate over `f` lazily, so we can leverage that for our own solution.\n",
    "\n",
    "When we do that, notice that throughout our comparison loop we will need to be reading new values from the file.\n",
    "Thus, if the file is large and we can't read all of it at once, we need to keep it open.\n",
    "In other words, we have to indent our code again.\n",
    "\n",
    "On top of that, because we are assuming the file is _very_ big, we can no longer create the list of `depths`!\n",
    "Thus, we have two options:\n",
    "\n",
    " - we can write a _generator expression_ for `depths`; or\n",
    " - we can use a `map` with `map(int, f)`.\n",
    "\n",
    "Using a generator expression entails converting the `[ ... ]` in the list comprehension to `( ... )`:"
   ]
  },
  {
   "cell_type": "code",
   "execution_count": 29,
   "metadata": {},
   "outputs": [
    {
     "ename": "TypeError",
     "evalue": "'generator' object is not subscriptable",
     "output_type": "error",
     "traceback": [
      "\u001b[0;31m---------------------------------------------------------------------------\u001b[0m",
      "\u001b[0;31mTypeError\u001b[0m                                 Traceback (most recent call last)",
      "Cell \u001b[0;32mIn[29], line 5\u001b[0m\n\u001b[1;32m      2\u001b[0m depths \u001b[38;5;241m=\u001b[39m (\u001b[38;5;28mint\u001b[39m(line) \u001b[38;5;28;01mfor\u001b[39;00m line \u001b[38;5;129;01min\u001b[39;00m f)\n\u001b[1;32m      4\u001b[0m count \u001b[38;5;241m=\u001b[39m \u001b[38;5;241m0\u001b[39m\n\u001b[0;32m----> 5\u001b[0m \u001b[38;5;28;01mfor\u001b[39;00m prev_, next_ \u001b[38;5;129;01min\u001b[39;00m \u001b[38;5;28mzip\u001b[39m(depths, \u001b[43mdepths\u001b[49m\u001b[43m[\u001b[49m\u001b[38;5;241;43m1\u001b[39;49m\u001b[43m:\u001b[49m\u001b[43m]\u001b[49m):\n\u001b[1;32m      6\u001b[0m     \u001b[38;5;28;01mif\u001b[39;00m prev_ \u001b[38;5;241m<\u001b[39m next_:\n\u001b[1;32m      7\u001b[0m         count \u001b[38;5;241m+\u001b[39m\u001b[38;5;241m=\u001b[39m \u001b[38;5;241m1\u001b[39m\n",
      "\u001b[0;31mTypeError\u001b[0m: 'generator' object is not subscriptable"
     ]
    }
   ],
   "source": [
    "with open(INPUT_FILE, \"r\") as f:\n",
    "    depths = (int(line) for line in f)\n",
    "\n",
    "    count = 0\n",
    "    for prev_, next_ in zip(depths, depths[1:]):\n",
    "        if prev_ < next_:\n",
    "            count += 1\n",
    "\n",
    "    print(count)"
   ]
  },
  {
   "cell_type": "markdown",
   "metadata": {},
   "source": [
    "However, as we do so, the `depths[1:]` stops working because generators are not indexable/sliceable.\n",
    "This shows a weakness in our solution!\n",
    "\n",
    "Thankfully, there are two good solutions!\n",
    "Starting with Python 3.10, there is a function called `itertools.pairwise` that implements the exact `zip` pattern we wanted:\n",
    "\n",
    "If you don't have Python 3.10 (or older), you can define your own `pairwise` using `itertools.tee`.\n",
    "\n",
    "This isn't beginner-level Python, so feel free to skip this bit:"
   ]
  },
  {
   "cell_type": "code",
   "execution_count": 30,
   "metadata": {},
   "outputs": [],
   "source": [
    "from itertools import tee\n",
    "\n",
    "def pairwise(it):\n",
    "    \"\"\"Mock `itertools.pairwise` for Python versions below 3.10.\"\"\"\n",
    "    prev_, next_ = tee(it, 2)     # Split `it` into two iterables.\n",
    "    next(next_)                   # Advance once.\n",
    "    yield from zip(prev_, next_)  # Yield the pairs."
   ]
  },
  {
   "cell_type": "code",
   "execution_count": 31,
   "metadata": {},
   "outputs": [
    {
     "name": "stdout",
     "output_type": "stream",
     "text": [
      "1292\n"
     ]
    }
   ],
   "source": [
    "with open(INPUT_FILE, \"r\") as f:\n",
    "    depths = (int(line) for line in f)\n",
    "    \n",
    "    count = 0\n",
    "    for prev_, next_ in pairwise(depths):\n",
    "        if prev_ < next_:\n",
    "            count += 1\n",
    "    print(count)"
   ]
  },
  {
   "cell_type": "markdown",
   "metadata": {},
   "source": [
    "One thing I want you to understand, and that may go unnoticed because of the structure of the analysis above, is that using `itertools.pairwise` is a good idea regardless of whether we have this “really big file” or not.\n",
    "In fact, `pairwise` is the tool to go for when you want to implement the pattern `zip(seq, seq[1:])`."
   ]
  },
  {
   "cell_type": "markdown",
   "metadata": {},
   "source": [
    "### Counting by incrementing\n",
    "\n",
    "In all of the solutions above we have been counting by incrementing the `count` variable only when the depth test passes.\n",
    "However, there is a different approach to this, inspired by the languages where Boolean values are just 0s and 1s.\n",
    "Instead of checking with an `if`, we can just add the value of the condition to `count`:"
   ]
  },
  {
   "cell_type": "code",
   "execution_count": 32,
   "metadata": {},
   "outputs": [
    {
     "name": "stdout",
     "output_type": "stream",
     "text": [
      "1292\n"
     ]
    }
   ],
   "source": [
    "with open(INPUT_FILE, \"r\") as f:\n",
    "    depths = (int(line) for line in f)\n",
    "\n",
    "    count = 0\n",
    "    for prev_, next_ in pairwise(depths):\n",
    "        count += prev_ < next_\n",
    "    \n",
    "    print(count)"
   ]
  },
  {
   "cell_type": "markdown",
   "metadata": {},
   "source": [
    "When `prev_ < next_` is `True` (and the `if` statement would pass the test, incrementing `count` by one), the statement `count += True` increments `count` by one.\n",
    "When `prev_ < next_` is `False` (and the `if` statement would not increment `count`), the statement `count += False` increments `count` by zero.\n",
    "\n",
    "After all, Boolean values can be treated as integers:"
   ]
  },
  {
   "cell_type": "code",
   "execution_count": 33,
   "metadata": {},
   "outputs": [
    {
     "data": {
      "text/plain": [
       "2"
      ]
     },
     "execution_count": 33,
     "metadata": {},
     "output_type": "execute_result"
    }
   ],
   "source": [
    "1 + True"
   ]
  },
  {
   "cell_type": "code",
   "execution_count": 34,
   "metadata": {},
   "outputs": [
    {
     "data": {
      "text/plain": [
       "1"
      ]
     },
     "execution_count": 34,
     "metadata": {},
     "output_type": "execute_result"
    }
   ],
   "source": [
    "1 + False"
   ]
  },
  {
   "cell_type": "markdown",
   "metadata": {},
   "source": [
    "This has to be used with caution, though, and is not _always_ advisable.\n",
    "\n",
    "Here's a short aside:\n",
    "a context in which this is good is in the context of data science, when you're using Pandas to analyse Boolean columns.\n",
    "If you have a dataframe `df` and a Boolean column `df[\"bc\"]`, then `df[\"bc\"].sum()` uses this same principle to count how many rows are `True`."
   ]
  },
  {
   "cell_type": "markdown",
   "metadata": {},
   "source": [
    "### Summing the conditions\n",
    "\n",
    "However, moving the condition to the value that is being incremented gives rise to another implementation.\n",
    "\n",
    "After all, the pattern\n",
    "\n",
    "```py\n",
    "accumulator = 0\n",
    "for element in iterable:\n",
    "    accumulator += foo(element)\n",
    "```\n",
    "\n",
    "is equivalent to\n",
    "\n",
    "```py\n",
    "sum(foo(element) for element in iterable)\n",
    "```\n",
    "\n",
    "Therefore, we can rewrite our solution to be a sum:"
   ]
  },
  {
   "cell_type": "code",
   "execution_count": 36,
   "metadata": {},
   "outputs": [
    {
     "name": "stdout",
     "output_type": "stream",
     "text": [
      "1292\n"
     ]
    }
   ],
   "source": [
    "with open(INPUT_FILE, \"r\") as f:\n",
    "    depths = (int(line) for line in f)\n",
    "\n",
    "    count = sum(prev_ < next_ for prev_, next_ in pairwise(depths))\n",
    "    print(count)"
   ]
  },
  {
   "cell_type": "markdown",
   "metadata": {},
   "source": [
    "## Part 2 problem statement\n",
    "\n",
    "(Adapted from [Advent of Code 2021, day 1](https://adventofcode.com/2021/day/1))\n",
    "\n",
    "Instead of comparing consecutive values, consider sums of a three-measurement sliding window. Again considering the example below:\n",
    "\n",
    "```txt\n",
    "199  A      \n",
    "200  A B    \n",
    "208  A B C  \n",
    "210    B C D\n",
    "200      C D E\n",
    "207        D E F\n",
    "240          E F G\n",
    "269            F G H\n",
    "260              G H\n",
    "263                H\n",
    "```\n",
    "\n",
    "Start by comparing the first and second three-measurement windows. The measurements in the first window are marked A (199, 200, 208); their sum is 199 + 200 + 208 = 607. The second window is marked B (200, 208, 210); its sum is 618. The sum of measurements in the second window is larger than the sum of the first, so this first comparison **increased**.\n",
    "\n",
    "Your goal now is to count **the number of times the sum of measurements in this sliding window increases** from the previous sum. So, compare A with B, then compare B with C, then C with D, and so on. Stop when there aren't enough measurements left to create a new three-measurement sum.\n",
    "\n",
    "In the above example, the sum of each three-measurement window is as follows:\n",
    "\n",
    "```\n",
    "A: 607 (N/A - no previous sum)\n",
    "B: 618 (increased)\n",
    "C: 618 (no change)\n",
    "D: 617 (decreased)\n",
    "E: 647 (increased)\n",
    "F: 716 (increased)\n",
    "G: 769 (increased)\n",
    "H: 792 (increased)\n",
    "```\n",
    "\n",
    "In this example, there are 5 sums that are larger than the previous sum.\n",
    "\n",
    "Consider sums of a three-measurement sliding window. How many sums are larger than the previous sum in the input file `input.txt`?\n",
    "\n",
    "_You should arrive at the answer 1262._"
   ]
  },
  {
   "cell_type": "code",
   "execution_count": null,
   "metadata": {},
   "outputs": [],
   "source": []
  }
 ],
 "metadata": {
  "kernelspec": {
   "display_name": "venv-dl-1.0",
   "language": "python",
   "name": "python3"
  },
  "language_info": {
   "codemirror_mode": {
    "name": "ipython",
    "version": 3
   },
   "file_extension": ".py",
   "mimetype": "text/x-python",
   "name": "python",
   "nbconvert_exporter": "python",
   "pygments_lexer": "ipython3",
   "version": "3.9.18"
  }
 },
 "nbformat": 4,
 "nbformat_minor": 2
}
