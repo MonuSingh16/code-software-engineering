{
 "cells": [
  {
   "cell_type": "markdown",
   "metadata": {},
   "source": [
    "## Part 1 problem statement\n",
    "\n",
    "(Adapted from [Advent of Code 2021, day 3](https://adventofcode.com/2021/day/3))\n",
    "\n",
    "You are given a list of binary numbers.\n",
    "You need to use the binary numbers in that list to generate two new binary numbers (called the **gamma rate** and the **epsilon rate**).\n",
    "\n",
    "Each bit in the gamma rate can be determined by finding the most common bit in the corresponding position of all numbers in the list.\n",
    "For example, given the following list:\n",
    "\n",
    "```txt\n",
    "00100\n",
    "11110\n",
    "10110\n",
    "10111\n",
    "10101\n",
    "01111\n",
    "00111\n",
    "11100\n",
    "10000\n",
    "11001\n",
    "00010\n",
    "01010\n",
    "```\n",
    "\n",
    "Considering only the first bit of each number, there are five `0` bits and seven `1` bits. Since the most common bit is `1`, the first bit of the gamma rate is `1`.\n",
    "\n",
    "The most common second bit of the numbers in the diagnostic report is `0`, so the second bit of the gamma rate is `0`.\n",
    "\n",
    "The most common value of the third, fourth, and fifth bits are `1`, `1`, and `0`, respectively, and so the final three bits of the gamma rate are `110`.\n",
    "\n",
    "So, the gamma rate is the binary number `10110`, or `22` **in decimal**.\n",
    "\n",
    "The epsilon rate is calculated in a similar way; rather than use the most common bit, the least common bit from each position is used. So, the epsilon rate is `01001`, or `9` **in decimal**. Multiplying the gamma rate (`22`) by the epsilon rate (`9`) gives `198`.\n",
    "\n",
    "**Use the binary numbers in your input list to calculate the gamma rate and epsilon rate, then multiply them together.** What do you get? (Be sure to represent your answer in decimal, not binary.)\n",
    "\n",
    "_Using the input file `input.txt`, the result should be 749376._"
   ]
  },
  {
   "cell_type": "code",
   "execution_count": 2,
   "metadata": {},
   "outputs": [],
   "source": [
    "INPUT_FILE = \"input.txt\""
   ]
  },
  {
   "cell_type": "code",
   "execution_count": 3,
   "metadata": {},
   "outputs": [
    {
     "name": "stdout",
     "output_type": "stream",
     "text": [
      "749376\n"
     ]
    }
   ],
   "source": [
    "with open(INPUT_FILE, 'r') as f:\n",
    "    lines = [line.strip() for line in f]\n",
    "\n",
    "gamma, epsilon = \"\", \"\"\n",
    "for col in range(len(lines[0])):\n",
    "    # Count zeros and ones in this column\n",
    "    zeroes, ones = 0, 0\n",
    "    for line in lines:\n",
    "        if line[col] == \"0\":\n",
    "            zeroes += 1\n",
    "        else:\n",
    "            ones += 1    \n",
    "    # Update gamma and epsilon  based on the most common bit\n",
    "    if zeroes > ones:\n",
    "        gamma += \"0\"\n",
    "        epsilon += \"1\"\n",
    "    else:\n",
    "        gamma += \"1\"\n",
    "        epsilon += \"0\"\n",
    "\n",
    "print(int(gamma, 2) * int(epsilon, 2))\n"
   ]
  },
  {
   "cell_type": "code",
   "execution_count": 4,
   "metadata": {},
   "outputs": [
    {
     "name": "stdout",
     "output_type": "stream",
     "text": [
      "749376\n"
     ]
    }
   ],
   "source": [
    "with open(INPUT_FILE, 'r') as f:\n",
    "    lines = [line.strip() for line in f]\n",
    "\n",
    "gamma, epsilon = \"\", \"\"\n",
    "for col in range(len(lines[0])):\n",
    "    # Count zeros and ones \n",
    "    zeroes, ones = 0, 0\n",
    "    for line in lines:\n",
    "        if line[col] == \"0\":\n",
    "            zeroes += 1\n",
    "        else:\n",
    "            ones += 1\n",
    "    # Update gamman and epsilon based on the most common bit\n",
    "    if zeroes < ones :\n",
    "        gamma += \"0\"\n",
    "        epsilon += \"1\"\n",
    "    else:\n",
    "        gamma += \"1\"\n",
    "        epsilon += \"0\"\n",
    "    \n",
    "print(int(gamma, 2) * int(epsilon, 2))"
   ]
  },
  {
   "cell_type": "markdown",
   "metadata": {},
   "source": [
    "Even though this solution doesn't use many advanced techniques, there is one thing that is **super** useful already:\n",
    "the built-in `int` can parse binary numbers:"
   ]
  },
  {
   "cell_type": "code",
   "execution_count": 5,
   "metadata": {},
   "outputs": [
    {
     "data": {
      "text/plain": [
       "5"
      ]
     },
     "execution_count": 5,
     "metadata": {},
     "output_type": "execute_result"
    }
   ],
   "source": [
    "int(\"101\", 2)"
   ]
  },
  {
   "cell_type": "markdown",
   "metadata": {},
   "source": [
    "That's something we will be using a lot, in here.\n",
    "\n",
    "Another thing that is worth pointing out is that, when we read the file, we used `.strip()` to get rid of the newline character `\"\\n\"` that comes in the end of each line when we use `.readlines()` on the file.\n",
    "\n",
    "Now we want to know how to improve our code.\n",
    "The first thing I do is wonder: what would I change if the numbers in the problem changed a bit?\n",
    "For example, what would I do if the problem wanted us to count digits in hexadecimal, instead of binary?\n",
    "\n",
    "If we were dealing with hexadecimal digits (numbers `0` through `9` and letters `\"a\"` through `\"f\"`), then I wouldn't want to have 16 variables just for counting:"
   ]
  },
  {
   "cell_type": "markdown",
   "metadata": {},
   "source": [
    "## Convenient counting\n",
    "\n",
    "Thankfully, we can do this with ease, we just need to use a container (something like a list or a dictionary) to hold the counting results.\n",
    "\n",
    "I tend to prefer dictionaries, because the key-value system makes it very easy to map any kind of value to its count:"
   ]
  },
  {
   "cell_type": "code",
   "execution_count": 6,
   "metadata": {},
   "outputs": [
    {
     "name": "stdout",
     "output_type": "stream",
     "text": [
      "749376\n"
     ]
    }
   ],
   "source": [
    "with open(INPUT_FILE, 'r') as f:\n",
    "    lines = [line.strip() for line in f]\n",
    "\n",
    "gamma, epsilon = \"\", \"\"\n",
    "for col in range(len(lines[0])):\n",
    "    # Count zeroes and ones in this column:\n",
    "    counting = {\"0\": 0, \"1\": 0}\n",
    "    for line in lines:\n",
    "        counting[line[col]] += 1\n",
    "    # Update gamma and epsilon based on the most common bit:\n",
    "    if counting[\"0\"] < counting[\"1\"]:\n",
    "        gamma += \"1\"\n",
    "        epsilon += \"0\"\n",
    "    else:\n",
    "        gamma += \"0\"\n",
    "        epsilon += \"1\"\n",
    "\n",
    "print(int(gamma, 2) * int(epsilon, 2))"
   ]
  },
  {
   "cell_type": "markdown",
   "metadata": {},
   "source": [
    "As you can see, this simplified the code a fair bit already.\n",
    "\n",
    "If you are wondering about the reason why I initialised the dictionary `counting` as `{\"0\": 0, \"1\": 0}` instead of `{}`, think about this:\n",
    "if `\"0\"` and `\"1\"` are not existing keys of the dictionary `counting`, the line `counting[line[col]] += 1` wouldn't work.\n",
    "We would have to write a an `if` statement to cover the first time we add something to the dictionary:"
   ]
  },
  {
   "cell_type": "code",
   "execution_count": 7,
   "metadata": {},
   "outputs": [
    {
     "name": "stdout",
     "output_type": "stream",
     "text": [
      "749376\n"
     ]
    }
   ],
   "source": [
    "with open(INPUT_FILE, 'r') as f:\n",
    "    lines = [line.strip() for line in f]\n",
    "\n",
    "gamma, epsilon = \"\", \"\"\n",
    "for col in range(len(lines[0])):\n",
    "    counting = {}\n",
    "    for line in lines:\n",
    "        if line[col] not in counting:\n",
    "            counting[line[col]] = 0\n",
    "        counting[line[col]] += 1\n",
    "    if counting[\"0\"] < counting[\"1\"]:\n",
    "        gamma += \"1\"\n",
    "        epsilon += \"0\"\n",
    "    else:\n",
    "        gamma += \"0\"\n",
    "        epsilon += \"1\"\n",
    "    \n",
    "print(int(gamma, 2) * int(epsilon, 2))"
   ]
  },
  {
   "cell_type": "markdown",
   "metadata": {},
   "source": [
    "This is a common pattern in programming: you “look before you leap” (LBYL).\n",
    "In other words, you make sure you _can_ do what you wanted to do.\n",
    "In this case, you make sure the key exists before accessing that key in the dictionary.\n",
    "\n",
    "However, Python tends to follow another code style, that says it's “easier to ask forgiveness than permission” (EAFP).\n",
    "This code style suggests you should `try` to do what you want to do, and just fix the situation if you end up in trouble."
   ]
  },
  {
   "cell_type": "markdown",
   "metadata": {},
   "source": [
    "## EAFP versus LBYL\n",
    "\n",
    "In Python, specifically, this generally means contrasting a preventive `if` with a `try` block.\n",
    "For our example, something like this:"
   ]
  },
  {
   "cell_type": "code",
   "execution_count": 8,
   "metadata": {},
   "outputs": [
    {
     "name": "stdout",
     "output_type": "stream",
     "text": [
      "749376\n"
     ]
    }
   ],
   "source": [
    "with open(INPUT_FILE, \"r\") as f:\n",
    "    lines = [line.strip() for line in f]\n",
    "\n",
    "gamma, epsilon = \"\", \"\"\n",
    "for col in range(len(lines[0])):\n",
    "    # Count zeroes and ones in this column:\n",
    "    counting = {}\n",
    "    for line in lines:\n",
    "        try:\n",
    "            counting[line[col]] += 1\n",
    "        except KeyError:\n",
    "            counting[line[col]] = 1\n",
    "    # Update gamma and epsilon based on the most common bit:\n",
    "    if counting[\"0\"] < counting[\"1\"]:\n",
    "        gamma += \"1\"\n",
    "        epsilon += \"0\"\n",
    "    else:\n",
    "        gamma += \"0\"\n",
    "        epsilon += \"1\"\n",
    "        \n",
    "print(int(gamma, 2) * int(epsilon, 2))"
   ]
  },
  {
   "cell_type": "markdown",
   "metadata": {},
   "source": [
    "Using the EAFP approach is often the preferred way in Python, and this comparison was shown here for the sake of completeness.\n",
    "You can read more about the choice between EAFP and LBYL in [here](https://mathspp.com/blog/pydonts/eafp-and-lbyl-coding-styles).\n",
    "\n",
    "In our case, we can avoid the debate altogether by initialising the counting dictionary in the appropriate way, like was shown [above](#Convenient-counting)."
   ]
  },
  {
   "cell_type": "markdown",
   "metadata": {},
   "source": [
    " ## Dictionary with default value\n",
    "\n",
    "This whole discussion about initialising the dictionary with the default values, versus using an `if` statement to ensure we can access the dictionary, versus a `try: ... except: ...` block, shows that in all three approaches we needed to give some default value to the dictionary.\n",
    "\n",
    "Wouldn't it be great if there was some version of `dict` that assumed a default value?\n",
    "Well, today is your lucky day, because there is!\n",
    "\n",
    "`defaultdict`, from the `collections` module, is what we want.\n",
    "`defaultdict` behaves just like a regular dictionary, except that you give it a “default value factory”: a function that returns the default values we care about.\n",
    "\n",
    "In our case, we see that the count of a digit we haven't seen before should be `0`, so we just need a function that returns `0` to use with `defaultdict`.\n",
    "As it turns out, `int` does the job:"
   ]
  },
  {
   "cell_type": "code",
   "execution_count": 9,
   "metadata": {},
   "outputs": [
    {
     "data": {
      "text/plain": [
       "0"
      ]
     },
     "execution_count": 9,
     "metadata": {},
     "output_type": "execute_result"
    }
   ],
   "source": [
    "int()"
   ]
  },
  {
   "cell_type": "code",
   "execution_count": 10,
   "metadata": {},
   "outputs": [
    {
     "data": {
      "text/plain": [
       "defaultdict(int, {})"
      ]
     },
     "execution_count": 10,
     "metadata": {},
     "output_type": "execute_result"
    }
   ],
   "source": [
    "from collections import defaultdict\n",
    "olympic_medals = defaultdict(int)\n",
    "olympic_medals"
   ]
  },
  {
   "cell_type": "code",
   "execution_count": 11,
   "metadata": {},
   "outputs": [
    {
     "data": {
      "text/plain": [
       "0"
      ]
     },
     "execution_count": 11,
     "metadata": {},
     "output_type": "execute_result"
    }
   ],
   "source": [
    "olympic_medals[\"Monu\"]"
   ]
  },
  {
   "cell_type": "markdown",
   "metadata": {},
   "source": [
    "Notice how, above, the dictionary knows that I have zero olympic medals (the default value for any human being), even though I never told the dictionary explicitly how many medals I have.\n",
    "\n",
    "We can use a similar thing for our counting:"
   ]
  },
  {
   "cell_type": "code",
   "execution_count": 12,
   "metadata": {},
   "outputs": [
    {
     "name": "stdout",
     "output_type": "stream",
     "text": [
      "749376\n"
     ]
    }
   ],
   "source": [
    "from collections import defaultdict\n",
    "\n",
    "with open(INPUT_FILE, 'r') as f:\n",
    "    lines = [line.strip() for line in f]\n",
    "\n",
    "gamma, epsilon = \"\", \"\"\n",
    "for col in range(len(lines[0])):\n",
    "    counting = defaultdict(int)\n",
    "\n",
    "    for line in lines:\n",
    "        counting[line[col]] += 1\n",
    "    \n",
    "    if counting[\"0\"] < counting[\"1\"]:\n",
    "        gamma += \"1\"\n",
    "        epsilon += \"0\"\n",
    "    else:\n",
    "        gamma += \"0\"\n",
    "        epsilon += \"1\"\n",
    "\n",
    "print(int(gamma, 2) * int(epsilon, 2))"
   ]
  },
  {
   "cell_type": "markdown",
   "metadata": {},
   "source": [
    "In our case, because we only had two digits, initialising the dictionary by hand or using `defaultdict` was approximately the same work.\n",
    "`defaultdict` becomes more useful if we have a lot of different things we might want to count, or if we can't know in advance _what_ things will be counted.\n",
    "\n",
    "However, Python has an even _better_ way to count things:"
   ]
  },
  {
   "cell_type": "markdown",
   "metadata": {},
   "source": [
    "## Counter\n",
    "\n",
    "The `collections` module has another useful tool for us: a `Counter`!\n",
    "A `Counter` does exactly what it says on the tin: it counts things:"
   ]
  },
  {
   "cell_type": "code",
   "execution_count": 13,
   "metadata": {},
   "outputs": [
    {
     "data": {
      "text/plain": [
       "Counter({'i': 4, 's': 4, 'p': 2, 'M': 1})"
      ]
     },
     "execution_count": 13,
     "metadata": {},
     "output_type": "execute_result"
    }
   ],
   "source": [
    "from collections import Counter\n",
    "mississippi_letters = Counter(\"Mississippi\")\n",
    "mississippi_letters"
   ]
  },
  {
   "cell_type": "code",
   "execution_count": 14,
   "metadata": {},
   "outputs": [
    {
     "data": {
      "text/plain": [
       "4"
      ]
     },
     "execution_count": 14,
     "metadata": {},
     "output_type": "execute_result"
    }
   ],
   "source": [
    "mississippi_letters[\"i\"]"
   ]
  },
  {
   "cell_type": "markdown",
   "metadata": {},
   "source": [
    "But it includes other useful methods, like the `most_common`:"
   ]
  },
  {
   "cell_type": "code",
   "execution_count": 15,
   "metadata": {},
   "outputs": [
    {
     "data": {
      "text/plain": [
       "[('i', 4)]"
      ]
     },
     "execution_count": 15,
     "metadata": {},
     "output_type": "execute_result"
    }
   ],
   "source": [
    "mississippi_letters.most_common(1)"
   ]
  },
  {
   "cell_type": "markdown",
   "metadata": {},
   "source": [
    "`Counter`s also have a default value of `0`:"
   ]
  },
  {
   "cell_type": "code",
   "execution_count": 1,
   "metadata": {},
   "outputs": [
    {
     "ename": "NameError",
     "evalue": "name 'mississippi_letters' is not defined",
     "output_type": "error",
     "traceback": [
      "\u001b[0;31m---------------------------------------------------------------------------\u001b[0m",
      "\u001b[0;31mNameError\u001b[0m                                 Traceback (most recent call last)",
      "Cell \u001b[0;32mIn[1], line 1\u001b[0m\n\u001b[0;32m----> 1\u001b[0m \u001b[43mmississippi_letters\u001b[49m[\u001b[38;5;124m\"\u001b[39m\u001b[38;5;124mz\u001b[39m\u001b[38;5;124m\"\u001b[39m]\n",
      "\u001b[0;31mNameError\u001b[0m: name 'mississippi_letters' is not defined"
     ]
    }
   ],
   "source": [
    "mississippi_letters[\"z\"]"
   ]
  },
  {
   "cell_type": "code",
   "execution_count": 1,
   "metadata": {},
   "outputs": [
    {
     "ename": "NameError",
     "evalue": "name 'INPUT_FILE' is not defined",
     "output_type": "error",
     "traceback": [
      "\u001b[0;31m---------------------------------------------------------------------------\u001b[0m",
      "\u001b[0;31mNameError\u001b[0m                                 Traceback (most recent call last)",
      "Cell \u001b[0;32mIn[1], line 3\u001b[0m\n\u001b[1;32m      1\u001b[0m \u001b[38;5;28;01mfrom\u001b[39;00m \u001b[38;5;21;01mcollections\u001b[39;00m \u001b[38;5;28;01mimport\u001b[39;00m Counter\n\u001b[0;32m----> 3\u001b[0m \u001b[38;5;28;01mwith\u001b[39;00m \u001b[38;5;28mopen\u001b[39m(\u001b[43mINPUT_FILE\u001b[49m, \u001b[38;5;124m'\u001b[39m\u001b[38;5;124mr\u001b[39m\u001b[38;5;124m'\u001b[39m) \u001b[38;5;28;01mas\u001b[39;00m f:\n\u001b[1;32m      4\u001b[0m     lines \u001b[38;5;241m=\u001b[39m [line\u001b[38;5;241m.\u001b[39mstrip() \u001b[38;5;28;01mfor\u001b[39;00m line \u001b[38;5;129;01min\u001b[39;00m f]\n\u001b[1;32m      6\u001b[0m gamma, epsilon \u001b[38;5;241m=\u001b[39m \u001b[38;5;124m\"\u001b[39m\u001b[38;5;124m\"\u001b[39m, \u001b[38;5;124m\"\u001b[39m\u001b[38;5;124m\"\u001b[39m\n",
      "\u001b[0;31mNameError\u001b[0m: name 'INPUT_FILE' is not defined"
     ]
    }
   ],
   "source": [
    "from collections import Counter\n",
    "\n",
    "with open(INPUT_FILE, 'r') as f:\n",
    "    lines = [line.strip() for line in f]\n",
    "\n",
    "gamma, epsilon = \"\", \"\"\n",
    "for col in range(len(lines[0])):\n",
    "    counting = Counter()\n",
    "    for line in lines:\n",
    "        counting[line[col]] += 1\n",
    "    # Update gamma and epsilon values\n",
    "    bit, _ = counting.most_common(1)[0]\n",
    "    if bit == \"0\":\n",
    "        gamma += \"0\"\n",
    "        epsilon += \"1\"\n",
    "    else:\n",
    "        gamma += \"1\"\n",
    "        epsilon += \"0\"\n",
    "\n",
    "print(int(gamma, 2) * int(epsilon, 2))"
   ]
  },
  {
   "cell_type": "code",
   "execution_count": null,
   "metadata": {},
   "outputs": [],
   "source": []
  },
  {
   "cell_type": "code",
   "execution_count": 1,
   "metadata": {},
   "outputs": [],
   "source": [
    "# This is a sample comment"
   ]
  },
  {
   "cell_type": "code",
   "execution_count": null,
   "metadata": {},
   "outputs": [],
   "source": [
    "# This is a sample comment"
   ]
  }
 ],
 "metadata": {
  "kernelspec": {
   "display_name": "Python 3",
   "language": "python",
   "name": "python3"
  },
  "language_info": {
   "codemirror_mode": {
    "name": "ipython",
    "version": 3
   },
   "file_extension": ".py",
   "mimetype": "text/x-python",
   "name": "python",
   "nbconvert_exporter": "python",
   "pygments_lexer": "ipython3",
   "version": "3.11.6"
  }
 },
 "nbformat": 4,
 "nbformat_minor": 2
}
