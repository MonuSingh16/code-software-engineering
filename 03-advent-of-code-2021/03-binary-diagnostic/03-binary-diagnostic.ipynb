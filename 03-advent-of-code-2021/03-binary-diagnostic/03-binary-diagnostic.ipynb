{
 "cells": [
  {
   "cell_type": "markdown",
   "metadata": {},
   "source": [
    "## Part 1 problem statement\n",
    "\n",
    "(Adapted from [Advent of Code 2021, day 3](https://adventofcode.com/2021/day/3))\n",
    "\n",
    "You are given a list of binary numbers.\n",
    "You need to use the binary numbers in that list to generate two new binary numbers (called the **gamma rate** and the **epsilon rate**).\n",
    "\n",
    "Each bit in the gamma rate can be determined by finding the most common bit in the corresponding position of all numbers in the list.\n",
    "For example, given the following list:\n",
    "\n",
    "```txt\n",
    "00100\n",
    "11110\n",
    "10110\n",
    "10111\n",
    "10101\n",
    "01111\n",
    "00111\n",
    "11100\n",
    "10000\n",
    "11001\n",
    "00010\n",
    "01010\n",
    "```\n",
    "\n",
    "Considering only the first bit of each number, there are five `0` bits and seven `1` bits. Since the most common bit is `1`, the first bit of the gamma rate is `1`.\n",
    "\n",
    "The most common second bit of the numbers in the diagnostic report is `0`, so the second bit of the gamma rate is `0`.\n",
    "\n",
    "The most common value of the third, fourth, and fifth bits are `1`, `1`, and `0`, respectively, and so the final three bits of the gamma rate are `110`.\n",
    "\n",
    "So, the gamma rate is the binary number `10110`, or `22` **in decimal**.\n",
    "\n",
    "The epsilon rate is calculated in a similar way; rather than use the most common bit, the least common bit from each position is used. So, the epsilon rate is `01001`, or `9` **in decimal**. Multiplying the gamma rate (`22`) by the epsilon rate (`9`) gives `198`.\n",
    "\n",
    "**Use the binary numbers in your input list to calculate the gamma rate and epsilon rate, then multiply them together.** What do you get? (Be sure to represent your answer in decimal, not binary.)\n",
    "\n",
    "_Using the input file `input.txt`, the result should be 749376._"
   ]
  },
  {
   "cell_type": "code",
   "execution_count": 3,
   "metadata": {},
   "outputs": [],
   "source": [
    "INPUT_FILE = \"input.txt\""
   ]
  },
  {
   "cell_type": "code",
   "execution_count": 8,
   "metadata": {},
   "outputs": [
    {
     "name": "stdout",
     "output_type": "stream",
     "text": [
      "749376\n"
     ]
    }
   ],
   "source": [
    "with open(INPUT_FILE, 'r') as f:\n",
    "    lines = [line.strip() for line in f]\n",
    "\n",
    "gamma, epsilon = \"\", \"\"\n",
    "for col in range(len(lines[0])):\n",
    "    # Count zeros and ones in this column\n",
    "    zeroes, ones = 0, 0\n",
    "    for line in lines:\n",
    "        if line[col] == \"0\":\n",
    "            zeroes += 1\n",
    "        else:\n",
    "            ones += 1    \n",
    "    # Update gamma and epsilon  based on the most common bit\n",
    "    if zeroes > ones:\n",
    "        gamma += \"0\"\n",
    "        epsilon += \"1\"\n",
    "    else:\n",
    "        gamma += \"1\"\n",
    "        epsilon += \"0\"\n",
    "\n",
    "print(int(gamma, 2) * int(epsilon, 2))\n"
   ]
  },
  {
   "cell_type": "code",
   "execution_count": 9,
   "metadata": {},
   "outputs": [
    {
     "name": "stdout",
     "output_type": "stream",
     "text": [
      "749376\n"
     ]
    }
   ],
   "source": [
    "with open(INPUT_FILE, 'r') as f:\n",
    "    lines = [line.strip() for line in f]\n",
    "\n",
    "gamma, epsilon = \"\", \"\"\n",
    "for col in range(len(lines[0])):\n",
    "    # Count zeros and ones \n",
    "    zeroes, ones = 0, 0\n",
    "    for line in lines:\n",
    "        if line[col] == \"0\":\n",
    "            zeroes += 1\n",
    "        else:\n",
    "            ones += 1\n",
    "    # Update gamman and epsilon based on the most common bit\n",
    "    if zeroes < ones :\n",
    "        gamma += \"0\"\n",
    "        epsilon += \"1\"\n",
    "    else:\n",
    "        gamma += \"1\"\n",
    "        epsilon += \"0\"\n",
    "    \n",
    "print(int(gamma, 2) * int(epsilon, 2))"
   ]
  },
  {
   "cell_type": "markdown",
   "metadata": {},
   "source": [
    "Even though this solution doesn't use many advanced techniques, there is one thing that is **super** useful already:\n",
    "the built-in `int` can parse binary numbers:"
   ]
  },
  {
   "cell_type": "code",
   "execution_count": 10,
   "metadata": {},
   "outputs": [
    {
     "data": {
      "text/plain": [
       "5"
      ]
     },
     "execution_count": 10,
     "metadata": {},
     "output_type": "execute_result"
    }
   ],
   "source": [
    "int(\"101\", 2)"
   ]
  },
  {
   "cell_type": "markdown",
   "metadata": {},
   "source": [
    "That's something we will be using a lot, in here.\n",
    "\n",
    "Another thing that is worth pointing out is that, when we read the file, we used `.strip()` to get rid of the newline character `\"\\n\"` that comes in the end of each line when we use `.readlines()` on the file.\n",
    "\n",
    "Now we want to know how to improve our code.\n",
    "The first thing I do is wonder: what would I change if the numbers in the problem changed a bit?\n",
    "For example, what would I do if the problem wanted us to count digits in hexadecimal, instead of binary?\n",
    "\n",
    "If we were dealing with hexadecimal digits (numbers `0` through `9` and letters `\"a\"` through `\"f\"`), then I wouldn't want to have 16 variables just for counting:"
   ]
  },
  {
   "cell_type": "markdown",
   "metadata": {},
   "source": [
    "## Convenient counting\n",
    "\n",
    "Thankfully, we can do this with ease, we just need to use a container (something like a list or a dictionary) to hold the counting results.\n",
    "\n",
    "I tend to prefer dictionaries, because the key-value system makes it very easy to map any kind of value to its count:"
   ]
  },
  {
   "cell_type": "code",
   "execution_count": 14,
   "metadata": {},
   "outputs": [
    {
     "name": "stdout",
     "output_type": "stream",
     "text": [
      "749376\n"
     ]
    }
   ],
   "source": [
    "with open(INPUT_FILE, 'r') as f:\n",
    "    lines = [line.strip() for line in f]\n",
    "\n",
    "gamma, epsilon = \"\", \"\"\n",
    "for col in range(len(lines[0])):\n",
    "    # Count zeroes and ones in this column:\n",
    "    counting = {\"0\": 0, \"1\": 0}\n",
    "    for line in lines:\n",
    "        counting[line[col]] += 1\n",
    "    # Update gamma and epsilon based on the most common bit:\n",
    "    if counting[\"0\"] < counting[\"1\"]:\n",
    "        gamma += \"1\"\n",
    "        epsilon += \"0\"\n",
    "    else:\n",
    "        gamma += \"0\"\n",
    "        epsilon += \"1\"\n",
    "\n",
    "print(int(gamma, 2) * int(epsilon, 2))"
   ]
  },
  {
   "cell_type": "markdown",
   "metadata": {},
   "source": [
    "As you can see, this simplified the code a fair bit already.\n",
    "\n",
    "If you are wondering about the reason why I initialised the dictionary `counting` as `{\"0\": 0, \"1\": 0}` instead of `{}`, think about this:\n",
    "if `\"0\"` and `\"1\"` are not existing keys of the dictionary `counting`, the line `counting[line[col]] += 1` wouldn't work.\n",
    "We would have to write a an `if` statement to cover the first time we add something to the dictionary:"
   ]
  },
  {
   "cell_type": "code",
   "execution_count": 15,
   "metadata": {},
   "outputs": [
    {
     "name": "stdout",
     "output_type": "stream",
     "text": [
      "749376\n"
     ]
    }
   ],
   "source": [
    "with open(INPUT_FILE, 'r') as f:\n",
    "    lines = [line.strip() for line in f]\n",
    "\n",
    "gamma, epsilon = \"\", \"\"\n",
    "for col in range(len(lines[0])):\n",
    "    counting = {}\n",
    "    for line in lines:\n",
    "        if line[col] not in counting:\n",
    "            counting[line[col]] = 0\n",
    "        counting[line[col]] += 1\n",
    "    if counting[\"0\"] < counting[\"1\"]:\n",
    "        gamma += \"1\"\n",
    "        epsilon += \"0\"\n",
    "    else:\n",
    "        gamma += \"0\"\n",
    "        epsilon += \"1\"\n",
    "    \n",
    "print(int(gamma, 2) * int(epsilon, 2))"
   ]
  },
  {
   "cell_type": "markdown",
   "metadata": {},
   "source": [
    "This is a common pattern in programming: you “look before you leap” (LBYL).\n",
    "In other words, you make sure you _can_ do what you wanted to do.\n",
    "In this case, you make sure the key exists before accessing that key in the dictionary.\n",
    "\n",
    "However, Python tends to follow another code style, that says it's “easier to ask forgiveness than permission” (EAFP).\n",
    "This code style suggests you should `try` to do what you want to do, and just fix the situation if you end up in trouble."
   ]
  },
  {
   "cell_type": "markdown",
   "metadata": {},
   "source": [
    "## EAFP versus LBYL\n",
    "\n",
    "In Python, specifically, this generally means contrasting a preventive `if` with a `try` block.\n",
    "For our example, something like this:"
   ]
  },
  {
   "cell_type": "code",
   "execution_count": 20,
   "metadata": {},
   "outputs": [
    {
     "name": "stdout",
     "output_type": "stream",
     "text": [
      "749376\n"
     ]
    }
   ],
   "source": [
    "with open(INPUT_FILE, \"r\") as f:\n",
    "    lines = [line.strip() for line in f]\n",
    "\n",
    "gamma, epsilon = \"\", \"\"\n",
    "for col in range(len(lines[0])):\n",
    "    # Count zeroes and ones in this column:\n",
    "    counting = {}\n",
    "    for line in lines:\n",
    "        try:\n",
    "            counting[line[col]] += 1\n",
    "        except KeyError:\n",
    "            counting[line[col]] = 1\n",
    "    # Update gamma and epsilon based on the most common bit:\n",
    "    if counting[\"0\"] < counting[\"1\"]:\n",
    "        gamma += \"1\"\n",
    "        epsilon += \"0\"\n",
    "    else:\n",
    "        gamma += \"0\"\n",
    "        epsilon += \"1\"\n",
    "        \n",
    "print(int(gamma, 2) * int(epsilon, 2))"
   ]
  },
  {
   "cell_type": "markdown",
   "metadata": {},
   "source": [
    "Using the EAFP approach is often the preferred way in Python, and this comparison was shown here for the sake of completeness.\n",
    "You can read more about the choice between EAFP and LBYL in [here](https://mathspp.com/blog/pydonts/eafp-and-lbyl-coding-styles).\n",
    "\n",
    "In our case, we can avoid the debate altogether by initialising the counting dictionary in the appropriate way, like was shown [above](#Convenient-counting)."
   ]
  },
  {
   "cell_type": "code",
   "execution_count": null,
   "metadata": {},
   "outputs": [],
   "source": []
  }
 ],
 "metadata": {
  "kernelspec": {
   "display_name": "Python 3",
   "language": "python",
   "name": "python3"
  },
  "language_info": {
   "codemirror_mode": {
    "name": "ipython",
    "version": 3
   },
   "file_extension": ".py",
   "mimetype": "text/x-python",
   "name": "python",
   "nbconvert_exporter": "python",
   "pygments_lexer": "ipython3",
   "version": "3.11.6"
  }
 },
 "nbformat": 4,
 "nbformat_minor": 2
}
