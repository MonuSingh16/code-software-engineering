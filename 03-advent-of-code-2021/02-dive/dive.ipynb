{
 "cells": [
  {
   "cell_type": "markdown",
   "metadata": {},
   "source": [
    "# Dive !"
   ]
  },
  {
   "cell_type": "markdown",
   "metadata": {},
   "source": [
    "## Part 1 problem statement\n",
    "\n",
    "(Adapted from [Advent of Code 2021, day 2](https://adventofcode.com/2021/day/2))\n",
    "\n",
    "You will be given a series of instructions like\n",
    "\n",
    "```txt\n",
    "forward 5\n",
    "down 5\n",
    "forward 8\n",
    "up 3\n",
    "down 8\n",
    "forward 2\n",
    "```\n",
    "\n",
    "These instructions will change your horizontal position and your depth, two values you need to keep track of:\n",
    "\n",
    " - `forward X` increases the horizontal position by X units;\n",
    " - `down X` increases the depth by X units; and\n",
    " - `up X` decreases the depth by X units.\n",
    "\n",
    "Your horizontal position and depth both start at 0. The steps above would then modify them as follows:\n",
    "\n",
    " - `forward 5` adds 5 to your horizontal position, a total of 5.\n",
    " - `down 5` adds 5 to your depth, resulting in a value of 5.\n",
    " - `forward 8` adds 8 to your horizontal position, a total of 13.\n",
    " - `up 3` decreases your depth by 3, resulting in a value of 2.\n",
    " - `down 8` adds 8 to your depth, resulting in a value of 10.\n",
    " - `forward 2` adds 2 to your horizontal position, a total of 15.\n",
    "\n",
    "After following these instructions, you would have a horizontal position of 15 and a depth of 10. (Multiplying these together produces 150.)\n",
    "\n",
    "**Calculate the horizontal position and depth you would have after following the planned course. What do you get if you multiply your final horizontal position by your final depth?**\n",
    "\n",
    "_Using the input file `input.txt`, the result should be 1727835._"
   ]
  },
  {
   "cell_type": "code",
   "execution_count": 1,
   "metadata": {},
   "outputs": [],
   "source": [
    "INPUT_FILE = 'input.txt'"
   ]
  },
  {
   "cell_type": "code",
   "execution_count": 2,
   "metadata": {},
   "outputs": [
    {
     "name": "stdout",
     "output_type": "stream",
     "text": [
      "1727835\n"
     ]
    }
   ],
   "source": [
    "with open(INPUT_FILE, 'r') as f:\n",
    "    instructions = f.readlines()\n",
    "\n",
    "horiz_pos, depth = 0, 0\n",
    "for line in instructions:\n",
    "    command, value = line.split()\n",
    "    value = int(value)\n",
    "\n",
    "    if command == \"forward\":\n",
    "        horiz_pos += value\n",
    "    elif command == \"up\":\n",
    "        depth -= value\n",
    "    elif command == \"down\":\n",
    "        depth += value\n",
    "    else:\n",
    "        raise ValueError('Unknown command.')\n",
    "\n",
    "print(horiz_pos * depth)\n",
    "    \n"
   ]
  },
  {
   "cell_type": "markdown",
   "metadata": {},
   "source": [
    "There is nothing too wild going on here.\n",
    "\n",
    "Perhaps the thing that can easily go most unnoticed is the fact that the line `command, value = line.split()` is already doing some input validation for us:\n",
    "the fact that we are unpacking into `command, line` means we are assuming that `line.split()` returns two values.\n",
    "If it returns any other number of values, we get a `ValueError`:"
   ]
  },
  {
   "cell_type": "code",
   "execution_count": 3,
   "metadata": {},
   "outputs": [
    {
     "ename": "ValueError",
     "evalue": "too many values to unpack (expected 2)",
     "output_type": "error",
     "traceback": [
      "\u001b[0;31m---------------------------------------------------------------------------\u001b[0m",
      "\u001b[0;31mValueError\u001b[0m                                Traceback (most recent call last)",
      "Cell \u001b[0;32mIn[3], line 1\u001b[0m\n\u001b[0;32m----> 1\u001b[0m command, value \u001b[38;5;241m=\u001b[39m \u001b[38;5;124m\"\u001b[39m\u001b[38;5;124mcmd val otherthing\u001b[39m\u001b[38;5;124m\"\u001b[39m\u001b[38;5;241m.\u001b[39msplit()\n",
      "\u001b[0;31mValueError\u001b[0m: too many values to unpack (expected 2)"
     ]
    }
   ],
   "source": [
    "command, value = \"cmd val otherthing\".split()"
   ]
  },
  {
   "cell_type": "markdown",
   "metadata": {},
   "source": [
    "### Pattern matching\n",
    "\n",
    "If you are using Python 3.10 or newer, you might be tempted to use [structural pattern matching](https://mathspp.com/blog/pydonts/structural-pattern-matching-tutorial) here.\n",
    "We can write a solution using `match` that is remarkably similar to the solution using `if`:"
   ]
  },
  {
   "cell_type": "code",
   "execution_count": null,
   "metadata": {},
   "outputs": [
    {
     "name": "stdout",
     "output_type": "stream",
     "text": [
      "1727835\n"
     ]
    }
   ],
   "source": [
    "with open(INPUT_FILE, 'r') as f:\n",
    "    instructions = f.readlines()\n",
    "\n",
    "horiz_pos, depth = 0, 0\n",
    "for line in instructions:\n",
    "    command, value = line.split()\n",
    "    value = int(value)\n",
    " \n",
    "    match command:\n",
    "        case \"forward\":\n",
    "            horiz_pos += value\n",
    "        case \"up\":\n",
    "            depth -= value\n",
    "        case \"down\":\n",
    "            depth += value\n",
    "        case _:\n",
    "            raise ValueError(\"Unknown Command\")\n",
    "\n",
    "\n",
    "print(horiz_pos * depth)"
   ]
  },
  {
   "cell_type": "markdown",
   "metadata": {},
   "source": [
    "So, is this any better?\n",
    "We can argue it is _not_, because we didn't simplify our code, and yet managed to increase its depth.\n",
    "\n",
    "To walk towards a scenario where pattern matching would be probably be more useful, let's rewrite the `match` statement:"
   ]
  },
  {
   "cell_type": "code",
   "execution_count": null,
   "metadata": {},
   "outputs": [
    {
     "name": "stdout",
     "output_type": "stream",
     "text": [
      "1727835\n"
     ]
    }
   ],
   "source": [
    "with open(INPUT_FILE, 'r') as f:\n",
    "    instructions = f.readlines()\n",
    "\n",
    "horiz_pos, depth = 0, 0\n",
    "for line in instructions:\n",
    "\n",
    "    match line.split():\n",
    "        case [\"forward\", value]:\n",
    "            horiz_pos += int(value)\n",
    "        case [\"up\", value]:\n",
    "            depth -= int(value)\n",
    "        case [\"down\", value]:\n",
    "            depth += int(value)\n",
    "        case _:\n",
    "            raise ValueError(\"Unknown Command.\")\n",
    "\n",
    "print(horiz_pos * depth)\n"
   ]
  },
  {
   "cell_type": "markdown",
   "metadata": {},
   "source": [
    "By matching directly the `line.split()` expression, we are making it easier for ourselves to handle instructions that have a different _structure_.\n",
    "For example, imagine there was a `\"reset\"` instruction, that resetted the horizontal position and the depth to 0.\n",
    "Using `match`, this is what the solution could look like:"
   ]
  },
  {
   "cell_type": "code",
   "execution_count": null,
   "metadata": {},
   "outputs": [
    {
     "name": "stdout",
     "output_type": "stream",
     "text": [
      "0\n"
     ]
    }
   ],
   "source": [
    "with open(INPUT_FILE, 'r') as f:\n",
    "    instructions = f.readlines()\n",
    "\n",
    "instructions.append(\"reset\")\n",
    "horiz_pos, depth = 0, 0\n",
    "for line in instructions:\n",
    "    match line.split():\n",
    "        case [\"reset\"]:\n",
    "            horiz_pos, depth = 0, 0\n",
    "        case [\"forward\", value]:\n",
    "            horiz_pos += int(value)\n",
    "        case[\"up\", value]:\n",
    "            depth -= int(value)\n",
    "        case[\"down\", value]:\n",
    "            depth += int(value)\n",
    "        case _:\n",
    "            raise ValueError(\"Unkown Command.\")\n",
    "print(horiz_pos * depth)"
   ]
  },
  {
   "cell_type": "markdown",
   "metadata": {},
   "source": [
    "We only needed to add two lines of code to handle this new command, and the handling of all commands looks similar: a `case` statement and some code.\n",
    "If we were to do the same thing in the original `if` statement, we would have to special-case the `\"reset\"` command because we would have to check for it before unpacking the line into the `command` and `line` variables:"
   ]
  },
  {
   "cell_type": "code",
   "execution_count": null,
   "metadata": {},
   "outputs": [
    {
     "name": "stdout",
     "output_type": "stream",
     "text": [
      "0\n"
     ]
    }
   ],
   "source": [
    "with open(INPUT_FILE, \"r\") as f:\n",
    "    instructions = f.readlines()\n",
    "    \n",
    "instructions.append(\"reset\")  # Add a \"reset\" command to the end.\n",
    "\n",
    "horiz_pos, depth = 0, 0\n",
    "for line in instructions:\n",
    "    if line == \"reset\":\n",
    "        horiz_pos, depth = 0, 0\n",
    "        continue\n",
    "    \n",
    "    command, value = line.split()\n",
    "    value = int(value)\n",
    "    \n",
    "    if command == \"forward\":\n",
    "        horiz_pos += value\n",
    "    elif command == \"up\":\n",
    "        depth -= value\n",
    "    elif command == \"down\":\n",
    "        depth += value\n",
    "    else:\n",
    "        raise ValueError(\"Unknown command.\")\n",
    "\n",
    "print(horiz_pos * depth)  # Prints 0 because the last command was \"reset\"."
   ]
  },
  {
   "cell_type": "markdown",
   "metadata": {},
   "source": [
    "So, in conclusion, for such a homogeneous set of commands, the `if` statement is preferable.\n",
    "If the line structure were more heterogeneous, then structural pattern matching would start to show its benefits."
   ]
  },
  {
   "cell_type": "markdown",
   "metadata": {},
   "source": [
    "### How to end the `if` block\n",
    "\n",
    "In the solution above, our `if` block compares `command` explicitly to each of the three possible commands, and uses the `else` to raise an error in the event that we receive a command we don't know.\n",
    "We could have written, just as easily, the following `if` block:\n",
    "\n",
    "```py\n",
    "if command == \"forward\":\n",
    "    horiz_pos += value\n",
    "elif command == \"up\":\n",
    "    depth -= value\n",
    "else:\n",
    "    depth += value\n",
    "```\n",
    "\n",
    "This block assumes that the variable `command` _always_ contains one of the three known commands, and thus uses the `else` to handle the `down` command.\n",
    "\n",
    "However, there is a disadvantage to writing code like this:\n",
    "one cannot look at the `if` block and _read_ what is the third case.\n",
    "Is it a single one?\n",
    "Are there multiple commands that map to the action of doing `depth += value`?\n",
    "\n",
    "Thus, one can argue it is preferable to be explicit about the cases we are handling.\n",
    "Of course, we can still choose to write the `if` block like so:\n",
    "\n",
    "```py\n",
    "if command == \"forward\":\n",
    "    horiz_pos += value\n",
    "elif command == \"up\":\n",
    "    depth -= value\n",
    "elif command == \"down\":\n",
    "    depth += value\n",
    "```\n",
    "\n",
    "The difference, here, is that we do not include the `else` branch with the `raise` statement.\n",
    "This says explicitly the commands that we are handling, while also showing that we do not expect to have to handle anything else.\n",
    "\n",
    "Another slight variant would be to write\n",
    "\n",
    "```py\n",
    "if command == \"forward\":\n",
    "    horiz_pos += value\n",
    "elif command == \"up\":\n",
    "    depth -= value\n",
    "elif command == \"down\":\n",
    "    depth += value\n",
    "else:\n",
    "    pass\n",
    "```\n",
    "\n",
    "This variant can be understood to mean “we assume something else might come through in the variable `command`, but we don't care about it”.\n",
    "\n",
    "These are just minor variations of one another, and _your_ interpretation might not necessarily align with mine, but I find it to be an interesting exercise to think about the different ways in which similar pieces of code are read and understood.\n",
    "\n",
    "---\n",
    "\n",
    "As far as this problem is concerned, there isn't much we can do to improve our solution significantly.\n",
    "The problem is straightforward enough that any attempts to be clever would do more harm than good.\n",
    "\n",
    "Therefore, we will now cover the second part of the problem.\n",
    "Then, because this is a fairly simple problem, it acts as a good toy example to introduce a couple of interesting tools that could be relevant for similar tasks, but that would represent too much overhead here."
   ]
  },
  {
   "cell_type": "markdown",
   "metadata": {},
   "source": [
    "## Part 2 problem statement\n",
    "\n",
    "(Adapted from [Advent of Code 2021, day 2](https://adventofcode.com/2021/day/2))\n",
    "\n",
    "Part 2 is a modification of part 1.\n",
    "Now, not only do we have to keep track of the horizontal position and depth, we also have to keep track of the **aim**.\n",
    "On top of that, the **same commands** now have a **different meaning**:\n",
    "\n",
    "\n",
    " - `down X` increases your aim by X units;\n",
    " - `up X` decreases your aim by X units; and\n",
    " - `forward X` does two things:\n",
    "    - it increases your horizontal position by X units; and\n",
    "    - it increases your depth by your aim multiplied by X.\n",
    "    \n",
    "Recall the previous example:\n",
    "\n",
    "```txt\n",
    "forward 5\n",
    "down 5\n",
    "forward 8\n",
    "up 3\n",
    "down 8\n",
    "forward 2\n",
    "```\n",
    "\n",
    "Now, the final result is different:\n",
    "\n",
    " - `forward 5` adds 5 to your horizontal position, a total of 5. Because your aim is 0, your depth does not change.\n",
    " - `down 5` adds 5 to your aim, resulting in a value of 5.\n",
    " - `forward 8` adds 8 to your horizontal position, a total of 13. Because your aim is 5, your depth increases by 8*5=40.\n",
    " - `up 3` decreases your aim by 3, resulting in a value of 2.\n",
    " - `down 8` adds 8 to your aim, resulting in a value of 10.\n",
    " - `forward 2` adds 2 to your horizontal position, a total of 15. Because your aim is 10, your depth increases by 2*10=20 to a total of 60.\n",
    "\n",
    "After following these new instructions, you would have a horizontal position of 15 and a depth of 60. (Multiplying these produces 900.)\n",
    "\n",
    "Using this new interpretation of the commands, **calculate the horizontal position and depth** you would have after following the planned course.\n",
    "**What do you get if you multiply your final horizontal position by your final depth?**\n",
    "\n",
    "_Using the input file `input.txt`, the answer should be 1544000595._"
   ]
  },
  {
   "cell_type": "markdown",
   "metadata": {},
   "source": [
    "### Modifying the baseline solution\n",
    "\n",
    "In order to solve this new version of the problem, we just have to adapt the handling of each command:"
   ]
  },
  {
   "cell_type": "code",
   "execution_count": 4,
   "metadata": {},
   "outputs": [
    {
     "name": "stdout",
     "output_type": "stream",
     "text": [
      "1544000595\n"
     ]
    }
   ],
   "source": [
    "with open(INPUT_FILE, 'r') as f:\n",
    "    instructions = f.readlines()\n",
    "\n",
    "horiz_pos, depth, aim = 0, 0, 0\n",
    "for line in instructions:\n",
    "    command, value = line.split()\n",
    "    value = int(value)\n",
    "\n",
    "    if command == \"forward\":\n",
    "        horiz_pos += value\n",
    "        depth += aim * value\n",
    "    \n",
    "    elif command == \"down\":\n",
    "        aim += value\n",
    "    \n",
    "    elif command == \"up\":\n",
    "        aim -= value\n",
    "\n",
    "    else:\n",
    "        raise ValueError(\"Commnad not found.\")\n",
    "\n",
    "print(horiz_pos * depth)"
   ]
  },
  {
   "cell_type": "markdown",
   "metadata": {},
   "source": [
    "### Rudimentary space-time complexity analysis\n",
    "\n",
    "#### Time\n",
    "\n",
    "Let us analyse the the space and time complexities of our solution, as a function of the number `n` of instructions.\n",
    "\n",
    "A rule of thumb to estimate the time complexity of an algorithm is to sum the time complexities of things that happen after each other, and to multiply the time complexities of loops with the time complexities of the code inside them.\n",
    "\n",
    "In our particular example, we have an outer `for` loop that goes through all instructions once, so that loop by itself is linear, or $O(n)$.\n",
    "Now, we need to check the time complexity of the loop body, because the loop body gets executed in _each_ iteration.\n",
    "\n",
    "As we can see, all operations inside the loop body execute in constant time: they do not depend on the total amount of instructions.\n",
    "Hence, the loop body, for each iteration, is $O(1)$.\n",
    "\n",
    "Putting it all together (in a not-so-rigorous manner), we get that the whole algorithm is $O(n) \\times O(1) = O(n)$.\n",
    "\n",
    "This shouldn't be surprising, and it is impossible to improve: we cannot know what the final horizontal position/depth/aim is without reading all instructions, and to read all instructions we need to go through the whole set of instructions at least once, which is already $O(n)$ by itself.\n",
    "\n",
    "#### Space\n",
    "\n",
    "The space complexity of our current solution is also linear, because we store all the instructions in a list.\n",
    "We can reduce the space complexity to be constant if we employ the strategy of lazily iterating over the input file:"
   ]
  },
  {
   "cell_type": "code",
   "execution_count": 5,
   "metadata": {},
   "outputs": [
    {
     "name": "stdout",
     "output_type": "stream",
     "text": [
      "1544000595\n"
     ]
    }
   ],
   "source": [
    "horiz_pos, depth, aim = 0, 0, 0\n",
    "\n",
    "with open(INPUT_FILE, 'r') as f:\n",
    "    for line in f:\n",
    "        command, value = line.split()\n",
    "        value = int(value)\n",
    "\n",
    "        if command == \"forward\":\n",
    "            horiz_pos += value\n",
    "            depth += aim * value\n",
    "\n",
    "        elif command == \"up\":\n",
    "            aim -= value\n",
    "        \n",
    "        elif command == \"down\":\n",
    "            aim += value\n",
    "        \n",
    "        else:\n",
    "            raise ValueError(\"Command not found\")\n",
    "        \n",
    "print(horiz_pos * depth)"
   ]
  },
  {
   "cell_type": "markdown",
   "metadata": {},
   "source": [
    "The space complexity of the modified code is $O(1)$ because we only store three integers."
   ]
  },
  {
   "cell_type": "markdown",
   "metadata": {},
   "source": [
    "## Other thoughts\n",
    "\n",
    "As mentioned previously, let us use this toy problem as an excuse to cover a couple of other tools that you could benefit from."
   ]
  },
  {
   "cell_type": "markdown",
   "metadata": {},
   "source": [
    "### Parsing input\n",
    "\n",
    "People have different sensibilities, so you may not relate to what I am about to say, but there is one small thing that annoys me a little bit in the solution above, and that is the parsing of each line.\n",
    "\n",
    "We know that each line has a very nice format, but we still need to break it into pieces and do some conversions here and there.\n",
    "A very reasonable thing to do would be to create an auxiliary function whose only job is to parse a line of input into its appropriate pieces.\n",
    "For our challenge, we might even assume that the line _will_ have the appropriate format:"
   ]
  },
  {
   "cell_type": "code",
   "execution_count": 9,
   "metadata": {},
   "outputs": [
    {
     "name": "stdout",
     "output_type": "stream",
     "text": [
      "1544000595\n"
     ]
    }
   ],
   "source": [
    "def parse_instruction_line(line):\n",
    "    command, value = line.split()\n",
    "    return command, int(value)\n",
    "\n",
    "horiz_pos, depth, aim = 0, 0, 0\n",
    "\n",
    "with open(INPUT_FILE, 'r') as f:\n",
    "    for line in f:\n",
    "        command, value = parse_instruction_line(line)\n",
    "        \n",
    "        if command == \"forward\":\n",
    "            horiz_pos += value\n",
    "            depth += aim * value\n",
    "\n",
    "        elif command == \"up\":\n",
    "            aim -= value\n",
    "        \n",
    "        elif command == \"down\":\n",
    "            aim += value\n",
    "        \n",
    "        else:\n",
    "            raise ValueError(\"Command not found\")\n",
    "        \n",
    "print(horiz_pos * depth)"
   ]
  },
  {
   "cell_type": "markdown",
   "metadata": {},
   "source": [
    "For our little problem, it might not look very advantageous to define an auxiliary function to do that work.\n",
    "However, as problems become more complex and as input formats become more complex/less structured, input parsing becomes a significant endeavour.\n",
    "When that is the case, it is generally advised that you _separate concerns_:\n",
    "have a function to do input parsing and then another function to do the number crunching/problem-solving."
   ]
  },
  {
   "cell_type": "markdown",
   "metadata": {},
   "source": [
    "### Enumerations of constants\n",
    "\n",
    "Another tool that is quite useful comes from the `enum` module.\n",
    "`enum` is short for “enumeration”, and is useful when you have related constant variables that you would like to keep together.\n",
    "\n",
    "In our example, those (three) constants are the string values of the three commands:\n",
    "\n",
    " - “forward”\n",
    " - “up”\n",
    " - “down”\n",
    "\n",
    "With enumerations, we can group values that act as “global constants” and use them instead of the actual values:"
   ]
  },
  {
   "cell_type": "code",
   "execution_count": 16,
   "metadata": {},
   "outputs": [
    {
     "name": "stdout",
     "output_type": "stream",
     "text": [
      "1544000595\n"
     ]
    }
   ],
   "source": [
    "from enum import Enum\n",
    "\n",
    "class Command(Enum):\n",
    "    FORWARD = \"forward\"\n",
    "    UP = \"up\"\n",
    "    DOWN = \"down\"\n",
    "\n",
    "horiz_pos, depth, aim = 0, 0, 0\n",
    "\n",
    "with open(INPUT_FILE, 'r') as f:\n",
    "    for line in f:\n",
    "        command, value = line.split()\n",
    "        value = int(value)\n",
    "        command = Command(command) # We say that `command` is a `Command`, ...\n",
    "\n",
    "        # ... and we compare it to each possible command:\n",
    "        if command == Command.FORWARD:\n",
    "            horiz_pos += value\n",
    "            depth += aim * value\n",
    "\n",
    "        elif command == Command.UP:\n",
    "            aim -= value\n",
    "\n",
    "        elif command == Command.DOWN:\n",
    "            aim += value\n",
    "\n",
    "        else:\n",
    "            ValueError(\"Unkwon Command\")\n",
    "        \n",
    "print(horiz_pos * depth)"
   ]
  },
  {
   "cell_type": "markdown",
   "metadata": {},
   "source": [
    "There are many benefits to using enums in this type of situation.\n",
    "One of the best ones, for this case, is that using `Command` to create the command will do data validation for us.\n",
    "If you try to create a `Command` instance out of something that is not a valid command, the code will break:"
   ]
  },
  {
   "cell_type": "code",
   "execution_count": 17,
   "metadata": {},
   "outputs": [
    {
     "ename": "ValueError",
     "evalue": "'Invalid' is not a valid Command",
     "output_type": "error",
     "traceback": [
      "\u001b[0;31m---------------------------------------------------------------------------\u001b[0m",
      "\u001b[0;31mValueError\u001b[0m                                Traceback (most recent call last)",
      "Cell \u001b[0;32mIn[17], line 1\u001b[0m\n\u001b[0;32m----> 1\u001b[0m \u001b[43mCommand\u001b[49m\u001b[43m(\u001b[49m\u001b[38;5;124;43m\"\u001b[39;49m\u001b[38;5;124;43mInvalid\u001b[39;49m\u001b[38;5;124;43m\"\u001b[39;49m\u001b[43m)\u001b[49m\n",
      "File \u001b[0;32m/opt/homebrew/Cellar/python@3.11/3.11.6_1/Frameworks/Python.framework/Versions/3.11/lib/python3.11/enum.py:712\u001b[0m, in \u001b[0;36mEnumType.__call__\u001b[0;34m(cls, value, names, module, qualname, type, start, boundary)\u001b[0m\n\u001b[1;32m    687\u001b[0m \u001b[38;5;250m\u001b[39m\u001b[38;5;124;03m\"\"\"\u001b[39;00m\n\u001b[1;32m    688\u001b[0m \u001b[38;5;124;03mEither returns an existing member, or creates a new enum class.\u001b[39;00m\n\u001b[1;32m    689\u001b[0m \n\u001b[0;32m   (...)\u001b[0m\n\u001b[1;32m    709\u001b[0m \u001b[38;5;124;03m`type`, if set, will be mixed in as the first base class.\u001b[39;00m\n\u001b[1;32m    710\u001b[0m \u001b[38;5;124;03m\"\"\"\u001b[39;00m\n\u001b[1;32m    711\u001b[0m \u001b[38;5;28;01mif\u001b[39;00m names \u001b[38;5;129;01mis\u001b[39;00m \u001b[38;5;28;01mNone\u001b[39;00m:  \u001b[38;5;66;03m# simple value lookup\u001b[39;00m\n\u001b[0;32m--> 712\u001b[0m     \u001b[38;5;28;01mreturn\u001b[39;00m \u001b[38;5;28;43mcls\u001b[39;49m\u001b[38;5;241;43m.\u001b[39;49m\u001b[38;5;21;43m__new__\u001b[39;49m\u001b[43m(\u001b[49m\u001b[38;5;28;43mcls\u001b[39;49m\u001b[43m,\u001b[49m\u001b[43m \u001b[49m\u001b[43mvalue\u001b[49m\u001b[43m)\u001b[49m\n\u001b[1;32m    713\u001b[0m \u001b[38;5;66;03m# otherwise, functional API: we're creating a new Enum type\u001b[39;00m\n\u001b[1;32m    714\u001b[0m \u001b[38;5;28;01mreturn\u001b[39;00m \u001b[38;5;28mcls\u001b[39m\u001b[38;5;241m.\u001b[39m_create_(\n\u001b[1;32m    715\u001b[0m         value,\n\u001b[1;32m    716\u001b[0m         names,\n\u001b[0;32m   (...)\u001b[0m\n\u001b[1;32m    721\u001b[0m         boundary\u001b[38;5;241m=\u001b[39mboundary,\n\u001b[1;32m    722\u001b[0m         )\n",
      "File \u001b[0;32m/opt/homebrew/Cellar/python@3.11/3.11.6_1/Frameworks/Python.framework/Versions/3.11/lib/python3.11/enum.py:1135\u001b[0m, in \u001b[0;36mEnum.__new__\u001b[0;34m(cls, value)\u001b[0m\n\u001b[1;32m   1133\u001b[0m ve_exc \u001b[38;5;241m=\u001b[39m \u001b[38;5;167;01mValueError\u001b[39;00m(\u001b[38;5;124m\"\u001b[39m\u001b[38;5;132;01m%r\u001b[39;00m\u001b[38;5;124m is not a valid \u001b[39m\u001b[38;5;132;01m%s\u001b[39;00m\u001b[38;5;124m\"\u001b[39m \u001b[38;5;241m%\u001b[39m (value, \u001b[38;5;28mcls\u001b[39m\u001b[38;5;241m.\u001b[39m\u001b[38;5;18m__qualname__\u001b[39m))\n\u001b[1;32m   1134\u001b[0m \u001b[38;5;28;01mif\u001b[39;00m result \u001b[38;5;129;01mis\u001b[39;00m \u001b[38;5;28;01mNone\u001b[39;00m \u001b[38;5;129;01mand\u001b[39;00m exc \u001b[38;5;129;01mis\u001b[39;00m \u001b[38;5;28;01mNone\u001b[39;00m:\n\u001b[0;32m-> 1135\u001b[0m     \u001b[38;5;28;01mraise\u001b[39;00m ve_exc\n\u001b[1;32m   1136\u001b[0m \u001b[38;5;28;01melif\u001b[39;00m exc \u001b[38;5;129;01mis\u001b[39;00m \u001b[38;5;28;01mNone\u001b[39;00m:\n\u001b[1;32m   1137\u001b[0m     exc \u001b[38;5;241m=\u001b[39m \u001b[38;5;167;01mTypeError\u001b[39;00m(\n\u001b[1;32m   1138\u001b[0m             \u001b[38;5;124m'\u001b[39m\u001b[38;5;124merror in \u001b[39m\u001b[38;5;132;01m%s\u001b[39;00m\u001b[38;5;124m._missing_: returned \u001b[39m\u001b[38;5;132;01m%r\u001b[39;00m\u001b[38;5;124m instead of None or a valid member\u001b[39m\u001b[38;5;124m'\u001b[39m\n\u001b[1;32m   1139\u001b[0m             \u001b[38;5;241m%\u001b[39m (\u001b[38;5;28mcls\u001b[39m\u001b[38;5;241m.\u001b[39m\u001b[38;5;18m__name__\u001b[39m, result)\n\u001b[1;32m   1140\u001b[0m             )\n",
      "\u001b[0;31mValueError\u001b[0m: 'Invalid' is not a valid Command"
     ]
    }
   ],
   "source": [
    "Command(\"Invalid\")"
   ]
  },
  {
   "cell_type": "markdown",
   "metadata": {},
   "source": [
    "This is a good thing!\n",
    "If one day, the input data changes and there is a new command, you'll hit this error that tells you that you must adapt your code to the new command.\n",
    "\n",
    "You can read about `enum` [in the docs](https://docs.python.org/3/library/enum.html) and you can also read this to understand better [why you would use `enum` in the first place](https://mathspp.com/blog/why-use-enums)."
   ]
  },
  {
   "cell_type": "markdown",
   "metadata": {},
   "source": [
    "### `StrEnum`\n",
    "\n",
    "If you're using Python 3.11 or newer, you can use `enum.StrEnum` instead of `Enum`.\n",
    "This is just a specialised version of `Enum` for string values.\n",
    "That, together with `enum.auto`, allow us to define our enumeration class in a more robust way:"
   ]
  },
  {
   "cell_type": "code",
   "execution_count": 19,
   "metadata": {},
   "outputs": [],
   "source": [
    "from enum import auto, StrEnum\n",
    "\n",
    "# We define an Enum(eration) with the valid commands.\n",
    "class Command(StrEnum):\n",
    "    FORWARD = auto()\n",
    "    UP = auto()\n",
    "    DOWN = auto()"
   ]
  },
  {
   "cell_type": "markdown",
   "metadata": {},
   "source": [
    "Using `enum.auto` means we are not at risk of making typos when defining the values, and it also menas that if we need to change the name of the command, the value will be computed _automatically_."
   ]
  },
  {
   "cell_type": "markdown",
   "metadata": {},
   "source": [
    "### Structural pattern matching and enums\n",
    "\n",
    "If you're using enums, then structural pattern matching becomes a more attractive alternative for a simple reason.\n",
    "When you define an enum, your IDE can look at it and see how many different values exist.\n",
    "In our case, three:\n",
    "\n",
    " 1. `Command.FORWARD`;\n",
    " 2. `Command.UP`; and\n",
    " 3. `Command.DOWN`.\n",
    "\n",
    "So, if later on you use structural pattern matching to match against the command, _your IDE can warn you if you forget to match against one or more values_!\n",
    "\n",
    "So, suppose you wrote something like the code below, where you forgot to match against the value `Command.DOWN`.\n",
    "If that were the case, your IDE would warn you that you had forgotten about `Command.DOWN`:"
   ]
  },
  {
   "cell_type": "code",
   "execution_count": 20,
   "metadata": {},
   "outputs": [
    {
     "name": "stdout",
     "output_type": "stream",
     "text": [
      "-1910857875\n"
     ]
    }
   ],
   "source": [
    "from enum import auto, StrEnum\n",
    "\n",
    "class Command(StrEnum):\n",
    "    FORWARD = auto()\n",
    "    UP = auto()\n",
    "    DOWN = auto()\n",
    "\n",
    "horiz_pos, depth, aim = 0, 0, 0\n",
    "\n",
    "with open(INPUT_FILE, 'r') as f:\n",
    "    for line in f:\n",
    "        command, value = line.split()\n",
    "        value = int(value)\n",
    "        command = Command(command)\n",
    "\n",
    "        match command:\n",
    "            case command.FORWARD:\n",
    "                horiz_pos += value\n",
    "                depth += aim * value\n",
    "            \n",
    "            case command.UP:\n",
    "                aim -= value\n",
    "\n",
    "print(horiz_pos * depth)"
   ]
  },
  {
   "cell_type": "markdown",
   "metadata": {},
   "source": [
    "## Reduce the inputs to a single output\n",
    "\n",
    "Let me rewrite the standard solution, using an `if` statement, so that:\n",
    "\n",
    " - the input is parsed immediately; and\n",
    " - the position update is done inside an auxiliary function:"
   ]
  },
  {
   "cell_type": "code",
   "execution_count": 22,
   "metadata": {},
   "outputs": [
    {
     "name": "stdout",
     "output_type": "stream",
     "text": [
      "1544000595\n"
     ]
    }
   ],
   "source": [
    "def state_update(state, instruction):\n",
    "    horiz_pos, depth, aim = state\n",
    "    command, value = instruction\n",
    "\n",
    "    if command == \"forward\":\n",
    "        horiz_pos += value\n",
    "        depth += aim * value\n",
    "    elif command == \"up\":\n",
    "        aim -= value\n",
    "    elif command == \"down\":\n",
    "        aim += value\n",
    "    else:\n",
    "        raise ValueError(\"Unknown command.\")\n",
    "    \n",
    "    return (horiz_pos, depth, aim)\n",
    "\n",
    "with open(INPUT_FILE, 'r') as f:\n",
    "    instructions = [\n",
    "        (command, int(value)) for command, value in map(str.split, f)\n",
    "    ]\n",
    "\n",
    "state = (0, 0, 0)\n",
    "for instruction in instructions:\n",
    "    state = state_update(state, instruction)\n",
    "\n",
    "print(state[0] * state[1])"
   ]
  },
  {
   "cell_type": "markdown",
   "metadata": {},
   "source": [
    "Notice that the only purpose of the `for` loop is to update the `state` with the new information that comes from the instructions.\n",
    "We're going over the list of `instructions` and we're reducing it to a single value: the final state.\n",
    "So, if all the other sections made sense so far, I invite you to study this solution:"
   ]
  },
  {
   "cell_type": "code",
   "execution_count": 23,
   "metadata": {},
   "outputs": [
    {
     "name": "stdout",
     "output_type": "stream",
     "text": [
      "1544000595\n"
     ]
    }
   ],
   "source": [
    "from functools import reduce  # <--\n",
    "\n",
    "def state_update(state, instruction):\n",
    "    horiz_pos, depth, aim = state\n",
    "    command, value = instruction\n",
    "\n",
    "    if command == \"forward\":\n",
    "        horiz_pos += value\n",
    "        depth += aim * value\n",
    "    elif command == \"up\":\n",
    "        aim -= value\n",
    "    elif command == \"down\":\n",
    "        aim += value\n",
    "    else:\n",
    "        raise ValueError(\"Unknown command.\")\n",
    "    \n",
    "    return (horiz_pos, depth, aim)\n",
    "\n",
    "\n",
    "with open(INPUT_FILE, \"r\") as f:\n",
    "    instructions = [\n",
    "        (command, int(value)) for command, value in map(str.split, f)\n",
    "    ]\n",
    "\n",
    "final_state = reduce(state_update, instructions, (0, 0, 0))  # <--\n",
    "print(final_state[0] * final_state[1])\n"
   ]
  },
  {
   "cell_type": "markdown",
   "metadata": {},
   "source": [
    "`functools.reduce` is a function that is underappreciated, and that's because of a beautiful paradox around it:\n",
    "\n",
    " - while you will _almost never_ need to use it (explicitly),\n",
    " - I'm sure you use it very frequently (implicitly)!\n",
    "\n",
    "That's because `functools.reduce` is the “algorithm” behind built-ins like `sum`, `any`, `all`, `min`, `max`, `math.prod`, and others.\n",
    "I invite you to [learn more about `functools.reduce`](https://mathspp.com/blog/pydonts/the-power-of-reduce) because it will help you understand relationships between many built-ins you probably didn't know were related."
   ]
  }
 ],
 "metadata": {
  "kernelspec": {
   "display_name": "venv-dl-1.0",
   "language": "python",
   "name": "python3"
  },
  "language_info": {
   "codemirror_mode": {
    "name": "ipython",
    "version": 3
   },
   "file_extension": ".py",
   "mimetype": "text/x-python",
   "name": "python",
   "nbconvert_exporter": "python",
   "pygments_lexer": "ipython3",
   "version": "3.11.6"
  }
 },
 "nbformat": 4,
 "nbformat_minor": 2
}
