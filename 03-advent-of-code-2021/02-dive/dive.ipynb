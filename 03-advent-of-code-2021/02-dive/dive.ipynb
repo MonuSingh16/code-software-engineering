{
 "cells": [
  {
   "cell_type": "markdown",
   "metadata": {},
   "source": [
    "# Dive !"
   ]
  },
  {
   "cell_type": "markdown",
   "metadata": {},
   "source": [
    "## Part 1 problem statement\n",
    "\n",
    "(Adapted from [Advent of Code 2021, day 2](https://adventofcode.com/2021/day/2))\n",
    "\n",
    "You will be given a series of instructions like\n",
    "\n",
    "```txt\n",
    "forward 5\n",
    "down 5\n",
    "forward 8\n",
    "up 3\n",
    "down 8\n",
    "forward 2\n",
    "```\n",
    "\n",
    "These instructions will change your horizontal position and your depth, two values you need to keep track of:\n",
    "\n",
    " - `forward X` increases the horizontal position by X units;\n",
    " - `down X` increases the depth by X units; and\n",
    " - `up X` decreases the depth by X units.\n",
    "\n",
    "Your horizontal position and depth both start at 0. The steps above would then modify them as follows:\n",
    "\n",
    " - `forward 5` adds 5 to your horizontal position, a total of 5.\n",
    " - `down 5` adds 5 to your depth, resulting in a value of 5.\n",
    " - `forward 8` adds 8 to your horizontal position, a total of 13.\n",
    " - `up 3` decreases your depth by 3, resulting in a value of 2.\n",
    " - `down 8` adds 8 to your depth, resulting in a value of 10.\n",
    " - `forward 2` adds 2 to your horizontal position, a total of 15.\n",
    "\n",
    "After following these instructions, you would have a horizontal position of 15 and a depth of 10. (Multiplying these together produces 150.)\n",
    "\n",
    "**Calculate the horizontal position and depth you would have after following the planned course. What do you get if you multiply your final horizontal position by your final depth?**\n",
    "\n",
    "_Using the input file `input.txt`, the result should be 1727835._"
   ]
  },
  {
   "cell_type": "code",
   "execution_count": 2,
   "metadata": {},
   "outputs": [],
   "source": [
    "INPUT_FILE = 'input.txt'"
   ]
  },
  {
   "cell_type": "code",
   "execution_count": 3,
   "metadata": {},
   "outputs": [
    {
     "name": "stdout",
     "output_type": "stream",
     "text": [
      "1727835\n"
     ]
    }
   ],
   "source": [
    "with open(INPUT_FILE, 'r') as f:\n",
    "    instructions = f.readlines()\n",
    "\n",
    "horiz_pos, depth = 0, 0\n",
    "for line in instructions:\n",
    "    command, value = line.split()\n",
    "    value = int(value)\n",
    "\n",
    "    if command == \"forward\":\n",
    "        horiz_pos += value\n",
    "    elif command == \"up\":\n",
    "        depth -= value\n",
    "    elif command == \"down\":\n",
    "        depth += value\n",
    "    else:\n",
    "        raise ValueError('Unknown command.')\n",
    "\n",
    "print(horiz_pos * depth)\n",
    "    \n"
   ]
  },
  {
   "cell_type": "markdown",
   "metadata": {},
   "source": [
    "There is nothing too wild going on here.\n",
    "\n",
    "Perhaps the thing that can easily go most unnoticed is the fact that the line `command, value = line.split()` is already doing some input validation for us:\n",
    "the fact that we are unpacking into `command, line` means we are assuming that `line.split()` returns two values.\n",
    "If it returns any other number of values, we get a `ValueError`:"
   ]
  },
  {
   "cell_type": "code",
   "execution_count": 4,
   "metadata": {},
   "outputs": [
    {
     "ename": "ValueError",
     "evalue": "too many values to unpack (expected 2)",
     "output_type": "error",
     "traceback": [
      "\u001b[0;31m---------------------------------------------------------------------------\u001b[0m",
      "\u001b[0;31mValueError\u001b[0m                                Traceback (most recent call last)",
      "Cell \u001b[0;32mIn[4], line 1\u001b[0m\n\u001b[0;32m----> 1\u001b[0m command, value \u001b[38;5;241m=\u001b[39m \u001b[38;5;124m\"\u001b[39m\u001b[38;5;124mcmd val otherthing\u001b[39m\u001b[38;5;124m\"\u001b[39m\u001b[38;5;241m.\u001b[39msplit()\n",
      "\u001b[0;31mValueError\u001b[0m: too many values to unpack (expected 2)"
     ]
    }
   ],
   "source": [
    "command, value = \"cmd val otherthing\".split()"
   ]
  },
  {
   "cell_type": "markdown",
   "metadata": {},
   "source": [
    "### Pattern matching\n",
    "\n",
    "If you are using Python 3.10 or newer, you might be tempted to use [structural pattern matching](https://mathspp.com/blog/pydonts/structural-pattern-matching-tutorial) here.\n",
    "We can write a solution using `match` that is remarkably similar to the solution using `if`:"
   ]
  },
  {
   "cell_type": "code",
   "execution_count": 6,
   "metadata": {},
   "outputs": [
    {
     "name": "stdout",
     "output_type": "stream",
     "text": [
      "1727835\n"
     ]
    }
   ],
   "source": [
    "with open(INPUT_FILE, 'r') as f:\n",
    "    instructions = f.readlines()\n",
    "\n",
    "horiz_pos, depth = 0, 0\n",
    "for line in instructions:\n",
    "    command, value = line.split()\n",
    "    value = int(value)\n",
    " \n",
    "    match command:\n",
    "        case \"forward\":\n",
    "            horiz_pos += value\n",
    "        case \"up\":\n",
    "            depth -= value\n",
    "        case \"down\":\n",
    "            depth += value\n",
    "        case _:\n",
    "            raise ValueError(\"Unknown Command\")\n",
    "\n",
    "\n",
    "print(horiz_pos * depth)"
   ]
  },
  {
   "cell_type": "markdown",
   "metadata": {},
   "source": [
    "So, is this any better?\n",
    "We can argue it is _not_, because we didn't simplify our code, and yet managed to increase its depth.\n",
    "\n",
    "To walk towards a scenario where pattern matching would be probably be more useful, let's rewrite the `match` statement:"
   ]
  },
  {
   "cell_type": "code",
   "execution_count": 7,
   "metadata": {},
   "outputs": [
    {
     "name": "stdout",
     "output_type": "stream",
     "text": [
      "1727835\n"
     ]
    }
   ],
   "source": [
    "with open(INPUT_FILE, 'r') as f:\n",
    "    instructions = f.readlines()\n",
    "\n",
    "horiz_pos, depth = 0, 0\n",
    "for line in instructions:\n",
    "\n",
    "    match line.split():\n",
    "        case [\"forward\", value]:\n",
    "            horiz_pos += int(value)\n",
    "        case [\"up\", value]:\n",
    "            depth -= int(value)\n",
    "        case [\"down\", value]:\n",
    "            depth += int(value)\n",
    "        case _:\n",
    "            raise ValueError(\"Unknown Command.\")\n",
    "\n",
    "print(horiz_pos * depth)\n"
   ]
  },
  {
   "cell_type": "markdown",
   "metadata": {},
   "source": [
    "By matching directly the `line.split()` expression, we are making it easier for ourselves to handle instructions that have a different _structure_.\n",
    "For example, imagine there was a `\"reset\"` instruction, that resetted the horizontal position and the depth to 0.\n",
    "Using `match`, this is what the solution could look like:"
   ]
  },
  {
   "cell_type": "code",
   "execution_count": 8,
   "metadata": {},
   "outputs": [
    {
     "name": "stdout",
     "output_type": "stream",
     "text": [
      "0\n"
     ]
    }
   ],
   "source": [
    "with open(INPUT_FILE, 'r') as f:\n",
    "    instructions = f.readlines()\n",
    "\n",
    "instructions.append(\"reset\")\n",
    "horiz_pos, depth = 0, 0\n",
    "for line in instructions:\n",
    "    match line.split():\n",
    "        case [\"reset\"]:\n",
    "            horiz_pos, depth = 0, 0\n",
    "        case [\"forward\", value]:\n",
    "            horiz_pos += int(value)\n",
    "        case[\"up\", value]:\n",
    "            depth -= int(value)\n",
    "        case[\"down\", value]:\n",
    "            depth += int(value)\n",
    "        case _:\n",
    "            raise ValueError(\"Unkown Command.\")\n",
    "print(horiz_pos * depth)"
   ]
  },
  {
   "cell_type": "markdown",
   "metadata": {},
   "source": [
    "We only needed to add two lines of code to handle this new command, and the handling of all commands looks similar: a `case` statement and some code.\n",
    "If we were to do the same thing in the original `if` statement, we would have to special-case the `\"reset\"` command because we would have to check for it before unpacking the line into the `command` and `line` variables:"
   ]
  },
  {
   "cell_type": "code",
   "execution_count": 9,
   "metadata": {},
   "outputs": [
    {
     "name": "stdout",
     "output_type": "stream",
     "text": [
      "0\n"
     ]
    }
   ],
   "source": [
    "with open(INPUT_FILE, \"r\") as f:\n",
    "    instructions = f.readlines()\n",
    "    \n",
    "instructions.append(\"reset\")  # Add a \"reset\" command to the end.\n",
    "\n",
    "horiz_pos, depth = 0, 0\n",
    "for line in instructions:\n",
    "    if line == \"reset\":\n",
    "        horiz_pos, depth = 0, 0\n",
    "        continue\n",
    "    \n",
    "    command, value = line.split()\n",
    "    value = int(value)\n",
    "    \n",
    "    if command == \"forward\":\n",
    "        horiz_pos += value\n",
    "    elif command == \"up\":\n",
    "        depth -= value\n",
    "    elif command == \"down\":\n",
    "        depth += value\n",
    "    else:\n",
    "        raise ValueError(\"Unknown command.\")\n",
    "\n",
    "print(horiz_pos * depth)  # Prints 0 because the last command was \"reset\"."
   ]
  },
  {
   "cell_type": "markdown",
   "metadata": {},
   "source": [
    "So, in conclusion, for such a homogeneous set of commands, the `if` statement is preferable.\n",
    "If the line structure were more heterogeneous, then structural pattern matching would start to show its benefits."
   ]
  },
  {
   "cell_type": "markdown",
   "metadata": {},
   "source": [
    "### How to end the `if` block\n",
    "\n",
    "In the solution above, our `if` block compares `command` explicitly to each of the three possible commands, and uses the `else` to raise an error in the event that we receive a command we don't know.\n",
    "We could have written, just as easily, the following `if` block:\n",
    "\n",
    "```py\n",
    "if command == \"forward\":\n",
    "    horiz_pos += value\n",
    "elif command == \"up\":\n",
    "    depth -= value\n",
    "else:\n",
    "    depth += value\n",
    "```\n",
    "\n",
    "This block assumes that the variable `command` _always_ contains one of the three known commands, and thus uses the `else` to handle the `down` command.\n",
    "\n",
    "However, there is a disadvantage to writing code like this:\n",
    "one cannot look at the `if` block and _read_ what is the third case.\n",
    "Is it a single one?\n",
    "Are there multiple commands that map to the action of doing `depth += value`?\n",
    "\n",
    "Thus, one can argue it is preferable to be explicit about the cases we are handling.\n",
    "Of course, we can still choose to write the `if` block like so:\n",
    "\n",
    "```py\n",
    "if command == \"forward\":\n",
    "    horiz_pos += value\n",
    "elif command == \"up\":\n",
    "    depth -= value\n",
    "elif command == \"down\":\n",
    "    depth += value\n",
    "```\n",
    "\n",
    "The difference, here, is that we do not include the `else` branch with the `raise` statement.\n",
    "This says explicitly the commands that we are handling, while also showing that we do not expect to have to handle anything else.\n",
    "\n",
    "Another slight variant would be to write\n",
    "\n",
    "```py\n",
    "if command == \"forward\":\n",
    "    horiz_pos += value\n",
    "elif command == \"up\":\n",
    "    depth -= value\n",
    "elif command == \"down\":\n",
    "    depth += value\n",
    "else:\n",
    "    pass\n",
    "```\n",
    "\n",
    "This variant can be understood to mean “we assume something else might come through in the variable `command`, but we don't care about it”.\n",
    "\n",
    "These are just minor variations of one another, and _your_ interpretation might not necessarily align with mine, but I find it to be an interesting exercise to think about the different ways in which similar pieces of code are read and understood.\n",
    "\n",
    "---\n",
    "\n",
    "As far as this problem is concerned, there isn't much we can do to improve our solution significantly.\n",
    "The problem is straightforward enough that any attempts to be clever would do more harm than good.\n",
    "\n",
    "Therefore, we will now cover the second part of the problem.\n",
    "Then, because this is a fairly simple problem, it acts as a good toy example to introduce a couple of interesting tools that could be relevant for similar tasks, but that would represent too much overhead here."
   ]
  },
  {
   "cell_type": "markdown",
   "metadata": {},
   "source": [
    "## Part 2 problem statement\n",
    "\n",
    "(Adapted from [Advent of Code 2021, day 2](https://adventofcode.com/2021/day/2))\n",
    "\n",
    "Part 2 is a modification of part 1.\n",
    "Now, not only do we have to keep track of the horizontal position and depth, we also have to keep track of the **aim**.\n",
    "On top of that, the **same commands** now have a **different meaning**:\n",
    "\n",
    "\n",
    " - `down X` increases your aim by X units;\n",
    " - `up X` decreases your aim by X units; and\n",
    " - `forward X` does two things:\n",
    "    - it increases your horizontal position by X units; and\n",
    "    - it increases your depth by your aim multiplied by X.\n",
    "    \n",
    "Recall the previous example:\n",
    "\n",
    "```txt\n",
    "forward 5\n",
    "down 5\n",
    "forward 8\n",
    "up 3\n",
    "down 8\n",
    "forward 2\n",
    "```\n",
    "\n",
    "Now, the final result is different:\n",
    "\n",
    " - `forward 5` adds 5 to your horizontal position, a total of 5. Because your aim is 0, your depth does not change.\n",
    " - `down 5` adds 5 to your aim, resulting in a value of 5.\n",
    " - `forward 8` adds 8 to your horizontal position, a total of 13. Because your aim is 5, your depth increases by 8*5=40.\n",
    " - `up 3` decreases your aim by 3, resulting in a value of 2.\n",
    " - `down 8` adds 8 to your aim, resulting in a value of 10.\n",
    " - `forward 2` adds 2 to your horizontal position, a total of 15. Because your aim is 10, your depth increases by 2*10=20 to a total of 60.\n",
    "\n",
    "After following these new instructions, you would have a horizontal position of 15 and a depth of 60. (Multiplying these produces 900.)\n",
    "\n",
    "Using this new interpretation of the commands, **calculate the horizontal position and depth** you would have after following the planned course.\n",
    "**What do you get if you multiply your final horizontal position by your final depth?**\n",
    "\n",
    "_Using the input file `input.txt`, the answer should be 1544000595._"
   ]
  },
  {
   "cell_type": "markdown",
   "metadata": {},
   "source": [
    "### Modifying the baseline solution\n",
    "\n",
    "In order to solve this new version of the problem, we just have to adapt the handling of each command:"
   ]
  },
  {
   "cell_type": "code",
   "execution_count": null,
   "metadata": {},
   "outputs": [],
   "source": []
  }
 ],
 "metadata": {
  "kernelspec": {
   "display_name": "venv-dl-1.0",
   "language": "python",
   "name": "python3"
  },
  "language_info": {
   "codemirror_mode": {
    "name": "ipython",
    "version": 3
   },
   "file_extension": ".py",
   "mimetype": "text/x-python",
   "name": "python",
   "nbconvert_exporter": "python",
   "pygments_lexer": "ipython3",
   "version": "3.11.6"
  }
 },
 "nbformat": 4,
 "nbformat_minor": 2
}
