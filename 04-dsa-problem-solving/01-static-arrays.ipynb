{
 "cells": [
  {
   "cell_type": "markdown",
   "metadata": {},
   "source": [
    "### Static Arrays - \n",
    "\n",
    "Arrays are a way of storing data contiguously. Arrays have an allocated size when intialized. This means size of array cannot change after intialization."
   ]
  },
  {
   "cell_type": "markdown",
   "metadata": {},
   "source": [
    "#### Reading from an array \n",
    "\n",
    "Array can be accessed through indices which starts from 0. Reading from an array is as simple as accessing the array. Intializing array of size 3 with `myArray`. \n",
    "\n",
    "As long index is known, access is instant. This is because index is mapped to an address in RAM. Regardless of the size of array, the time taken to access our element - given the index is known - will always be unaffected. We refer to this operation $O(1)$ in terms of time complexity\n",
    "\n",
    "> There is a common confusion that $O(1)$ is always fast. This is not the case. There could be $1000$ operations and the time complexity could still be $O(1)$. Similarly, an algorithm with $5$ operations could also have a complexity of $O(1)$. All $O(1)$ really means is that the number of operations is constant relative to the input size."
   ]
  },
  {
   "cell_type": "code",
   "execution_count": 2,
   "metadata": {},
   "outputs": [
    {
     "name": "stdout",
     "output_type": "stream",
     "text": [
      "1\n",
      "3\n",
      "5\n"
     ]
    }
   ],
   "source": [
    "# initalize array \n",
    "\n",
    "myArray = [1, 3, 5]\n",
    "\n",
    "# access an arbitrary element, where i is the index of the desired value\n",
    "for i in range(len(myArray)):\n",
    "    print(myArray[i])"
   ]
  },
  {
   "cell_type": "markdown",
   "metadata": {},
   "source": [
    "### Traversing through an array \n",
    "\n",
    "Traversing is iterating through all values in an array.\n",
    "\n",
    "$length-1$ is the last accessible index of the array. The last index of the array is $n−1$ if n is the size of the array. If the size of our array is $3$, the last accessible index is $2$\n",
    "\n",
    "Traversal through an array of size $n$ is $O(n)$. This means that the number of operations is linear to $n$. In the example above, if the size of $n$ is doubled, the number of operations for traversal would also double."
   ]
  },
  {
   "cell_type": "code",
   "execution_count": null,
   "metadata": {},
   "outputs": [],
   "source": [
    "for i in range(len(myArray[i])):\n",
    "    print(myArray[i])\n",
    "\n",
    "# OR\n",
    "    \n",
    "while i < len(myArray):\n",
    "    print(myArray[i])\n",
    "    i += 1"
   ]
  },
  {
   "cell_type": "markdown",
   "metadata": {},
   "source": [
    "### Deleting from an array\n",
    "\n",
    "#### Deleting from the end of array - \n",
    "\n",
    "In strictly typed languages, all array indices are filled with $0s$ or some default value upon initialization, denoting an empty array. When we want to remove an element from the last index of an array, setting its value to `0 / null or -1` does the job. While it is not being \"deleted\" per se, this overwriting denotes an empty index. We will also reduce the length by `1` since we have one less element in the array after deletion. The code below demonstrates the concept using `[4, 5, 6]` as an example.\n",
    "\n",
    "$6$ is deleted/overwritten by either $0$ or $−1$ to denote that it does not exist anymore. Length is also decremented by $1$."
   ]
  },
  {
   "cell_type": "code",
   "execution_count": null,
   "metadata": {},
   "outputs": [],
   "source": [
    "# Remove from the last position in array if the array\n",
    "# is not empty (i.e) lenght is not zero\n",
    "\n",
    "def removeEnd(arr, lenght):\n",
    "    if lenght != 0:\n",
    "        # Overwrite the last element with some default value\n",
    "        # We would also consider the lenght to be decreased by -1\n",
    "        arr[lenght - 1] = 0"
   ]
  },
  {
   "cell_type": "markdown",
   "metadata": {},
   "source": [
    "#### Deleting at the ith index\n",
    "\n",
    "Using the same instance of myArray from the previous example, let’s say that instead of deleting at the end, we wanted to delete an element at a random index `i`. Would we be able to perform this in $O(1)$? We could just replace it with a `0` and call it a day. But this would break the contiguous nature of our array.\n",
    "\n",
    "Given the target index `i`, we can iterate from `i + 1` until the end of the array and shift each element `1` position to the left. In the worst case, we will need to shift all of the elements to the left.\n",
    "\n",
    "In the worst case, $n−1$ shifts may be required. Therefore, the code above is $O(n)$.\n"
   ]
  },
  {
   "cell_type": "code",
   "execution_count": 1,
   "metadata": {},
   "outputs": [],
   "source": [
    "# Remove value at index i before shifting elements to the left\n",
    "# Assuming i is a valid index\n",
    "\n",
    "def removeMiddle(arr, i, length):\n",
    "    # Shift starting from index i+1 to end.\n",
    "    for index in range(i+1, length):\n",
    "        arr[index - 1] = arr[index]\n",
    "    # No need to remove arr[i] as we already shifted"
   ]
  },
  {
   "cell_type": "markdown",
   "metadata": {},
   "source": [
    "#### Insertion\n",
    "\n",
    "#### Insertion at the end of array\n",
    "\n",
    "Since we can always access the last index of the array, inserting an element at the end of an array is $O(1)$ time. Below is the code demonstrating the concept.\n",
    "\n",
    "`length` is the number of elements inside the array whereas `capacity` refers to the maximum number of elements the array can hold.\n",
    "\n"
   ]
  },
  {
   "cell_type": "code",
   "execution_count": null,
   "metadata": {},
   "outputs": [],
   "source": [
    "# Insert a element n into arr at next open position available\n",
    "# Length is the number of 'real' values in arr, and capacity\n",
    "# is size (aka memory allocated for the fixed size array)\n",
    "\n",
    "def insertEnd(arr, n, length, capacity):\n",
    "    if length < capacity:\n",
    "        arr[length] = n\n"
   ]
  },
  {
   "cell_type": "markdown",
   "metadata": {},
   "source": [
    "#### Insertion at the ith index\n",
    "\n",
    "Inserting at an arbitrary index `i` is a little bit more tricky. Given the state of` myArray = [4, 5, 0]` (where the last index is empty), if we are required to insert at index `1`, or `0`, we cannot overwrite because we would lose our current values. To insert, we will need to shift all values one position to the right. Below is the code and visual demonstrating this."
   ]
  },
  {
   "cell_type": "code",
   "execution_count": 2,
   "metadata": {},
   "outputs": [],
   "source": [
    "# Insert n into index i after shifting elements to the right.\n",
    "# Assuming i is a valid index and arr is not full\n",
    "def insertMiddle(arr, i, n, lenght):\n",
    "    # Shift starting from the end to i.\n",
    "    for index in range(lenght - 1, i - 1, -1):\n",
    "        arr[index + 1] = arr[index]\n",
    "    \n",
    "    # Insert at i\n",
    "    arr[i] = n"
   ]
  },
  {
   "cell_type": "markdown",
   "metadata": {},
   "source": [
    "####  LC 26 - Remove duplicates from array - \n",
    "\n",
    "Given an integer array nums sorted in non-decreasing order, remove the duplicates in-place such that each unique element appears only once. The relative order of the elements should be kept the same. Then return the number of unique elements in nums.\n",
    "\n",
    "Consider the number of unique elements of nums to be k, to get accepted, you need to do the following things:\n",
    "\n",
    "Change the array nums such that the first k elements of nums contain the unique elements in the order they were present in nums initially. The remaining elements of nums are not important as well as the size of nums.\n",
    "\n",
    "Return k."
   ]
  },
  {
   "cell_type": "code",
   "execution_count": 2,
   "metadata": {},
   "outputs": [],
   "source": [
    "from typing import List\n",
    "class Solution:\n",
    "    def removeDuplicates(self, nums: List[int]) -> int:\n",
    "        i = 0\n",
    "        for j in range(1, len(nums)):\n",
    "            if nums[i] != nums[j]:\n",
    "                nums[i+1] = nums[j]\n",
    "                i += 1\n",
    "        return i+1"
   ]
  },
  {
   "cell_type": "markdown",
   "metadata": {},
   "source": [
    "#### LC 27 - Remove Element \n",
    "\n",
    "Given an integer array nums and an integer val, remove all occurrences of val in nums in-place. The order of the elements may be changed. Then return the number of elements in nums which are not equal to val.\n",
    "\n",
    "Consider the number of elements in nums which are not equal to val be k, to get accepted, you need to do the following things:\n",
    "\n",
    "Change the array nums such that the first k elements of nums contain the elements which are not equal to val. The remaining elements of nums are not important as well as the size of nums.\n",
    "\n",
    "Return k."
   ]
  },
  {
   "cell_type": "code",
   "execution_count": 6,
   "metadata": {},
   "outputs": [
    {
     "data": {
      "text/plain": [
       "' \\nwhile val in nums:\\n    x=nums.remove(val)\\nreturn len(nums)  \\n '"
      ]
     },
     "execution_count": 6,
     "metadata": {},
     "output_type": "execute_result"
    }
   ],
   "source": [
    "class Solution:\n",
    "    def removeElement(self, nums: List[int], val: int) -> int:\n",
    "        k = 0\n",
    "        for i in range(len(nums)):\n",
    "            if nums[i] != val:\n",
    "                nums[k] = nums[i]\n",
    "                k += 1\n",
    "        return k\n",
    "    \n",
    "''' \n",
    "while val in nums:\n",
    "    x=nums.remove(val)\n",
    "return len(nums)  \n",
    " '''"
   ]
  },
  {
   "cell_type": "code",
   "execution_count": null,
   "metadata": {},
   "outputs": [],
   "source": []
  }
 ],
 "metadata": {
  "kernelspec": {
   "display_name": "Python 3",
   "language": "python",
   "name": "python3"
  },
  "language_info": {
   "codemirror_mode": {
    "name": "ipython",
    "version": 3
   },
   "file_extension": ".py",
   "mimetype": "text/x-python",
   "name": "python",
   "nbconvert_exporter": "python",
   "pygments_lexer": "ipython3",
   "version": "3.11.6"
  }
 },
 "nbformat": 4,
 "nbformat_minor": 2
}
