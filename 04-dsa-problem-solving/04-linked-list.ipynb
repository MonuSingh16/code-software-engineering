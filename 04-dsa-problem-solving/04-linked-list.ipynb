{
 "cells": [
  {
   "cell_type": "markdown",
   "metadata": {},
   "source": [
    "#### Linked Lists\n",
    "\n",
    "A linked list is another data structure that is like an array in the sense that it stores elements in an ordered sequence, but there are also differences.\n",
    "\n",
    "The first difference is that linked lists are made up of objects called `ListNode's`. This object contains two attributes:\n",
    "\n",
    "1. `value` - This stores the value of the node, the value can be anything - a character, an integer, etc.\n",
    "2. `next` - This stores the reference to the next node in the linked list. The picture below visualizes the ListNode object. This will make more sense a little later on.\n"
   ]
  },
  {
   "cell_type": "markdown",
   "metadata": {},
   "source": [
    "#### Creating a linked list from scratch\n",
    "\n",
    "Chaining these ListNode objects together is what results in a linked list. Creating your own ListNode class would look like the following in code.\n",
    "\n",
    "Let’s look at an example of how these ListNode objects can be chained together to build a desired LinkedList. Suppose that we have three `ListNode` objects – `ListNode1`, `ListNode2`, `ListNode3`, and we instantiate them with the following values as seen in the visual below.\n",
    "\n",
    "> At a lower level, upon instantiation, these objects would get stored in an arbitrary order in the memory. We cannot control the order in which the operating system stores these objects in memory, and for our purpose, it is not very relevant but still good to know. The visual below gives a glimpse of how the nodes would be stored in memory.\n",
    "\n"
   ]
  },
  {
   "cell_type": "code",
   "execution_count": 2,
   "metadata": {},
   "outputs": [],
   "source": [
    "class ListNode:\n",
    "    def __init__(self, val):\n",
    "        self.val = val\n",
    "        self.next = None\n",
    "\n",
    "ListNode1 = ListNode('red')"
   ]
  },
  {
   "cell_type": "markdown",
   "metadata": {},
   "source": [
    "#### Traversal\n",
    "\n",
    "To traverse a linked list from beginning to end, we can just make use of a simple while loop.\n",
    "\n",
    "To break down the code, we start the traversal at the beginning, `ListNode1`, and assign it to a variable cur, denoting the current node we are at. We keep running the while loop and updating our `cur` to the next node until we encounter a node that is `null` — meaning we are at the end of the linked list and traversal is finished. Traversal is $O(n)$"
   ]
  },
  {
   "cell_type": "code",
   "execution_count": 3,
   "metadata": {},
   "outputs": [],
   "source": [
    "cur = ListNode1\n",
    "while cur:\n",
    "    cur = cur.next"
   ]
  },
  {
   "cell_type": "markdown",
   "metadata": {},
   "source": [
    "#### Circular Linked List\n",
    "\n",
    "An interesting scenario presents itself if `ListNode3’s` next pointer points to `ListNode1` instead of `null`. This would create an infinite while loop and the program will crash. This is because we would never reach the end of the linked list. After `ListNode3`, `ListNode3.next` would point to `ListNode1`, which goes to `ListNode2`, which goes `ListNode3`, and back to `ListNode1`, creating a never ending cycle.\n"
   ]
  },
  {
   "cell_type": "markdown",
   "metadata": {},
   "source": [
    "#### Operations of Singly Linked List\n",
    "\n",
    "Linked Lists have a `head`, and a `tail` pointer. The `head` pointer points to the very first node in the linked list, `ListNode1`, and the `tail` pointer points to the very last node — `ListNode3`. If there is only one node in the Linked List, the `head` and the `   ` point to the same node.\n"
   ]
  },
  {
   "cell_type": "markdown",
   "metadata": {},
   "source": [
    "#### Appending\n",
    "\n",
    "An advantage that Linked Lists have over arrays is that adding a new element can be performed in $O(1)$ time. No shifting is required after adding another node and we already have the references to head and tail. \n",
    "\n",
    "Taking our example from above, if we wanted to append a ListNode4 to the end of the list, we would be appending to the tail. Once ListNode4 is appended, we update our tail pointer to be at ListNode4. This operation would be done in $O(1)$ time since it is only one operation. The steps would look like the following, with code.\n",
    "\n",
    "```py\n",
    "\n",
    "tail.next = ListNode4\n",
    "tail.next = ListNode4\n",
    "\n",
    "```"
   ]
  },
  {
   "cell_type": "markdown",
   "metadata": {},
   "source": [
    "#### Deleting from a Singly Linked List\n",
    "\n",
    "Deletion at the head of a singly linked list will take $O(1)$, since it is at the beginning and is a single operation. Again, the traversal itself will take n steps if you do not have the reference to the node . The way to delete a specific node, say y, is to skip over it - update y’s previous node’s next pointer to the node that comes after y. This is called chaining next pointers together.\n",
    "\n",
    "Visualizing this in code makes more sense. Taking the previous example, suppose we want to delete ListNode2. Currently, our head points to ListNode1, and head.next points to ListNode2. Since ListNode2 will cease to exist, we need to update our head.next pointer to ListNode3, which can be accessed by chaining next pointers like head.next.next. This makes sense since head.next is ListNode2, and logically, head.next.next would be ListNode3.\n",
    "\n",
    "```py\n",
    "head.next = head.next.next\n",
    "```"
   ]
  },
  {
   "cell_type": "markdown",
   "metadata": {},
   "source": [
    "#### [LC 206 - Reverese a linked list](https://leetcode.com/problems/reverse-linked-list/description/)\n",
    "\n",
    "Given the head of a singly linked list, reverse the list, and return the reversed list.\n",
    "\n"
   ]
  },
  {
   "cell_type": "code",
   "execution_count": 4,
   "metadata": {},
   "outputs": [],
   "source": [
    "from typing import Optional\n",
    "# Definition for singly-linked list.\n",
    "# class ListNode:\n",
    "#     def __init__(self, val=0, next=None):\n",
    "#         self.val = val\n",
    "#         self.next = next\n",
    "class Solution:\n",
    "    def reverseList(self, head: Optional[ListNode]) -> Optional[ListNode]:\n",
    "        prev, curr = None, head\n",
    "\n",
    "        while curr:\n",
    "            temp = curr.next\n",
    "            curr.next = prev\n",
    "            prev = curr\n",
    "            curr = temp\n",
    "        return prev"
   ]
  },
  {
   "cell_type": "markdown",
   "metadata": {},
   "source": [
    "#### [LC 21 - Merge two sorted list](https://leetcode.com/problems/merge-two-sorted-lists/description/)\n",
    "\n",
    "You are given the heads of two sorted linked lists list1 and list2.\n",
    "\n",
    "Merge the two lists into one sorted list. The list should be made by splicing together the nodes of the first two lists.\n",
    "\n",
    "Return the head of the merged linked list.\n",
    "\n"
   ]
  },
  {
   "cell_type": "code",
   "execution_count": null,
   "metadata": {},
   "outputs": [],
   "source": [
    "class Solution:\n",
    "    def mergeTwoLists(self, list1: Optional[ListNode], list2: Optional[ListNode]) -> Optional[ListNode]:\n",
    "        dummy = node = ListNode()\n",
    "\n",
    "        while list1 and list2:\n",
    "            if list1.val < list2.val:\n",
    "                node.next = list1\n",
    "                list1 = list1.next\n",
    "            else:\n",
    "                node.next = list2\n",
    "                list2 = list2.next\n",
    "            node = node.next\n",
    "        \n",
    "        node.next = list1 or list2\n",
    "\n",
    "        return dummy.next\n"
   ]
  },
  {
   "cell_type": "code",
   "execution_count": null,
   "metadata": {},
   "outputs": [],
   "source": [
    "class Solution:\n",
    "    def mergeTwoLists(self, list1: Optional[ListNode], list2: Optional[ListNode]) -> Optional[ListNode]:\n",
    "        if not list1:\n",
    "            return list2\n",
    "        if not list2:\n",
    "            return list1\n",
    "        lil, big = (list1, list2) if list1.val < list2.val else (list2, list1)\n",
    "        lil.next = self.mergeTwoLists(lil.next, big)\n",
    "        return lil"
   ]
  }
 ],
 "metadata": {
  "kernelspec": {
   "display_name": "Python 3",
   "language": "python",
   "name": "python3"
  },
  "language_info": {
   "codemirror_mode": {
    "name": "ipython",
    "version": 3
   },
   "file_extension": ".py",
   "mimetype": "text/x-python",
   "name": "python",
   "nbconvert_exporter": "python",
   "pygments_lexer": "ipython3",
   "version": "3.11.6"
  }
 },
 "nbformat": 4,
 "nbformat_minor": 2
}
