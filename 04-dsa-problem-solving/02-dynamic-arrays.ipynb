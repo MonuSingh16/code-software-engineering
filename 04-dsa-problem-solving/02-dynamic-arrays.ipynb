{
 "cells": [
  {
   "cell_type": "markdown",
   "metadata": {},
   "source": [
    "#### Dynamic Arrays - \n",
    "\n",
    "Dynamic Arrays are much more common and useful because of their ability to be resized. The difference between static and dynamic arrays is that we don’t have to specify a size upon initialization.\n",
    "\n",
    "#### Mechanics of dynamic array\n",
    "\n",
    "When inserting into a dynamic array, the operating system finds the next empty space and pushes the element into it. For the sake of an example, let’s take an array of size 3 and push elements into it until we run out of space"
   ]
  },
  {
   "cell_type": "code",
   "execution_count": 1,
   "metadata": {},
   "outputs": [],
   "source": [
    "# insert n in the last position of the array\n",
    "def pushback(self, n):\n",
    "    if self.length == self.capacity:\n",
    "        self.resize()\n",
    "\n",
    "    # insert at next empty position\n",
    "    self.arr[self.length] = n\n",
    "    self.length += 1    "
   ]
  },
  {
   "cell_type": "markdown",
   "metadata": {},
   "source": [
    "Since the array is dynamic, adding another element when we run out of capacity is achieved by copying over the values to a new array that is double the original size - this means that the resulting array will be of size 6 and will have new space allocated for it in memory. "
   ]
  },
  {
   "cell_type": "code",
   "execution_count": 2,
   "metadata": {},
   "outputs": [],
   "source": [
    "def resize(self):\n",
    "    # Create a new array of size 2 * capacity\n",
    "    self.capacity = 2 * self.capacity\n",
    "    newArr = [0] * self.capacity\n",
    "\n",
    "    # Copy elements into newArr\n",
    "    for i in range(self.lenght):\n",
    "        newArr[i] = self.arr[i]\n",
    "    \n",
    "    self.arr = newArr\n"
   ]
  },
  {
   "cell_type": "markdown",
   "metadata": {},
   "source": [
    "> When all the elements from the first array have been copied over, it does not make sense to keep it in memory - this space will be deallocated.\n",
    "\n",
    "This operation will run in amortized $O(1)$. Amortized time complexity is the average time taken per operation, that once it happens, it won’t happen again for so long that the cost becomes “amortized”. This makes sense because it is not always that the array needs to be resized, in which case we would perform $O(n)$ operations."
   ]
  },
  {
   "cell_type": "markdown",
   "metadata": {},
   "source": [
    "#### Why double the capacity ?\n",
    "\n",
    "The visual below shows a resulting array of size 8. Now imagine that we wanted to dynamically fill it up and we started with a size 1 array. We would add 5, double the space to add 6, double that space to add 7 and 8, double that space to add 9, 10, 11, 12.\n",
    "\n",
    "The size of the above array went from $1 -> 2 -> 4 -> 8$.\n",
    "And this makes sense because in order to create the resulting array observed in the visual, we had to create 4 spaces, and then insert 4 elements, which is a total of 8 operations\n",
    "\n",
    "The pattern here is that the last term (the dominating term) is always less than or equal to the sum of all the terms before it. In this case, $1+2+4=7$, and $7<8$. Add in the 8 to the 7, we get a total of 15 operations to create the resulting array of size 8. Generally, the formula is that for any array size $n$, it will take at most $2n$ operations to create, which would belong to $O(n)$."
   ]
  },
  {
   "cell_type": "markdown",
   "metadata": {},
   "source": [
    "When we are talking about the asymptotic analysis, we are more concerned with an unusually large input size, meaning in the worst case, if our input size was extremely large, say, we built an array of size 150,000, asymptotically, there would be no difference between $O(2n)$ and $O(n)$ because if the algorithm performs exactly $2n$ operations, it surely performs at least O(n) operations. Therefore, we drop the constants."
   ]
  },
  {
   "cell_type": "markdown",
   "metadata": {},
   "source": [
    "#### Other operations"
   ]
  },
  {
   "cell_type": "code",
   "execution_count": 3,
   "metadata": {},
   "outputs": [],
   "source": [
    "# Remove the last element in the array\n",
    "def popback(self):\n",
    "    if self.length > 0:\n",
    "        self.lenght -= 1\n",
    "\n",
    "# Get value at the i-index\n",
    "def get(self, i):\n",
    "    if i < self.length:\n",
    "        return self.arr[i]\n",
    "    \n",
    "    # Here we would throw an out of bounds exception\n",
    "\n",
    "# Insert  n at i-th index\n",
    "def insert(self, i, n):\n",
    "    if i < self.length:\n",
    "        self.arr[i] = n\n",
    "        return\n",
    "    # Here we would throw an out of bounds exception\n",
    "\n",
    "\n",
    "def print(self):\n",
    "    for i in range(self.length):\n",
    "        print(self.arr[i])\n",
    "\n",
    "    print()\n",
    "\n"
   ]
  },
  {
   "cell_type": "markdown",
   "metadata": {},
   "source": [
    "### LC - Concatenation of Array\n"
   ]
  },
  {
   "cell_type": "code",
   "execution_count": 4,
   "metadata": {},
   "outputs": [],
   "source": [
    "from typing import List\n",
    "class Solution:\n",
    "    def getConcatenation(self, nums: List[int]) -> List[int]:\n",
    "        ans = []\n",
    "        for i in range(2):\n",
    "            for n in nums:\n",
    "                ans.append(n)\n",
    "        return ans"
   ]
  },
  {
   "cell_type": "code",
   "execution_count": null,
   "metadata": {},
   "outputs": [],
   "source": []
  }
 ],
 "metadata": {
  "kernelspec": {
   "display_name": "Python 3",
   "language": "python",
   "name": "python3"
  },
  "language_info": {
   "codemirror_mode": {
    "name": "ipython",
    "version": 3
   },
   "file_extension": ".py",
   "mimetype": "text/x-python",
   "name": "python",
   "nbconvert_exporter": "python",
   "pygments_lexer": "ipython3",
   "version": "3.11.6"
  }
 },
 "nbformat": 4,
 "nbformat_minor": 2
}
