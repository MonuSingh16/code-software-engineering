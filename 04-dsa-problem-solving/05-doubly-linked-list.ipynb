{
 "cells": [
  {
   "cell_type": "markdown",
   "metadata": {},
   "source": [
    "#### Doubly Linked List\n",
    "\n",
    "We have a prev pointer which points to the previous node, in addition to the `next` pointer. If the `prev` pointer points to null, it is an indication that we are at the start of the linked list."
   ]
  },
  {
   "cell_type": "markdown",
   "metadata": {},
   "source": [
    "#### Insertion\n",
    "\n",
    "Similar to the singly linked list, adding a node to a doubly linked list will run in  O(1) time. Only this time, we have to update the prev pointer as well.\n",
    "\n",
    "For example, looking at the visual below, we have three nodes in our linked list, ListNode1, ListNode2 and ListNode3. Now we have another node, ListNode4, that we wish to insert. We know the we will have to update the next pointer of ListNode3 and the prev pointer of ListNode4. The pseudocode below demonstrates this along with the step by step visual.\n",
    "\n",
    "```py\n",
    "tail.next = ListNode4\n",
    "ListNode4.prev = tail\n",
    "tail = tail.next\n",
    "\n",
    "```"
   ]
  },
  {
   "cell_type": "markdown",
   "metadata": {},
   "source": [
    "#### Deletion\n",
    "\n",
    "Going back to the example with the three nodes, deleting is also a O(1) operation. There is no shifting or traversal required. Instead, in this case adjusting the prev pointer is required. The following pseudocode and visual demonstrate this.\n",
    "\n",
    "```py\n",
    "ListNode2 = tail.prev\n",
    "ListNode2.next = Null \n",
    "tail = ListNode2\n",
    "```\n",
    "\n",
    "You might have figured out that appending and removing from the end of linked lists are both $O(1)$ operations which is similar to the push and pop operations of the stack. As mentioned earlier, a stack is just an abstract interface that can also be implemented using linked lists.\n",
    "\n",
    "If the target node is not the head or the tail, you must arrive at the node before deletion, which is $O(n)"
   ]
  },
  {
   "cell_type": "markdown",
   "metadata": {},
   "source": [
    "#### Access\n",
    "\n",
    "Similar to singly linked lists, we cannot randomly access a node. So in the worst case, we will have to traverse n nodes before reaching the desired node. This operation runs in O(n).\n",
    "\n",
    "Compared to arrays, linked lists are less efficient when accessing a random element due to lack of an in-built index. So while arrays will access in O(1) in all cases, linked lists are limited by O(n) unless you are accessing the head node."
   ]
  },
  {
   "cell_type": "markdown",
   "metadata": {},
   "source": [
    "#### [LC 707 Design a linked list](https://leetcode.com/problems/design-linked-list/description/)\n",
    "\n",
    "Design your implementation of the linked list. You can choose to use a singly or doubly linked list.\n",
    "A node in a singly linked list should have two attributes: val and next. val is the value of the current node, and next is a pointer/reference to the next node."
   ]
  },
  {
   "cell_type": "code",
   "execution_count": 1,
   "metadata": {},
   "outputs": [],
   "source": [
    "class ListNode:\n",
    "    def __init__(self, val):\n",
    "        self.val = val\n",
    "        self.prev = None\n",
    "        self.next = None\n",
    "\n",
    "class MyLinkedList:\n",
    "\n",
    "    def __init__(self):\n",
    "        self.left = ListNode(0)\n",
    "        self.right = ListNode(0)\n",
    "        self.left.next = self.right\n",
    "        self.right.prev = self.left\n",
    "\n",
    "    def get(self, index: int) -> int:\n",
    "        cur = self.left.next\n",
    "        while cur and index > 0:\n",
    "            cur = cur.next\n",
    "            index -= 1\n",
    "        if cur and cur != self.right and index == 0:\n",
    "            return cur.val\n",
    "        return -1 \n",
    "        \n",
    "    def addAtHead(self, val: int) -> None:\n",
    "        node, prev, next = ListNode(val), self.left, self.left.next\n",
    "        node.next, node.prev = next, prev\n",
    "        next.prev = node\n",
    "        prev.next = node\n",
    "\n",
    "    def addAtTail(self, val: int) -> None:\n",
    "        node, prev, next = ListNode(val), self.right.prev, self.right\n",
    "        node.next, node.prev = next, prev\n",
    "        next.prev = node\n",
    "        prev.next = node\n",
    "        \n",
    "\n",
    "    def addAtIndex(self, index: int, val: int) -> None:\n",
    "        next = self.left.next\n",
    "        while next and index > 0:\n",
    "            next = next.next\n",
    "            index -= 1\n",
    "        if next and index == 0:\n",
    "            node, prev = ListNode(val), next.prev\n",
    "            node.next, node.prev = next, prev\n",
    "            next.prev = node\n",
    "            prev.next = node\n",
    "\n",
    "    def deleteAtIndex(self, index: int) -> None:\n",
    "        node = self.left.next\n",
    "        while node and index > 0:\n",
    "            node = node.next\n",
    "            index -= 1\n",
    "        if node and node != self.right and index == 0:\n",
    "            node.prev.next = node.next\n",
    "            node.next.prev = node.prev         \n",
    "\n",
    "\n",
    "# Your MyLinkedList object will be instantiated and called as such:\n",
    "# obj = MyLinkedList()\n",
    "# param_1 = obj.get(index)\n",
    "# obj.addAtHead(val)\n",
    "# obj.addAtTail(val)\n",
    "# obj.addAtIndex(index,val)\n",
    "# obj.deleteAtIndex(index)"
   ]
  }
 ],
 "metadata": {
  "kernelspec": {
   "display_name": "Python 3",
   "language": "python",
   "name": "python3"
  },
  "language_info": {
   "codemirror_mode": {
    "name": "ipython",
    "version": 3
   },
   "file_extension": ".py",
   "mimetype": "text/x-python",
   "name": "python",
   "nbconvert_exporter": "python",
   "pygments_lexer": "ipython3",
   "version": "3.11.6"
  }
 },
 "nbformat": 4,
 "nbformat_minor": 2
}
