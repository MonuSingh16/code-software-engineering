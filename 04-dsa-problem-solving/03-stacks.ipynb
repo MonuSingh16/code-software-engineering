{
 "cells": [
  {
   "cell_type": "markdown",
   "metadata": {},
   "source": [
    "#### Stacks\n",
    "\n",
    "A stack is a data structure that contains a collection of elements where you can add and delete elements from just one end (called the top of the stack). In the physical world, a stack can be conceptualized by thinking of plates at a dinner party buffet.\n",
    "\n",
    "Stacks are a dynamic data structure that operate on a LIFO (Last In First Out) manner. The last element placed inside is the first element that comes out. The stack supports three operations - `push`, `pop`, `peek`.\n"
   ]
  },
  {
   "cell_type": "markdown",
   "metadata": {},
   "source": [
    "#### Push\n",
    "\n",
    "Push operation adds an element to the top of the stack, which in dynamic array terms would be appending an element to the end. This is an efficient $O(1)$ operation as discussed in the previous chapters. It helps to visualize a stack as an array that is vertical. \n",
    "\n",
    "Since a stack will remove elements in the reverse order that it inserted them in, it can be used to reverse sequences - such as a string, which is just a sequence of characters."
   ]
  },
  {
   "cell_type": "code",
   "execution_count": null,
   "metadata": {},
   "outputs": [],
   "source": [
    "def push(self, n):\n",
    "    # using the pushback function from dynamic arrays to add to the stack\n",
    "    self.stack.append(n)"
   ]
  },
  {
   "cell_type": "markdown",
   "metadata": {},
   "source": [
    "#### Pop\n",
    "\n",
    "Pop operation removes the last element from top of the stack, which in dynamic array terms would be retrieving the last element. This is also an efficient $O(1)$ operation as discussed in the previous chapters. "
   ]
  },
  {
   "cell_type": "code",
   "execution_count": null,
   "metadata": {},
   "outputs": [],
   "source": [
    "def pop(self):\n",
    "    return self.stack.pop()"
   ]
  },
  {
   "cell_type": "markdown",
   "metadata": {},
   "source": [
    "#### Peek\n",
    "\n",
    "Peek is the simplest of three. It just returns, without removing, the top most element.\n"
   ]
  },
  {
   "cell_type": "code",
   "execution_count": 1,
   "metadata": {},
   "outputs": [],
   "source": [
    "def peek(self):\n",
    "    return self.stack[-1]"
   ]
  },
  {
   "cell_type": "markdown",
   "metadata": {},
   "source": [
    "#### [LC 155 - Min Stack](https://leetcode.com/problems/min-stack/description/)\n",
    "\n",
    "Design a stack that supports push, pop, top, and retrieving the minimum element in constant time."
   ]
  },
  {
   "cell_type": "code",
   "execution_count": 2,
   "metadata": {},
   "outputs": [],
   "source": [
    "class MinStack:\n",
    "\n",
    "    def __init__(self):\n",
    "        self.stack = []\n",
    "        self.minStack = []\n",
    "        \n",
    "    def push(self, val: int) -> None:\n",
    "        self.stack.append(val)\n",
    "        # Initialize our value to minimum at the time\n",
    "        val = min(val, self.minStack[-1] if self.minStack else val)\n",
    "        # We are onlu pushing minimum value the time between stack and value\n",
    "        self.minStack.append(val)\n",
    "\n",
    "    def pop(self) -> None:\n",
    "        self.stack.pop()\n",
    "        self.minStack.pop()\n",
    "        \n",
    "    def top(self) -> int:\n",
    "        return self.stack[-1]\n",
    "        \n",
    "    def getMin(self) -> int:\n",
    "        return self.minStack[-1]        \n",
    "\n",
    "\n",
    "# Your MinStack object will be instantiated and called as such:\n",
    "# obj = MinStack()\n",
    "# obj.push(val)\n",
    "# obj.pop()\n",
    "# param_3 = obj.top()\n",
    "# param_4 = obj.getMin()"
   ]
  },
  {
   "cell_type": "markdown",
   "metadata": {},
   "source": [
    "#### [LC 20 - Valid Parentheses](https://leetcode.com/problems/valid-parentheses/description/)\n",
    "\n",
    "Given a string s containing just the characters '(', ')', '{', '}', '[' and ']', determine if the input string is valid.\n",
    "\n",
    "An input string is valid if:\n",
    "\n",
    "1. Open brackets must be closed by the same type of brackets.\n",
    "2. Open brackets must be closed in the correct order.\n",
    "3. Every close bracket has a corresponding open bracket of the same type.\n"
   ]
  },
  {
   "cell_type": "code",
   "execution_count": 3,
   "metadata": {},
   "outputs": [],
   "source": [
    "class Solution:\n",
    "    def isValid(self, s:str) -> bool:\n",
    "        Map = {')':'(', '}':'{', ']':'['}\n",
    "        stack = []\n",
    "\n",
    "        for c in s:\n",
    "            if c not in Map:\n",
    "                stack.append(c)\n",
    "                continue\n",
    "            if not stack or stack[-1] != Map[c]:\n",
    "                return False\n",
    "            stack.pop()\n",
    "\n",
    "        return not stack"
   ]
  },
  {
   "cell_type": "markdown",
   "metadata": {},
   "source": [
    "#### [LC 682 - Baseball Game](https://leetcode.com/problems/baseball-game/description/)\n",
    "\n",
    "You are keeping the scores for a baseball game with strange rules. At the beginning of the game, you start with an empty record.\n",
    "\n",
    "You are given a list of strings operations, where operations[i] is the ith operation you must apply to the record and is one of the following:\n"
   ]
  },
  {
   "cell_type": "code",
   "execution_count": 5,
   "metadata": {},
   "outputs": [],
   "source": [
    "from typing import List\n",
    "class Solution:\n",
    "    def calPoints(self, operations: List[str]) -> int:\n",
    "        score_stack = []\n",
    "\n",
    "        # it is +, D, or C\n",
    "        # if stack isn't of sufficient length, then operation is voided\n",
    "        for o in operations:\n",
    "            if o == '+' and len(score_stack) >= 2:\n",
    "                score_stack.append(score_stack[-2] + score_stack[-1])\n",
    "            \n",
    "            elif o == 'D' and len(score_stack) >= 1:\n",
    "                doubled = score_stack[-1] * 2\n",
    "                score_stack.append(doubled)\n",
    "            \n",
    "            elif o == 'C' and len(score_stack) >= 1:\n",
    "                score_stack.pop()\n",
    "            \n",
    "            else:\n",
    "                score_stack.append(int(o))\n",
    "        \n",
    "        return sum(score_stack)"
   ]
  },
  {
   "cell_type": "code",
   "execution_count": null,
   "metadata": {},
   "outputs": [],
   "source": []
  }
 ],
 "metadata": {
  "kernelspec": {
   "display_name": "Python 3",
   "language": "python",
   "name": "python3"
  },
  "language_info": {
   "codemirror_mode": {
    "name": "ipython",
    "version": 3
   },
   "file_extension": ".py",
   "mimetype": "text/x-python",
   "name": "python",
   "nbconvert_exporter": "python",
   "pygments_lexer": "ipython3",
   "version": "3.11.6"
  }
 },
 "nbformat": 4,
 "nbformat_minor": 2
}
