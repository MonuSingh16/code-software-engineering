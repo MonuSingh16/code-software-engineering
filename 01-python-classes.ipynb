{
 "cells": [
  {
   "attachments": {},
   "cell_type": "markdown",
   "metadata": {},
   "source": [
    "## Python Classes: The Power of Object-Oriented Programming\n",
    "\n",
    "Python supports the object-oriented programming paradigm through classes. They provide an elegant way to define reusable pieces of code that encapsulate ***data*** and ***behavior*** in a single entity."
   ]
  },
  {
   "attachments": {},
   "cell_type": "markdown",
   "metadata": {},
   "source": [
    "What is a class in Python? A common analogy is that a class is like the blueprint for a house. You can use the blueprint to create several houses and even a complete neighborhood. Each concrete house is an object or instance that’s derived from the blueprint.\n",
    "\n",
    "In Python, attributes are variables defined inside a class with the purpose of storing all the required data for the class to work.\n",
    "\n",
    "Methods are functions that you define within a class. These functions typically operate on or with the attributes of the underlying instance or class. Attributes and methods are collectively referred to as ***members*** of a class or object."
   ]
  },
  {
   "attachments": {},
   "cell_type": "markdown",
   "metadata": {},
   "source": [
    "<p>The sample example of synatx</p>\n",
    "<pre><code>\n",
    "    class ClassName:\n",
    "        # Class body\n",
    "        pass\n",
    "</code></pre>"
   ]
  },
  {
   "cell_type": "code",
   "execution_count": 1,
   "metadata": {},
   "outputs": [],
   "source": [
    "import math\n",
    "\n",
    "\"\"\"\n",
    "Define Circle using the class keyword. \n",
    "Inside the class, you write two methods. \n",
    "The .__init__() method has a special meaning in Python classes. \n",
    "This method is known as the object initializer because it defines and sets the initial values for your attributes.\n",
    "\"\"\"\n",
    "\n",
    "class Circle:\n",
    "    def __init__(self, radius) -> None:\n",
    "        self.radius = radius\n",
    "\n",
    "    def calculate_area(self):\n",
    "        return round(math.pi * self.radius ** 2, 2)\n"
   ]
  },
  {
   "attachments": {},
   "cell_type": "markdown",
   "metadata": {},
   "source": [
    "## Creating Objects From a Class in Python\n",
    "\n",
    "The action of creating concrete objects from an existing class is known as instantiation. With every instantiation, you create a new object of the target class."
   ]
  },
  {
   "cell_type": "code",
   "execution_count": 3,
   "metadata": {},
   "outputs": [
    {
     "data": {
      "text/plain": [
       "<__main__.Circle at 0x1042071d0>"
      ]
     },
     "execution_count": 3,
     "metadata": {},
     "output_type": "execute_result"
    }
   ],
   "source": [
    "\"\"\"\n",
    "To create an object of a Python class like Circle, you must call the Circle() class constructor with a pair of parentheses \n",
    "and a set of appropriate arguments. What arguments? \n",
    "\n",
    "In Python, the class constructor accepts the same arguments as the .__init__() method. \n",
    "In this example, the Circle class expects the radius argument.\n",
    "\"\"\"\n",
    "\n",
    "circle_1 =  Circle(42)\n",
    "circle_1"
   ]
  },
  {
   "cell_type": "code",
   "execution_count": null,
   "metadata": {},
   "outputs": [],
   "source": []
  }
 ],
 "metadata": {
  "kernelspec": {
   "display_name": "venv-tutorials",
   "language": "python",
   "name": "python3"
  },
  "language_info": {
   "codemirror_mode": {
    "name": "ipython",
    "version": 3
   },
   "file_extension": ".py",
   "mimetype": "text/x-python",
   "name": "python",
   "nbconvert_exporter": "python",
   "pygments_lexer": "ipython3",
   "version": "3.11.2"
  },
  "orig_nbformat": 4
 },
 "nbformat": 4,
 "nbformat_minor": 2
}
